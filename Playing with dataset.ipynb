{
 "cells": [
  {
   "cell_type": "code",
   "execution_count": 1,
   "id": "8e51f91d",
   "metadata": {},
   "outputs": [],
   "source": [
    "# handling missing data"
   ]
  },
  {
   "cell_type": "code",
   "execution_count": 3,
   "id": "8eba2ab5",
   "metadata": {},
   "outputs": [],
   "source": [
    "#Dealing with some mathematical functions\n",
    "import math\n",
    "# Dealing with numerical part of python\n",
    "import numpy as np\n",
    "# Dealing with data\n",
    "import pandas as pd\n",
    "\n",
    "# pandas deals with data\n",
    "# numpy deals with numerical part of python\n",
    "# math library deala with the mathematical part of python"
   ]
  },
  {
   "cell_type": "code",
   "execution_count": 7,
   "id": "63524743",
   "metadata": {},
   "outputs": [
    {
     "data": {
      "text/html": [
       "<div>\n",
       "<style scoped>\n",
       "    .dataframe tbody tr th:only-of-type {\n",
       "        vertical-align: middle;\n",
       "    }\n",
       "\n",
       "    .dataframe tbody tr th {\n",
       "        vertical-align: top;\n",
       "    }\n",
       "\n",
       "    .dataframe thead th {\n",
       "        text-align: right;\n",
       "    }\n",
       "</style>\n",
       "<table border=\"1\" class=\"dataframe\">\n",
       "  <thead>\n",
       "    <tr style=\"text-align: right;\">\n",
       "      <th></th>\n",
       "      <th>A</th>\n",
       "      <th>B</th>\n",
       "      <th>C</th>\n",
       "    </tr>\n",
       "  </thead>\n",
       "  <tbody>\n",
       "    <tr>\n",
       "      <th>0</th>\n",
       "      <td>1</td>\n",
       "      <td>4</td>\n",
       "      <td>7</td>\n",
       "    </tr>\n",
       "    <tr>\n",
       "      <th>1</th>\n",
       "      <td>2</td>\n",
       "      <td>5</td>\n",
       "      <td>8</td>\n",
       "    </tr>\n",
       "    <tr>\n",
       "      <th>2</th>\n",
       "      <td>3</td>\n",
       "      <td>6</td>\n",
       "      <td>9</td>\n",
       "    </tr>\n",
       "  </tbody>\n",
       "</table>\n",
       "</div>"
      ],
      "text/plain": [
       "   A  B  C\n",
       "0  1  4  7\n",
       "1  2  5  8\n",
       "2  3  6  9"
      ]
     },
     "execution_count": 7,
     "metadata": {},
     "output_type": "execute_result"
    }
   ],
   "source": [
    "df=pd.DataFrame({'A':[1,2,3], 'B':[4,5,6], 'C':[7,8,9]})\n",
    "df"
   ]
  },
  {
   "cell_type": "code",
   "execution_count": 8,
   "id": "1271c8ef",
   "metadata": {},
   "outputs": [],
   "source": [
    "# Adding more column"
   ]
  },
  {
   "cell_type": "code",
   "execution_count": 59,
   "id": "0921a8f3",
   "metadata": {},
   "outputs": [
    {
     "data": {
      "text/html": [
       "<div>\n",
       "<style scoped>\n",
       "    .dataframe tbody tr th:only-of-type {\n",
       "        vertical-align: middle;\n",
       "    }\n",
       "\n",
       "    .dataframe tbody tr th {\n",
       "        vertical-align: top;\n",
       "    }\n",
       "\n",
       "    .dataframe thead th {\n",
       "        text-align: right;\n",
       "    }\n",
       "</style>\n",
       "<table border=\"1\" class=\"dataframe\">\n",
       "  <thead>\n",
       "    <tr style=\"text-align: right;\">\n",
       "      <th></th>\n",
       "      <th>A</th>\n",
       "      <th>B</th>\n",
       "      <th>C</th>\n",
       "    </tr>\n",
       "  </thead>\n",
       "  <tbody>\n",
       "    <tr>\n",
       "      <th>0</th>\n",
       "      <td>1</td>\n",
       "      <td>5.0</td>\n",
       "      <td>9.0</td>\n",
       "    </tr>\n",
       "    <tr>\n",
       "      <th>1</th>\n",
       "      <td>2</td>\n",
       "      <td>NaN</td>\n",
       "      <td>NaN</td>\n",
       "    </tr>\n",
       "    <tr>\n",
       "      <th>2</th>\n",
       "      <td>3</td>\n",
       "      <td>9.0</td>\n",
       "      <td>NaN</td>\n",
       "    </tr>\n",
       "    <tr>\n",
       "      <th>3</th>\n",
       "      <td>4</td>\n",
       "      <td>9.0</td>\n",
       "      <td>10.0</td>\n",
       "    </tr>\n",
       "  </tbody>\n",
       "</table>\n",
       "</div>"
      ],
      "text/plain": [
       "   A    B     C\n",
       "0  1  5.0   9.0\n",
       "1  2  NaN   NaN\n",
       "2  3  9.0   NaN\n",
       "3  4  9.0  10.0"
      ]
     },
     "execution_count": 59,
     "metadata": {},
     "output_type": "execute_result"
    }
   ],
   "source": [
    "#Dropping all the rows with misssing values\n",
    "import numpy as np\n",
    "import pandas as pd\n",
    "df=pd.DataFrame({'A':[1,2,3,4], 'B':[5,np.nan,9,9], 'C': [9,np.nan, np.nan,10]})\n",
    "df"
   ]
  },
  {
   "cell_type": "code",
   "execution_count": 60,
   "id": "8b9bea9d",
   "metadata": {},
   "outputs": [
    {
     "data": {
      "text/html": [
       "<div>\n",
       "<style scoped>\n",
       "    .dataframe tbody tr th:only-of-type {\n",
       "        vertical-align: middle;\n",
       "    }\n",
       "\n",
       "    .dataframe tbody tr th {\n",
       "        vertical-align: top;\n",
       "    }\n",
       "\n",
       "    .dataframe thead th {\n",
       "        text-align: right;\n",
       "    }\n",
       "</style>\n",
       "<table border=\"1\" class=\"dataframe\">\n",
       "  <thead>\n",
       "    <tr style=\"text-align: right;\">\n",
       "      <th></th>\n",
       "      <th>A</th>\n",
       "      <th>B</th>\n",
       "      <th>C</th>\n",
       "    </tr>\n",
       "  </thead>\n",
       "  <tbody>\n",
       "    <tr>\n",
       "      <th>0</th>\n",
       "      <td>1</td>\n",
       "      <td>5.0</td>\n",
       "      <td>9.0</td>\n",
       "    </tr>\n",
       "    <tr>\n",
       "      <th>3</th>\n",
       "      <td>4</td>\n",
       "      <td>9.0</td>\n",
       "      <td>10.0</td>\n",
       "    </tr>\n",
       "  </tbody>\n",
       "</table>\n",
       "</div>"
      ],
      "text/plain": [
       "   A    B     C\n",
       "0  1  5.0   9.0\n",
       "3  4  9.0  10.0"
      ]
     },
     "execution_count": 60,
     "metadata": {},
     "output_type": "execute_result"
    }
   ],
   "source": [
    "df.dropna()"
   ]
  },
  {
   "cell_type": "code",
   "execution_count": 61,
   "id": "31030e9d",
   "metadata": {},
   "outputs": [
    {
     "data": {
      "text/html": [
       "<div>\n",
       "<style scoped>\n",
       "    .dataframe tbody tr th:only-of-type {\n",
       "        vertical-align: middle;\n",
       "    }\n",
       "\n",
       "    .dataframe tbody tr th {\n",
       "        vertical-align: top;\n",
       "    }\n",
       "\n",
       "    .dataframe thead th {\n",
       "        text-align: right;\n",
       "    }\n",
       "</style>\n",
       "<table border=\"1\" class=\"dataframe\">\n",
       "  <thead>\n",
       "    <tr style=\"text-align: right;\">\n",
       "      <th></th>\n",
       "      <th>A</th>\n",
       "      <th>B</th>\n",
       "      <th>C</th>\n",
       "    </tr>\n",
       "  </thead>\n",
       "  <tbody>\n",
       "    <tr>\n",
       "      <th>0</th>\n",
       "      <td>1</td>\n",
       "      <td>5.0</td>\n",
       "      <td>9.0</td>\n",
       "    </tr>\n",
       "    <tr>\n",
       "      <th>1</th>\n",
       "      <td>2</td>\n",
       "      <td>NaN</td>\n",
       "      <td>NaN</td>\n",
       "    </tr>\n",
       "    <tr>\n",
       "      <th>2</th>\n",
       "      <td>3</td>\n",
       "      <td>9.0</td>\n",
       "      <td>NaN</td>\n",
       "    </tr>\n",
       "    <tr>\n",
       "      <th>3</th>\n",
       "      <td>4</td>\n",
       "      <td>9.0</td>\n",
       "      <td>10.0</td>\n",
       "    </tr>\n",
       "  </tbody>\n",
       "</table>\n",
       "</div>"
      ],
      "text/plain": [
       "   A    B     C\n",
       "0  1  5.0   9.0\n",
       "1  2  NaN   NaN\n",
       "2  3  9.0   NaN\n",
       "3  4  9.0  10.0"
      ]
     },
     "execution_count": 61,
     "metadata": {},
     "output_type": "execute_result"
    }
   ],
   "source": [
    "df"
   ]
  },
  {
   "cell_type": "code",
   "execution_count": 62,
   "id": "7bbce8cf",
   "metadata": {},
   "outputs": [
    {
     "data": {
      "text/html": [
       "<div>\n",
       "<style scoped>\n",
       "    .dataframe tbody tr th:only-of-type {\n",
       "        vertical-align: middle;\n",
       "    }\n",
       "\n",
       "    .dataframe tbody tr th {\n",
       "        vertical-align: top;\n",
       "    }\n",
       "\n",
       "    .dataframe thead th {\n",
       "        text-align: right;\n",
       "    }\n",
       "</style>\n",
       "<table border=\"1\" class=\"dataframe\">\n",
       "  <thead>\n",
       "    <tr style=\"text-align: right;\">\n",
       "      <th></th>\n",
       "      <th>A</th>\n",
       "    </tr>\n",
       "  </thead>\n",
       "  <tbody>\n",
       "    <tr>\n",
       "      <th>0</th>\n",
       "      <td>1</td>\n",
       "    </tr>\n",
       "    <tr>\n",
       "      <th>1</th>\n",
       "      <td>2</td>\n",
       "    </tr>\n",
       "    <tr>\n",
       "      <th>2</th>\n",
       "      <td>3</td>\n",
       "    </tr>\n",
       "    <tr>\n",
       "      <th>3</th>\n",
       "      <td>4</td>\n",
       "    </tr>\n",
       "  </tbody>\n",
       "</table>\n",
       "</div>"
      ],
      "text/plain": [
       "   A\n",
       "0  1\n",
       "1  2\n",
       "2  3\n",
       "3  4"
      ]
     },
     "execution_count": 62,
     "metadata": {},
     "output_type": "execute_result"
    }
   ],
   "source": [
    "# Deleting the columns with nan value\n",
    "df.dropna(axis=1)\n",
    "\n",
    "# Note: The original dataframe remains unaltered"
   ]
  },
  {
   "cell_type": "code",
   "execution_count": 63,
   "id": "0ad13317",
   "metadata": {},
   "outputs": [
    {
     "data": {
      "text/html": [
       "<div>\n",
       "<style scoped>\n",
       "    .dataframe tbody tr th:only-of-type {\n",
       "        vertical-align: middle;\n",
       "    }\n",
       "\n",
       "    .dataframe tbody tr th {\n",
       "        vertical-align: top;\n",
       "    }\n",
       "\n",
       "    .dataframe thead th {\n",
       "        text-align: right;\n",
       "    }\n",
       "</style>\n",
       "<table border=\"1\" class=\"dataframe\">\n",
       "  <thead>\n",
       "    <tr style=\"text-align: right;\">\n",
       "      <th></th>\n",
       "      <th>A</th>\n",
       "      <th>B</th>\n",
       "      <th>C</th>\n",
       "    </tr>\n",
       "  </thead>\n",
       "  <tbody>\n",
       "    <tr>\n",
       "      <th>0</th>\n",
       "      <td>1</td>\n",
       "      <td>5.0</td>\n",
       "      <td>9.0</td>\n",
       "    </tr>\n",
       "    <tr>\n",
       "      <th>1</th>\n",
       "      <td>2</td>\n",
       "      <td>Yikes</td>\n",
       "      <td>Yikes</td>\n",
       "    </tr>\n",
       "    <tr>\n",
       "      <th>2</th>\n",
       "      <td>3</td>\n",
       "      <td>9.0</td>\n",
       "      <td>Yikes</td>\n",
       "    </tr>\n",
       "    <tr>\n",
       "      <th>3</th>\n",
       "      <td>4</td>\n",
       "      <td>9.0</td>\n",
       "      <td>10.0</td>\n",
       "    </tr>\n",
       "  </tbody>\n",
       "</table>\n",
       "</div>"
      ],
      "text/plain": [
       "   A      B      C\n",
       "0  1    5.0    9.0\n",
       "1  2  Yikes  Yikes\n",
       "2  3    9.0  Yikes\n",
       "3  4    9.0   10.0"
      ]
     },
     "execution_count": 63,
     "metadata": {},
     "output_type": "execute_result"
    }
   ],
   "source": [
    "# Replacing the value of nan with something else\n",
    "df.fillna(value=\"Yikes\")"
   ]
  },
  {
   "cell_type": "code",
   "execution_count": 64,
   "id": "5e4adb6f",
   "metadata": {},
   "outputs": [
    {
     "data": {
      "text/plain": [
       "0    5.0\n",
       "1    9.0\n",
       "2    9.0\n",
       "3    9.0\n",
       "Name: B, dtype: float64"
      ]
     },
     "execution_count": 64,
     "metadata": {},
     "output_type": "execute_result"
    }
   ],
   "source": [
    "# Imputing with mean median and mode\n",
    "df['B'].fillna(value=df['B'].median())"
   ]
  },
  {
   "cell_type": "code",
   "execution_count": null,
   "id": "95700d53",
   "metadata": {},
   "outputs": [],
   "source": [
    "# df['A'].fillna(value)"
   ]
  },
  {
   "cell_type": "code",
   "execution_count": 71,
   "id": "2942d85e",
   "metadata": {},
   "outputs": [
    {
     "data": {
      "text/plain": [
       "0    5.000000\n",
       "1    7.666667\n",
       "2    9.000000\n",
       "3    9.000000\n",
       "Name: B, dtype: float64"
      ]
     },
     "execution_count": 71,
     "metadata": {},
     "output_type": "execute_result"
    }
   ],
   "source": [
    "df['B'].fillna(value=df['B'].mean())"
   ]
  },
  {
   "cell_type": "code",
   "execution_count": 69,
   "id": "973c6bb9",
   "metadata": {},
   "outputs": [
    {
     "data": {
      "text/plain": [
       "0    5.0\n",
       "1    NaN\n",
       "2    9.0\n",
       "3    9.0\n",
       "Name: B, dtype: float64"
      ]
     },
     "execution_count": 69,
     "metadata": {},
     "output_type": "execute_result"
    }
   ],
   "source": [
    "df['B'].fillna(value=df['B'].mode())"
   ]
  },
  {
   "cell_type": "code",
   "execution_count": 72,
   "id": "7b64441a",
   "metadata": {},
   "outputs": [],
   "source": [
    "# Imputing using imputer\n",
    "# For this we will have to import sklearn library\n",
    "# and from sklearn library we will have to download Simpleimputer module"
   ]
  },
  {
   "cell_type": "code",
   "execution_count": 73,
   "id": "fdbb428a",
   "metadata": {},
   "outputs": [
    {
     "data": {
      "text/html": [
       "<div>\n",
       "<style scoped>\n",
       "    .dataframe tbody tr th:only-of-type {\n",
       "        vertical-align: middle;\n",
       "    }\n",
       "\n",
       "    .dataframe tbody tr th {\n",
       "        vertical-align: top;\n",
       "    }\n",
       "\n",
       "    .dataframe thead th {\n",
       "        text-align: right;\n",
       "    }\n",
       "</style>\n",
       "<table border=\"1\" class=\"dataframe\">\n",
       "  <thead>\n",
       "    <tr style=\"text-align: right;\">\n",
       "      <th></th>\n",
       "      <th>A</th>\n",
       "      <th>B</th>\n",
       "      <th>C</th>\n",
       "    </tr>\n",
       "  </thead>\n",
       "  <tbody>\n",
       "    <tr>\n",
       "      <th>0</th>\n",
       "      <td>1</td>\n",
       "      <td>5.0</td>\n",
       "      <td>9.0</td>\n",
       "    </tr>\n",
       "    <tr>\n",
       "      <th>1</th>\n",
       "      <td>2</td>\n",
       "      <td>NaN</td>\n",
       "      <td>NaN</td>\n",
       "    </tr>\n",
       "    <tr>\n",
       "      <th>2</th>\n",
       "      <td>3</td>\n",
       "      <td>9.0</td>\n",
       "      <td>NaN</td>\n",
       "    </tr>\n",
       "    <tr>\n",
       "      <th>3</th>\n",
       "      <td>4</td>\n",
       "      <td>9.0</td>\n",
       "      <td>10.0</td>\n",
       "    </tr>\n",
       "  </tbody>\n",
       "</table>\n",
       "</div>"
      ],
      "text/plain": [
       "   A    B     C\n",
       "0  1  5.0   9.0\n",
       "1  2  NaN   NaN\n",
       "2  3  9.0   NaN\n",
       "3  4  9.0  10.0"
      ]
     },
     "execution_count": 73,
     "metadata": {},
     "output_type": "execute_result"
    }
   ],
   "source": [
    "df"
   ]
  },
  {
   "cell_type": "code",
   "execution_count": 81,
   "id": "e7f134ba",
   "metadata": {},
   "outputs": [
    {
     "name": "stdout",
     "output_type": "stream",
     "text": [
      "[[ 1.    5.    9.  ]\n",
      " [ 2.    7.67  9.5 ]\n",
      " [ 3.    9.    9.5 ]\n",
      " [ 4.    9.   10.  ]]\n"
     ]
    }
   ],
   "source": [
    "from sklearn.impute import SimpleImputer\n",
    "df1=SimpleImputer(missing_values=np.nan, strategy='mean')\n",
    "df1=df1.fit(df)\n",
    "imputed_data=df1.transform(df.values)\n",
    "print(imputed_data.round(decimals=2))"
   ]
  },
  {
   "cell_type": "code",
   "execution_count": 82,
   "id": "075ee00c",
   "metadata": {},
   "outputs": [
    {
     "data": {
      "text/plain": [
       "array([[ 1. ,  5. ,  9. ],\n",
       "       [ 2. ,  9. ,  9.5],\n",
       "       [ 3. ,  9. ,  9.5],\n",
       "       [ 4. ,  9. , 10. ]])"
      ]
     },
     "execution_count": 82,
     "metadata": {},
     "output_type": "execute_result"
    }
   ],
   "source": [
    "from sklearn.impute import SimpleImputer\n",
    "df2=SimpleImputer(missing_values=np.nan, strategy=\"median\")\n",
    "df2=df2.fit(df)\n",
    "imputed_data_new=df2.transform(df.values)\n",
    "imputed_data_new"
   ]
  },
  {
   "cell_type": "code",
   "execution_count": 93,
   "id": "65ecd008",
   "metadata": {},
   "outputs": [
    {
     "data": {
      "text/plain": [
       "array([[ 1.,  5.,  9.],\n",
       "       [ 2.,  9.,  9.],\n",
       "       [ 3.,  9.,  9.],\n",
       "       [ 4.,  9., 10.]])"
      ]
     },
     "execution_count": 93,
     "metadata": {},
     "output_type": "execute_result"
    }
   ],
   "source": [
    "from sklearn.impute import SimpleImputer\n",
    "df3=SimpleImputer(missing_values=np.nan, strategy=\"most_frequent\")\n",
    "#df3=df3.fit(df)\n",
    "imputed_data_mode=df3.fit_transform(df.values)\n",
    "imputed_data_mode"
   ]
  },
  {
   "cell_type": "code",
   "execution_count": 85,
   "id": "fee13362",
   "metadata": {},
   "outputs": [],
   "source": [
    "# Dealing with encoders"
   ]
  },
  {
   "cell_type": "code",
   "execution_count": 86,
   "id": "131fdf5d",
   "metadata": {},
   "outputs": [],
   "source": [
    "# Three types of Encoders= LabelEncoder, OneHotEncoder, random values\n",
    "# LabelEncoding is basically assigning categorical values to the variables\n",
    "# OneHotEncoding whereas assigns 1 for presence and 0 for absence"
   ]
  },
  {
   "cell_type": "code",
   "execution_count": 107,
   "id": "b0628611",
   "metadata": {},
   "outputs": [
    {
     "name": "stdout",
     "output_type": "stream",
     "text": [
      "    gender\n",
      "0   female\n",
      "1   female\n",
      "2   female\n",
      "3     male\n",
      "4     male\n",
      "5     male\n",
      "6     male\n",
      "7    trans\n",
      "8    trans\n",
      "9    trans\n",
      "10    robo\n",
      "11    robo\n",
      "12    robo\n",
      "    gender\n",
      "0        0\n",
      "1        0\n",
      "2        0\n",
      "3        1\n",
      "4        1\n",
      "5        1\n",
      "6        1\n",
      "7        3\n",
      "8        3\n",
      "9        3\n",
      "10       2\n",
      "11       2\n",
      "12       2\n"
     ]
    }
   ],
   "source": [
    "# LableEncoding= Assigning Cateorical values to the data\n",
    "import numpy as np\n",
    "import pandas as pd\n",
    "df=pd.DataFrame('female female female male male male male trans trans trans robo robo robo'.split(),columns=['gender'])\n",
    "print(df)\n",
    "\n",
    "from sklearn.preprocessing import LabelEncoder\n",
    "le=LabelEncoder()\n",
    "df['gender']=le.fit_transform(df['gender'].values)\n",
    "print(df)\n"
   ]
  },
  {
   "cell_type": "code",
   "execution_count": 108,
   "id": "864cb6d8",
   "metadata": {},
   "outputs": [],
   "source": [
    "# Doing the same thing with another data"
   ]
  },
  {
   "cell_type": "code",
   "execution_count": 112,
   "id": "afb9f775",
   "metadata": {},
   "outputs": [
    {
     "name": "stdout",
     "output_type": "stream",
     "text": [
      "   Letters\n",
      "0        A\n",
      "1        A\n",
      "2        A\n",
      "3        B\n",
      "4        B\n",
      "5        B\n",
      "6        A\n",
      "7        A\n",
      "8        A\n",
      "9        C\n",
      "10       C\n",
      "11       C\n",
      "    Letters\n",
      "0         0\n",
      "1         0\n",
      "2         0\n",
      "3         1\n",
      "4         1\n",
      "5         1\n",
      "6         0\n",
      "7         0\n",
      "8         0\n",
      "9         2\n",
      "10        2\n",
      "11        2\n"
     ]
    }
   ],
   "source": [
    "import numpy as np\n",
    "# For dealing with numerical array type of data\n",
    "import pandas as pd\n",
    "# For dealing with dataframes\n",
    "df=pd.DataFrame('A A A B B B A A A C C C'.split(),columns=['Letters'])\n",
    "print(df)\n",
    "\n",
    "# Now performing LabelEncoding\n",
    "from sklearn.preprocessing import LabelEncoder\n",
    "le=LabelEncoder()\n",
    "df['Letters']=le.fit_transform(df['Letters'].values)\n",
    "print(df)"
   ]
  },
  {
   "cell_type": "code",
   "execution_count": 113,
   "id": "c92d9b07",
   "metadata": {},
   "outputs": [],
   "source": [
    "# OneHot Encoding \n",
    "# This is the type of encoding where the variables are assigned \n",
    "# 0 or 1 depending on whether they are present or not"
   ]
  },
  {
   "cell_type": "code",
   "execution_count": 115,
   "id": "b34770dc",
   "metadata": {},
   "outputs": [
    {
     "name": "stdout",
     "output_type": "stream",
     "text": [
      "   Part\n",
      "0     0\n",
      "1     1\n",
      "2     0\n",
      "3     1\n",
      "4     0\n",
      "5     1\n",
      "6     0\n",
      "7     1\n",
      "8     1\n",
      "9     1\n"
     ]
    }
   ],
   "source": [
    "import numpy as np\n",
    "import pandas as pd\n",
    "df=pd.DataFrame('head toe head toe head toe head toe toe toe'.split(),columns=['Part'])\n",
    "le=LabelEncoder()\n",
    "df['Part']=le.fit_transform(df['Part'].values)\n",
    "print(df)\n",
    "\n",
    "from sklearn.preprocessing import OneHotEncoder\n",
    "from sklearn.compose import ColumnTransformer\n",
    "columntransformer "
   ]
  },
  {
   "cell_type": "markdown",
   "id": "cc78844a",
   "metadata": {},
   "source": [
    "## Reading data"
   ]
  },
  {
   "cell_type": "code",
   "execution_count": 1,
   "id": "4084fedd",
   "metadata": {},
   "outputs": [],
   "source": [
    "import sqlite3 as sq3\n",
    "import pandas.io.sql as pds\n",
    "import pandas as pd"
   ]
  },
  {
   "cell_type": "code",
   "execution_count": 2,
   "id": "3dc706cd",
   "metadata": {},
   "outputs": [],
   "source": [
    "import os\n",
    "import numpy as np\n",
    "import pandas as pd"
   ]
  },
  {
   "cell_type": "code",
   "execution_count": 5,
   "id": "ecd01ad2",
   "metadata": {},
   "outputs": [
    {
     "data": {
      "text/html": [
       "<div>\n",
       "<style scoped>\n",
       "    .dataframe tbody tr th:only-of-type {\n",
       "        vertical-align: middle;\n",
       "    }\n",
       "\n",
       "    .dataframe tbody tr th {\n",
       "        vertical-align: top;\n",
       "    }\n",
       "\n",
       "    .dataframe thead th {\n",
       "        text-align: right;\n",
       "    }\n",
       "</style>\n",
       "<table border=\"1\" class=\"dataframe\">\n",
       "  <thead>\n",
       "    <tr style=\"text-align: right;\">\n",
       "      <th></th>\n",
       "      <th>Fixed Acidity</th>\n",
       "      <th>Volatile Acidity</th>\n",
       "      <th>Citric Acid</th>\n",
       "      <th>Residual Sugar</th>\n",
       "      <th>Chlorides</th>\n",
       "      <th>Free Sulfur Dioxide</th>\n",
       "      <th>Total Sulfur Dioxide</th>\n",
       "      <th>Density</th>\n",
       "      <th>pH</th>\n",
       "      <th>Sulphates</th>\n",
       "      <th>Alcohol</th>\n",
       "      <th>Quality</th>\n",
       "    </tr>\n",
       "  </thead>\n",
       "  <tbody>\n",
       "    <tr>\n",
       "      <th>0</th>\n",
       "      <td>6.5</td>\n",
       "      <td>0.270</td>\n",
       "      <td>0.26</td>\n",
       "      <td>11.00</td>\n",
       "      <td>0.030</td>\n",
       "      <td>2.0</td>\n",
       "      <td>82.0</td>\n",
       "      <td>0.99402</td>\n",
       "      <td>3.07</td>\n",
       "      <td>0.36</td>\n",
       "      <td>11.2</td>\n",
       "      <td>5</td>\n",
       "    </tr>\n",
       "    <tr>\n",
       "      <th>1</th>\n",
       "      <td>5.8</td>\n",
       "      <td>0.360</td>\n",
       "      <td>0.38</td>\n",
       "      <td>0.90</td>\n",
       "      <td>0.037</td>\n",
       "      <td>3.0</td>\n",
       "      <td>75.0</td>\n",
       "      <td>0.99040</td>\n",
       "      <td>3.28</td>\n",
       "      <td>0.34</td>\n",
       "      <td>11.4</td>\n",
       "      <td>4</td>\n",
       "    </tr>\n",
       "    <tr>\n",
       "      <th>2</th>\n",
       "      <td>7.2</td>\n",
       "      <td>0.310</td>\n",
       "      <td>0.46</td>\n",
       "      <td>5.00</td>\n",
       "      <td>0.040</td>\n",
       "      <td>3.0</td>\n",
       "      <td>29.0</td>\n",
       "      <td>0.99060</td>\n",
       "      <td>3.04</td>\n",
       "      <td>0.53</td>\n",
       "      <td>12.5</td>\n",
       "      <td>4</td>\n",
       "    </tr>\n",
       "    <tr>\n",
       "      <th>3</th>\n",
       "      <td>7.2</td>\n",
       "      <td>0.240</td>\n",
       "      <td>0.34</td>\n",
       "      <td>1.10</td>\n",
       "      <td>0.045</td>\n",
       "      <td>3.0</td>\n",
       "      <td>64.0</td>\n",
       "      <td>0.99130</td>\n",
       "      <td>3.23</td>\n",
       "      <td>0.51</td>\n",
       "      <td>11.4</td>\n",
       "      <td>5</td>\n",
       "    </tr>\n",
       "    <tr>\n",
       "      <th>4</th>\n",
       "      <td>7.1</td>\n",
       "      <td>0.270</td>\n",
       "      <td>0.28</td>\n",
       "      <td>1.25</td>\n",
       "      <td>0.023</td>\n",
       "      <td>3.0</td>\n",
       "      <td>89.0</td>\n",
       "      <td>0.98993</td>\n",
       "      <td>2.95</td>\n",
       "      <td>0.30</td>\n",
       "      <td>11.4</td>\n",
       "      <td>4</td>\n",
       "    </tr>\n",
       "    <tr>\n",
       "      <th>...</th>\n",
       "      <td>...</td>\n",
       "      <td>...</td>\n",
       "      <td>...</td>\n",
       "      <td>...</td>\n",
       "      <td>...</td>\n",
       "      <td>...</td>\n",
       "      <td>...</td>\n",
       "      <td>...</td>\n",
       "      <td>...</td>\n",
       "      <td>...</td>\n",
       "      <td>...</td>\n",
       "      <td>...</td>\n",
       "    </tr>\n",
       "    <tr>\n",
       "      <th>4893</th>\n",
       "      <td>7.5</td>\n",
       "      <td>0.230</td>\n",
       "      <td>0.35</td>\n",
       "      <td>17.80</td>\n",
       "      <td>0.058</td>\n",
       "      <td>128.0</td>\n",
       "      <td>212.0</td>\n",
       "      <td>1.00241</td>\n",
       "      <td>3.44</td>\n",
       "      <td>0.43</td>\n",
       "      <td>8.9</td>\n",
       "      <td>5</td>\n",
       "    </tr>\n",
       "    <tr>\n",
       "      <th>4894</th>\n",
       "      <td>7.5</td>\n",
       "      <td>0.270</td>\n",
       "      <td>0.31</td>\n",
       "      <td>5.80</td>\n",
       "      <td>0.057</td>\n",
       "      <td>131.0</td>\n",
       "      <td>313.0</td>\n",
       "      <td>0.99460</td>\n",
       "      <td>3.18</td>\n",
       "      <td>0.59</td>\n",
       "      <td>10.5</td>\n",
       "      <td>5</td>\n",
       "    </tr>\n",
       "    <tr>\n",
       "      <th>4895</th>\n",
       "      <td>6.2</td>\n",
       "      <td>0.255</td>\n",
       "      <td>0.24</td>\n",
       "      <td>1.70</td>\n",
       "      <td>0.039</td>\n",
       "      <td>138.5</td>\n",
       "      <td>272.0</td>\n",
       "      <td>0.99452</td>\n",
       "      <td>3.53</td>\n",
       "      <td>0.53</td>\n",
       "      <td>9.6</td>\n",
       "      <td>4</td>\n",
       "    </tr>\n",
       "    <tr>\n",
       "      <th>4896</th>\n",
       "      <td>7.1</td>\n",
       "      <td>0.490</td>\n",
       "      <td>0.22</td>\n",
       "      <td>2.00</td>\n",
       "      <td>0.047</td>\n",
       "      <td>146.5</td>\n",
       "      <td>307.5</td>\n",
       "      <td>0.99240</td>\n",
       "      <td>3.24</td>\n",
       "      <td>0.37</td>\n",
       "      <td>11.0</td>\n",
       "      <td>3</td>\n",
       "    </tr>\n",
       "    <tr>\n",
       "      <th>4897</th>\n",
       "      <td>6.1</td>\n",
       "      <td>0.260</td>\n",
       "      <td>0.25</td>\n",
       "      <td>2.90</td>\n",
       "      <td>0.047</td>\n",
       "      <td>289.0</td>\n",
       "      <td>440.0</td>\n",
       "      <td>0.99314</td>\n",
       "      <td>3.44</td>\n",
       "      <td>0.64</td>\n",
       "      <td>10.5</td>\n",
       "      <td>3</td>\n",
       "    </tr>\n",
       "  </tbody>\n",
       "</table>\n",
       "<p>4898 rows × 12 columns</p>\n",
       "</div>"
      ],
      "text/plain": [
       "      Fixed Acidity  Volatile Acidity  Citric Acid  Residual Sugar  Chlorides  \\\n",
       "0               6.5             0.270         0.26           11.00      0.030   \n",
       "1               5.8             0.360         0.38            0.90      0.037   \n",
       "2               7.2             0.310         0.46            5.00      0.040   \n",
       "3               7.2             0.240         0.34            1.10      0.045   \n",
       "4               7.1             0.270         0.28            1.25      0.023   \n",
       "...             ...               ...          ...             ...        ...   \n",
       "4893            7.5             0.230         0.35           17.80      0.058   \n",
       "4894            7.5             0.270         0.31            5.80      0.057   \n",
       "4895            6.2             0.255         0.24            1.70      0.039   \n",
       "4896            7.1             0.490         0.22            2.00      0.047   \n",
       "4897            6.1             0.260         0.25            2.90      0.047   \n",
       "\n",
       "      Free Sulfur Dioxide  Total Sulfur Dioxide  Density    pH  Sulphates  \\\n",
       "0                     2.0                  82.0  0.99402  3.07       0.36   \n",
       "1                     3.0                  75.0  0.99040  3.28       0.34   \n",
       "2                     3.0                  29.0  0.99060  3.04       0.53   \n",
       "3                     3.0                  64.0  0.99130  3.23       0.51   \n",
       "4                     3.0                  89.0  0.98993  2.95       0.30   \n",
       "...                   ...                   ...      ...   ...        ...   \n",
       "4893                128.0                 212.0  1.00241  3.44       0.43   \n",
       "4894                131.0                 313.0  0.99460  3.18       0.59   \n",
       "4895                138.5                 272.0  0.99452  3.53       0.53   \n",
       "4896                146.5                 307.5  0.99240  3.24       0.37   \n",
       "4897                289.0                 440.0  0.99314  3.44       0.64   \n",
       "\n",
       "      Alcohol  Quality  \n",
       "0        11.2        5  \n",
       "1        11.4        4  \n",
       "2        12.5        4  \n",
       "3        11.4        5  \n",
       "4        11.4        4  \n",
       "...       ...      ...  \n",
       "4893      8.9        5  \n",
       "4894     10.5        5  \n",
       "4895      9.6        4  \n",
       "4896     11.0        3  \n",
       "4897     10.5        3  \n",
       "\n",
       "[4898 rows x 12 columns]"
      ]
     },
     "execution_count": 5,
     "metadata": {},
     "output_type": "execute_result"
    }
   ],
   "source": [
    "df=pd.read_csv(\"wine_quality.csv\")\n",
    "df\n"
   ]
  },
  {
   "cell_type": "code",
   "execution_count": 6,
   "id": "50d28c1c",
   "metadata": {},
   "outputs": [
    {
     "data": {
      "text/html": [
       "<div>\n",
       "<style scoped>\n",
       "    .dataframe tbody tr th:only-of-type {\n",
       "        vertical-align: middle;\n",
       "    }\n",
       "\n",
       "    .dataframe tbody tr th {\n",
       "        vertical-align: top;\n",
       "    }\n",
       "\n",
       "    .dataframe thead th {\n",
       "        text-align: right;\n",
       "    }\n",
       "</style>\n",
       "<table border=\"1\" class=\"dataframe\">\n",
       "  <thead>\n",
       "    <tr style=\"text-align: right;\">\n",
       "      <th></th>\n",
       "      <th>Fixed Acidity</th>\n",
       "      <th>Volatile Acidity</th>\n",
       "      <th>Citric Acid</th>\n",
       "      <th>Residual Sugar</th>\n",
       "      <th>Chlorides</th>\n",
       "      <th>Free Sulfur Dioxide</th>\n",
       "      <th>Total Sulfur Dioxide</th>\n",
       "      <th>Density</th>\n",
       "      <th>pH</th>\n",
       "      <th>Sulphates</th>\n",
       "      <th>Alcohol</th>\n",
       "      <th>Quality</th>\n",
       "    </tr>\n",
       "  </thead>\n",
       "  <tbody>\n",
       "    <tr>\n",
       "      <th>0</th>\n",
       "      <td>6.5</td>\n",
       "      <td>0.270</td>\n",
       "      <td>0.26</td>\n",
       "      <td>11.00</td>\n",
       "      <td>0.030</td>\n",
       "      <td>2.0</td>\n",
       "      <td>82.0</td>\n",
       "      <td>0.99402</td>\n",
       "      <td>3.07</td>\n",
       "      <td>0.36</td>\n",
       "      <td>11.2</td>\n",
       "      <td>5</td>\n",
       "    </tr>\n",
       "    <tr>\n",
       "      <th>1</th>\n",
       "      <td>5.8</td>\n",
       "      <td>0.360</td>\n",
       "      <td>0.38</td>\n",
       "      <td>0.90</td>\n",
       "      <td>0.037</td>\n",
       "      <td>3.0</td>\n",
       "      <td>75.0</td>\n",
       "      <td>0.99040</td>\n",
       "      <td>3.28</td>\n",
       "      <td>0.34</td>\n",
       "      <td>11.4</td>\n",
       "      <td>4</td>\n",
       "    </tr>\n",
       "    <tr>\n",
       "      <th>2</th>\n",
       "      <td>7.2</td>\n",
       "      <td>0.310</td>\n",
       "      <td>0.46</td>\n",
       "      <td>5.00</td>\n",
       "      <td>0.040</td>\n",
       "      <td>3.0</td>\n",
       "      <td>29.0</td>\n",
       "      <td>0.99060</td>\n",
       "      <td>3.04</td>\n",
       "      <td>0.53</td>\n",
       "      <td>12.5</td>\n",
       "      <td>4</td>\n",
       "    </tr>\n",
       "    <tr>\n",
       "      <th>3</th>\n",
       "      <td>7.2</td>\n",
       "      <td>0.240</td>\n",
       "      <td>0.34</td>\n",
       "      <td>1.10</td>\n",
       "      <td>0.045</td>\n",
       "      <td>3.0</td>\n",
       "      <td>64.0</td>\n",
       "      <td>0.99130</td>\n",
       "      <td>3.23</td>\n",
       "      <td>0.51</td>\n",
       "      <td>11.4</td>\n",
       "      <td>5</td>\n",
       "    </tr>\n",
       "    <tr>\n",
       "      <th>4</th>\n",
       "      <td>7.1</td>\n",
       "      <td>0.270</td>\n",
       "      <td>0.28</td>\n",
       "      <td>1.25</td>\n",
       "      <td>0.023</td>\n",
       "      <td>3.0</td>\n",
       "      <td>89.0</td>\n",
       "      <td>0.98993</td>\n",
       "      <td>2.95</td>\n",
       "      <td>0.30</td>\n",
       "      <td>11.4</td>\n",
       "      <td>4</td>\n",
       "    </tr>\n",
       "    <tr>\n",
       "      <th>...</th>\n",
       "      <td>...</td>\n",
       "      <td>...</td>\n",
       "      <td>...</td>\n",
       "      <td>...</td>\n",
       "      <td>...</td>\n",
       "      <td>...</td>\n",
       "      <td>...</td>\n",
       "      <td>...</td>\n",
       "      <td>...</td>\n",
       "      <td>...</td>\n",
       "      <td>...</td>\n",
       "      <td>...</td>\n",
       "    </tr>\n",
       "    <tr>\n",
       "      <th>4893</th>\n",
       "      <td>7.5</td>\n",
       "      <td>0.230</td>\n",
       "      <td>0.35</td>\n",
       "      <td>17.80</td>\n",
       "      <td>0.058</td>\n",
       "      <td>128.0</td>\n",
       "      <td>212.0</td>\n",
       "      <td>1.00241</td>\n",
       "      <td>3.44</td>\n",
       "      <td>0.43</td>\n",
       "      <td>8.9</td>\n",
       "      <td>5</td>\n",
       "    </tr>\n",
       "    <tr>\n",
       "      <th>4894</th>\n",
       "      <td>7.5</td>\n",
       "      <td>0.270</td>\n",
       "      <td>0.31</td>\n",
       "      <td>5.80</td>\n",
       "      <td>0.057</td>\n",
       "      <td>131.0</td>\n",
       "      <td>313.0</td>\n",
       "      <td>0.99460</td>\n",
       "      <td>3.18</td>\n",
       "      <td>0.59</td>\n",
       "      <td>10.5</td>\n",
       "      <td>5</td>\n",
       "    </tr>\n",
       "    <tr>\n",
       "      <th>4895</th>\n",
       "      <td>6.2</td>\n",
       "      <td>0.255</td>\n",
       "      <td>0.24</td>\n",
       "      <td>1.70</td>\n",
       "      <td>0.039</td>\n",
       "      <td>138.5</td>\n",
       "      <td>272.0</td>\n",
       "      <td>0.99452</td>\n",
       "      <td>3.53</td>\n",
       "      <td>0.53</td>\n",
       "      <td>9.6</td>\n",
       "      <td>4</td>\n",
       "    </tr>\n",
       "    <tr>\n",
       "      <th>4896</th>\n",
       "      <td>7.1</td>\n",
       "      <td>0.490</td>\n",
       "      <td>0.22</td>\n",
       "      <td>2.00</td>\n",
       "      <td>0.047</td>\n",
       "      <td>146.5</td>\n",
       "      <td>307.5</td>\n",
       "      <td>0.99240</td>\n",
       "      <td>3.24</td>\n",
       "      <td>0.37</td>\n",
       "      <td>11.0</td>\n",
       "      <td>3</td>\n",
       "    </tr>\n",
       "    <tr>\n",
       "      <th>4897</th>\n",
       "      <td>6.1</td>\n",
       "      <td>0.260</td>\n",
       "      <td>0.25</td>\n",
       "      <td>2.90</td>\n",
       "      <td>0.047</td>\n",
       "      <td>289.0</td>\n",
       "      <td>440.0</td>\n",
       "      <td>0.99314</td>\n",
       "      <td>3.44</td>\n",
       "      <td>0.64</td>\n",
       "      <td>10.5</td>\n",
       "      <td>3</td>\n",
       "    </tr>\n",
       "  </tbody>\n",
       "</table>\n",
       "<p>4898 rows × 12 columns</p>\n",
       "</div>"
      ],
      "text/plain": [
       "      Fixed Acidity  Volatile Acidity  Citric Acid  Residual Sugar  Chlorides  \\\n",
       "0               6.5             0.270         0.26           11.00      0.030   \n",
       "1               5.8             0.360         0.38            0.90      0.037   \n",
       "2               7.2             0.310         0.46            5.00      0.040   \n",
       "3               7.2             0.240         0.34            1.10      0.045   \n",
       "4               7.1             0.270         0.28            1.25      0.023   \n",
       "...             ...               ...          ...             ...        ...   \n",
       "4893            7.5             0.230         0.35           17.80      0.058   \n",
       "4894            7.5             0.270         0.31            5.80      0.057   \n",
       "4895            6.2             0.255         0.24            1.70      0.039   \n",
       "4896            7.1             0.490         0.22            2.00      0.047   \n",
       "4897            6.1             0.260         0.25            2.90      0.047   \n",
       "\n",
       "      Free Sulfur Dioxide  Total Sulfur Dioxide  Density    pH  Sulphates  \\\n",
       "0                     2.0                  82.0  0.99402  3.07       0.36   \n",
       "1                     3.0                  75.0  0.99040  3.28       0.34   \n",
       "2                     3.0                  29.0  0.99060  3.04       0.53   \n",
       "3                     3.0                  64.0  0.99130  3.23       0.51   \n",
       "4                     3.0                  89.0  0.98993  2.95       0.30   \n",
       "...                   ...                   ...      ...   ...        ...   \n",
       "4893                128.0                 212.0  1.00241  3.44       0.43   \n",
       "4894                131.0                 313.0  0.99460  3.18       0.59   \n",
       "4895                138.5                 272.0  0.99452  3.53       0.53   \n",
       "4896                146.5                 307.5  0.99240  3.24       0.37   \n",
       "4897                289.0                 440.0  0.99314  3.44       0.64   \n",
       "\n",
       "      Alcohol  Quality  \n",
       "0        11.2        5  \n",
       "1        11.4        4  \n",
       "2        12.5        4  \n",
       "3        11.4        5  \n",
       "4        11.4        4  \n",
       "...       ...      ...  \n",
       "4893      8.9        5  \n",
       "4894     10.5        5  \n",
       "4895      9.6        4  \n",
       "4896     11.0        3  \n",
       "4897     10.5        3  \n",
       "\n",
       "[4898 rows x 12 columns]"
      ]
     },
     "execution_count": 6,
     "metadata": {},
     "output_type": "execute_result"
    }
   ],
   "source": [
    "df"
   ]
  },
  {
   "cell_type": "code",
   "execution_count": 8,
   "id": "fde11f01",
   "metadata": {},
   "outputs": [
    {
     "data": {
      "text/html": [
       "<div>\n",
       "<style scoped>\n",
       "    .dataframe tbody tr th:only-of-type {\n",
       "        vertical-align: middle;\n",
       "    }\n",
       "\n",
       "    .dataframe tbody tr th {\n",
       "        vertical-align: top;\n",
       "    }\n",
       "\n",
       "    .dataframe thead th {\n",
       "        text-align: right;\n",
       "    }\n",
       "</style>\n",
       "<table border=\"1\" class=\"dataframe\">\n",
       "  <thead>\n",
       "    <tr style=\"text-align: right;\">\n",
       "      <th></th>\n",
       "      <th>Fixed Acidity</th>\n",
       "      <th>Volatile Acidity</th>\n",
       "      <th>Citric Acid</th>\n",
       "      <th>Residual Sugar</th>\n",
       "      <th>Chlorides</th>\n",
       "      <th>Free Sulfur Dioxide</th>\n",
       "      <th>Total Sulfur Dioxide</th>\n",
       "      <th>Density</th>\n",
       "      <th>pH</th>\n",
       "      <th>Sulphates</th>\n",
       "      <th>Alcohol</th>\n",
       "      <th>Quality</th>\n",
       "    </tr>\n",
       "  </thead>\n",
       "  <tbody>\n",
       "    <tr>\n",
       "      <th>0</th>\n",
       "      <td>6.5</td>\n",
       "      <td>0.27</td>\n",
       "      <td>0.26</td>\n",
       "      <td>11.00</td>\n",
       "      <td>0.030</td>\n",
       "      <td>2.0</td>\n",
       "      <td>82.0</td>\n",
       "      <td>0.99402</td>\n",
       "      <td>3.07</td>\n",
       "      <td>0.36</td>\n",
       "      <td>11.2</td>\n",
       "      <td>5</td>\n",
       "    </tr>\n",
       "    <tr>\n",
       "      <th>1</th>\n",
       "      <td>5.8</td>\n",
       "      <td>0.36</td>\n",
       "      <td>0.38</td>\n",
       "      <td>0.90</td>\n",
       "      <td>0.037</td>\n",
       "      <td>3.0</td>\n",
       "      <td>75.0</td>\n",
       "      <td>0.99040</td>\n",
       "      <td>3.28</td>\n",
       "      <td>0.34</td>\n",
       "      <td>11.4</td>\n",
       "      <td>4</td>\n",
       "    </tr>\n",
       "    <tr>\n",
       "      <th>2</th>\n",
       "      <td>7.2</td>\n",
       "      <td>0.31</td>\n",
       "      <td>0.46</td>\n",
       "      <td>5.00</td>\n",
       "      <td>0.040</td>\n",
       "      <td>3.0</td>\n",
       "      <td>29.0</td>\n",
       "      <td>0.99060</td>\n",
       "      <td>3.04</td>\n",
       "      <td>0.53</td>\n",
       "      <td>12.5</td>\n",
       "      <td>4</td>\n",
       "    </tr>\n",
       "    <tr>\n",
       "      <th>3</th>\n",
       "      <td>7.2</td>\n",
       "      <td>0.24</td>\n",
       "      <td>0.34</td>\n",
       "      <td>1.10</td>\n",
       "      <td>0.045</td>\n",
       "      <td>3.0</td>\n",
       "      <td>64.0</td>\n",
       "      <td>0.99130</td>\n",
       "      <td>3.23</td>\n",
       "      <td>0.51</td>\n",
       "      <td>11.4</td>\n",
       "      <td>5</td>\n",
       "    </tr>\n",
       "    <tr>\n",
       "      <th>4</th>\n",
       "      <td>7.1</td>\n",
       "      <td>0.27</td>\n",
       "      <td>0.28</td>\n",
       "      <td>1.25</td>\n",
       "      <td>0.023</td>\n",
       "      <td>3.0</td>\n",
       "      <td>89.0</td>\n",
       "      <td>0.98993</td>\n",
       "      <td>2.95</td>\n",
       "      <td>0.30</td>\n",
       "      <td>11.4</td>\n",
       "      <td>4</td>\n",
       "    </tr>\n",
       "  </tbody>\n",
       "</table>\n",
       "</div>"
      ],
      "text/plain": [
       "   Fixed Acidity  Volatile Acidity  Citric Acid  Residual Sugar  Chlorides  \\\n",
       "0            6.5              0.27         0.26           11.00      0.030   \n",
       "1            5.8              0.36         0.38            0.90      0.037   \n",
       "2            7.2              0.31         0.46            5.00      0.040   \n",
       "3            7.2              0.24         0.34            1.10      0.045   \n",
       "4            7.1              0.27         0.28            1.25      0.023   \n",
       "\n",
       "   Free Sulfur Dioxide  Total Sulfur Dioxide  Density    pH  Sulphates  \\\n",
       "0                  2.0                  82.0  0.99402  3.07       0.36   \n",
       "1                  3.0                  75.0  0.99040  3.28       0.34   \n",
       "2                  3.0                  29.0  0.99060  3.04       0.53   \n",
       "3                  3.0                  64.0  0.99130  3.23       0.51   \n",
       "4                  3.0                  89.0  0.98993  2.95       0.30   \n",
       "\n",
       "   Alcohol  Quality  \n",
       "0     11.2        5  \n",
       "1     11.4        4  \n",
       "2     12.5        4  \n",
       "3     11.4        5  \n",
       "4     11.4        4  "
      ]
     },
     "execution_count": 8,
     "metadata": {},
     "output_type": "execute_result"
    }
   ],
   "source": [
    "df.head() # only the first 5 rows are displayed"
   ]
  },
  {
   "cell_type": "code",
   "execution_count": 12,
   "id": "7e537b96",
   "metadata": {},
   "outputs": [
    {
     "name": "stdout",
     "output_type": "stream",
     "text": [
      "4898\n"
     ]
    }
   ],
   "source": [
    "print(df.shape[0]) # Rows"
   ]
  },
  {
   "cell_type": "code",
   "execution_count": 13,
   "id": "d2450b19",
   "metadata": {},
   "outputs": [
    {
     "name": "stdout",
     "output_type": "stream",
     "text": [
      "12\n"
     ]
    }
   ],
   "source": [
    "print(df.shape[1])# Columns"
   ]
  },
  {
   "cell_type": "code",
   "execution_count": 18,
   "id": "7e703f72",
   "metadata": {},
   "outputs": [
    {
     "name": "stdout",
     "output_type": "stream",
     "text": [
      "Fixed Acidity           float64\n",
      "Volatile Acidity        float64\n",
      "Citric Acid             float64\n",
      "Residual Sugar          float64\n",
      "Chlorides               float64\n",
      "Free Sulfur Dioxide     float64\n",
      "Total Sulfur Dioxide    float64\n",
      "Density                 float64\n",
      "pH                      float64\n",
      "Sulphates               float64\n",
      "Alcohol                 float64\n",
      "Quality                   int64\n",
      "dtype: object\n"
     ]
    }
   ],
   "source": [
    "print(df.dtypes)"
   ]
  },
  {
   "cell_type": "code",
   "execution_count": 22,
   "id": "0c9bf633",
   "metadata": {},
   "outputs": [
    {
     "name": "stdout",
     "output_type": "stream",
     "text": [
      "['Fixed Acidity', 'Volatile Acidity', 'Citric Acid', 'Residual Sugar', 'Chlorides', 'Free Sulfur Dioxide', 'Total Sulfur Dioxide', 'Density', 'pH', 'Sulphates', 'Alcohol', 'Quality']\n"
     ]
    }
   ],
   "source": [
    "print(df.columns.tolist())"
   ]
  },
  {
   "cell_type": "code",
   "execution_count": 23,
   "id": "147b84e4",
   "metadata": {},
   "outputs": [
    {
     "data": {
      "text/html": [
       "<div>\n",
       "<style scoped>\n",
       "    .dataframe tbody tr th:only-of-type {\n",
       "        vertical-align: middle;\n",
       "    }\n",
       "\n",
       "    .dataframe tbody tr th {\n",
       "        vertical-align: top;\n",
       "    }\n",
       "\n",
       "    .dataframe thead th {\n",
       "        text-align: right;\n",
       "    }\n",
       "</style>\n",
       "<table border=\"1\" class=\"dataframe\">\n",
       "  <thead>\n",
       "    <tr style=\"text-align: right;\">\n",
       "      <th></th>\n",
       "      <th>Fixed Acidity</th>\n",
       "      <th>Volatile Acidity</th>\n",
       "      <th>Citric Acid</th>\n",
       "      <th>Residual Sugar</th>\n",
       "      <th>Chlorides</th>\n",
       "      <th>Free Sulfur Dioxide</th>\n",
       "      <th>Total Sulfur Dioxide</th>\n",
       "      <th>Density</th>\n",
       "      <th>pH</th>\n",
       "      <th>Sulphates</th>\n",
       "      <th>Alcohol</th>\n",
       "      <th>Quality</th>\n",
       "    </tr>\n",
       "  </thead>\n",
       "  <tbody>\n",
       "    <tr>\n",
       "      <th>0</th>\n",
       "      <td>6.5</td>\n",
       "      <td>0.27</td>\n",
       "      <td>0.26</td>\n",
       "      <td>11.00</td>\n",
       "      <td>0.030</td>\n",
       "      <td>2.0</td>\n",
       "      <td>82.0</td>\n",
       "      <td>0.99402</td>\n",
       "      <td>3.07</td>\n",
       "      <td>0.36</td>\n",
       "      <td>11.2</td>\n",
       "      <td>5</td>\n",
       "    </tr>\n",
       "    <tr>\n",
       "      <th>1</th>\n",
       "      <td>5.8</td>\n",
       "      <td>0.36</td>\n",
       "      <td>0.38</td>\n",
       "      <td>0.90</td>\n",
       "      <td>0.037</td>\n",
       "      <td>3.0</td>\n",
       "      <td>75.0</td>\n",
       "      <td>0.99040</td>\n",
       "      <td>3.28</td>\n",
       "      <td>0.34</td>\n",
       "      <td>11.4</td>\n",
       "      <td>4</td>\n",
       "    </tr>\n",
       "    <tr>\n",
       "      <th>2</th>\n",
       "      <td>7.2</td>\n",
       "      <td>0.31</td>\n",
       "      <td>0.46</td>\n",
       "      <td>5.00</td>\n",
       "      <td>0.040</td>\n",
       "      <td>3.0</td>\n",
       "      <td>29.0</td>\n",
       "      <td>0.99060</td>\n",
       "      <td>3.04</td>\n",
       "      <td>0.53</td>\n",
       "      <td>12.5</td>\n",
       "      <td>4</td>\n",
       "    </tr>\n",
       "    <tr>\n",
       "      <th>3</th>\n",
       "      <td>7.2</td>\n",
       "      <td>0.24</td>\n",
       "      <td>0.34</td>\n",
       "      <td>1.10</td>\n",
       "      <td>0.045</td>\n",
       "      <td>3.0</td>\n",
       "      <td>64.0</td>\n",
       "      <td>0.99130</td>\n",
       "      <td>3.23</td>\n",
       "      <td>0.51</td>\n",
       "      <td>11.4</td>\n",
       "      <td>5</td>\n",
       "    </tr>\n",
       "    <tr>\n",
       "      <th>4</th>\n",
       "      <td>7.1</td>\n",
       "      <td>0.27</td>\n",
       "      <td>0.28</td>\n",
       "      <td>1.25</td>\n",
       "      <td>0.023</td>\n",
       "      <td>3.0</td>\n",
       "      <td>89.0</td>\n",
       "      <td>0.98993</td>\n",
       "      <td>2.95</td>\n",
       "      <td>0.30</td>\n",
       "      <td>11.4</td>\n",
       "      <td>4</td>\n",
       "    </tr>\n",
       "  </tbody>\n",
       "</table>\n",
       "</div>"
      ],
      "text/plain": [
       "   Fixed Acidity  Volatile Acidity  Citric Acid  Residual Sugar  Chlorides  \\\n",
       "0            6.5              0.27         0.26           11.00      0.030   \n",
       "1            5.8              0.36         0.38            0.90      0.037   \n",
       "2            7.2              0.31         0.46            5.00      0.040   \n",
       "3            7.2              0.24         0.34            1.10      0.045   \n",
       "4            7.1              0.27         0.28            1.25      0.023   \n",
       "\n",
       "   Free Sulfur Dioxide  Total Sulfur Dioxide  Density    pH  Sulphates  \\\n",
       "0                  2.0                  82.0  0.99402  3.07       0.36   \n",
       "1                  3.0                  75.0  0.99040  3.28       0.34   \n",
       "2                  3.0                  29.0  0.99060  3.04       0.53   \n",
       "3                  3.0                  64.0  0.99130  3.23       0.51   \n",
       "4                  3.0                  89.0  0.98993  2.95       0.30   \n",
       "\n",
       "   Alcohol  Quality  \n",
       "0     11.2        5  \n",
       "1     11.4        4  \n",
       "2     12.5        4  \n",
       "3     11.4        5  \n",
       "4     11.4        4  "
      ]
     },
     "execution_count": 23,
     "metadata": {},
     "output_type": "execute_result"
    }
   ],
   "source": [
    "df.head()"
   ]
  },
  {
   "cell_type": "code",
   "execution_count": 24,
   "id": "aba72fad",
   "metadata": {},
   "outputs": [
    {
     "data": {
      "text/html": [
       "<div>\n",
       "<style scoped>\n",
       "    .dataframe tbody tr th:only-of-type {\n",
       "        vertical-align: middle;\n",
       "    }\n",
       "\n",
       "    .dataframe tbody tr th {\n",
       "        vertical-align: top;\n",
       "    }\n",
       "\n",
       "    .dataframe thead th {\n",
       "        text-align: right;\n",
       "    }\n",
       "</style>\n",
       "<table border=\"1\" class=\"dataframe\">\n",
       "  <thead>\n",
       "    <tr style=\"text-align: right;\">\n",
       "      <th></th>\n",
       "      <th>Fixed Acidity</th>\n",
       "      <th>Volatile Acidity</th>\n",
       "      <th>Citric Acid</th>\n",
       "      <th>Residual Sugar</th>\n",
       "      <th>Chlorides</th>\n",
       "      <th>Free Sulfur Dioxide</th>\n",
       "      <th>Total Sulfur Dioxide</th>\n",
       "      <th>Density</th>\n",
       "      <th>pH</th>\n",
       "      <th>Sulphates</th>\n",
       "      <th>Alcohol</th>\n",
       "      <th>Quality</th>\n",
       "    </tr>\n",
       "  </thead>\n",
       "  <tbody>\n",
       "    <tr>\n",
       "      <th>0</th>\n",
       "      <td>6.5</td>\n",
       "      <td>0.270</td>\n",
       "      <td>0.26</td>\n",
       "      <td>11.00</td>\n",
       "      <td>0.030</td>\n",
       "      <td>2.0</td>\n",
       "      <td>82.0</td>\n",
       "      <td>0.99402</td>\n",
       "      <td>3.07</td>\n",
       "      <td>0.36</td>\n",
       "      <td>11.2</td>\n",
       "      <td>5</td>\n",
       "    </tr>\n",
       "    <tr>\n",
       "      <th>1</th>\n",
       "      <td>5.8</td>\n",
       "      <td>0.360</td>\n",
       "      <td>0.38</td>\n",
       "      <td>0.90</td>\n",
       "      <td>0.037</td>\n",
       "      <td>3.0</td>\n",
       "      <td>75.0</td>\n",
       "      <td>0.99040</td>\n",
       "      <td>3.28</td>\n",
       "      <td>0.34</td>\n",
       "      <td>11.4</td>\n",
       "      <td>4</td>\n",
       "    </tr>\n",
       "    <tr>\n",
       "      <th>2</th>\n",
       "      <td>7.2</td>\n",
       "      <td>0.310</td>\n",
       "      <td>0.46</td>\n",
       "      <td>5.00</td>\n",
       "      <td>0.040</td>\n",
       "      <td>3.0</td>\n",
       "      <td>29.0</td>\n",
       "      <td>0.99060</td>\n",
       "      <td>3.04</td>\n",
       "      <td>0.53</td>\n",
       "      <td>12.5</td>\n",
       "      <td>4</td>\n",
       "    </tr>\n",
       "    <tr>\n",
       "      <th>3</th>\n",
       "      <td>7.2</td>\n",
       "      <td>0.240</td>\n",
       "      <td>0.34</td>\n",
       "      <td>1.10</td>\n",
       "      <td>0.045</td>\n",
       "      <td>3.0</td>\n",
       "      <td>64.0</td>\n",
       "      <td>0.99130</td>\n",
       "      <td>3.23</td>\n",
       "      <td>0.51</td>\n",
       "      <td>11.4</td>\n",
       "      <td>5</td>\n",
       "    </tr>\n",
       "    <tr>\n",
       "      <th>4</th>\n",
       "      <td>7.1</td>\n",
       "      <td>0.270</td>\n",
       "      <td>0.28</td>\n",
       "      <td>1.25</td>\n",
       "      <td>0.023</td>\n",
       "      <td>3.0</td>\n",
       "      <td>89.0</td>\n",
       "      <td>0.98993</td>\n",
       "      <td>2.95</td>\n",
       "      <td>0.30</td>\n",
       "      <td>11.4</td>\n",
       "      <td>4</td>\n",
       "    </tr>\n",
       "    <tr>\n",
       "      <th>...</th>\n",
       "      <td>...</td>\n",
       "      <td>...</td>\n",
       "      <td>...</td>\n",
       "      <td>...</td>\n",
       "      <td>...</td>\n",
       "      <td>...</td>\n",
       "      <td>...</td>\n",
       "      <td>...</td>\n",
       "      <td>...</td>\n",
       "      <td>...</td>\n",
       "      <td>...</td>\n",
       "      <td>...</td>\n",
       "    </tr>\n",
       "    <tr>\n",
       "      <th>4893</th>\n",
       "      <td>7.5</td>\n",
       "      <td>0.230</td>\n",
       "      <td>0.35</td>\n",
       "      <td>17.80</td>\n",
       "      <td>0.058</td>\n",
       "      <td>128.0</td>\n",
       "      <td>212.0</td>\n",
       "      <td>1.00241</td>\n",
       "      <td>3.44</td>\n",
       "      <td>0.43</td>\n",
       "      <td>8.9</td>\n",
       "      <td>5</td>\n",
       "    </tr>\n",
       "    <tr>\n",
       "      <th>4894</th>\n",
       "      <td>7.5</td>\n",
       "      <td>0.270</td>\n",
       "      <td>0.31</td>\n",
       "      <td>5.80</td>\n",
       "      <td>0.057</td>\n",
       "      <td>131.0</td>\n",
       "      <td>313.0</td>\n",
       "      <td>0.99460</td>\n",
       "      <td>3.18</td>\n",
       "      <td>0.59</td>\n",
       "      <td>10.5</td>\n",
       "      <td>5</td>\n",
       "    </tr>\n",
       "    <tr>\n",
       "      <th>4895</th>\n",
       "      <td>6.2</td>\n",
       "      <td>0.255</td>\n",
       "      <td>0.24</td>\n",
       "      <td>1.70</td>\n",
       "      <td>0.039</td>\n",
       "      <td>138.5</td>\n",
       "      <td>272.0</td>\n",
       "      <td>0.99452</td>\n",
       "      <td>3.53</td>\n",
       "      <td>0.53</td>\n",
       "      <td>9.6</td>\n",
       "      <td>4</td>\n",
       "    </tr>\n",
       "    <tr>\n",
       "      <th>4896</th>\n",
       "      <td>7.1</td>\n",
       "      <td>0.490</td>\n",
       "      <td>0.22</td>\n",
       "      <td>2.00</td>\n",
       "      <td>0.047</td>\n",
       "      <td>146.5</td>\n",
       "      <td>307.5</td>\n",
       "      <td>0.99240</td>\n",
       "      <td>3.24</td>\n",
       "      <td>0.37</td>\n",
       "      <td>11.0</td>\n",
       "      <td>3</td>\n",
       "    </tr>\n",
       "    <tr>\n",
       "      <th>4897</th>\n",
       "      <td>6.1</td>\n",
       "      <td>0.260</td>\n",
       "      <td>0.25</td>\n",
       "      <td>2.90</td>\n",
       "      <td>0.047</td>\n",
       "      <td>289.0</td>\n",
       "      <td>440.0</td>\n",
       "      <td>0.99314</td>\n",
       "      <td>3.44</td>\n",
       "      <td>0.64</td>\n",
       "      <td>10.5</td>\n",
       "      <td>3</td>\n",
       "    </tr>\n",
       "  </tbody>\n",
       "</table>\n",
       "<p>4898 rows × 12 columns</p>\n",
       "</div>"
      ],
      "text/plain": [
       "      Fixed Acidity  Volatile Acidity  Citric Acid  Residual Sugar  Chlorides  \\\n",
       "0               6.5             0.270         0.26           11.00      0.030   \n",
       "1               5.8             0.360         0.38            0.90      0.037   \n",
       "2               7.2             0.310         0.46            5.00      0.040   \n",
       "3               7.2             0.240         0.34            1.10      0.045   \n",
       "4               7.1             0.270         0.28            1.25      0.023   \n",
       "...             ...               ...          ...             ...        ...   \n",
       "4893            7.5             0.230         0.35           17.80      0.058   \n",
       "4894            7.5             0.270         0.31            5.80      0.057   \n",
       "4895            6.2             0.255         0.24            1.70      0.039   \n",
       "4896            7.1             0.490         0.22            2.00      0.047   \n",
       "4897            6.1             0.260         0.25            2.90      0.047   \n",
       "\n",
       "      Free Sulfur Dioxide  Total Sulfur Dioxide  Density    pH  Sulphates  \\\n",
       "0                     2.0                  82.0  0.99402  3.07       0.36   \n",
       "1                     3.0                  75.0  0.99040  3.28       0.34   \n",
       "2                     3.0                  29.0  0.99060  3.04       0.53   \n",
       "3                     3.0                  64.0  0.99130  3.23       0.51   \n",
       "4                     3.0                  89.0  0.98993  2.95       0.30   \n",
       "...                   ...                   ...      ...   ...        ...   \n",
       "4893                128.0                 212.0  1.00241  3.44       0.43   \n",
       "4894                131.0                 313.0  0.99460  3.18       0.59   \n",
       "4895                138.5                 272.0  0.99452  3.53       0.53   \n",
       "4896                146.5                 307.5  0.99240  3.24       0.37   \n",
       "4897                289.0                 440.0  0.99314  3.44       0.64   \n",
       "\n",
       "      Alcohol  Quality  \n",
       "0        11.2        5  \n",
       "1        11.4        4  \n",
       "2        12.5        4  \n",
       "3        11.4        5  \n",
       "4        11.4        4  \n",
       "...       ...      ...  \n",
       "4893      8.9        5  \n",
       "4894     10.5        5  \n",
       "4895      9.6        4  \n",
       "4896     11.0        3  \n",
       "4897     10.5        3  \n",
       "\n",
       "[4898 rows x 12 columns]"
      ]
     },
     "execution_count": 24,
     "metadata": {},
     "output_type": "execute_result"
    }
   ],
   "source": [
    "df"
   ]
  },
  {
   "cell_type": "code",
   "execution_count": 31,
   "id": "40693898",
   "metadata": {},
   "outputs": [],
   "source": [
    "df2=df.shape[0] "
   ]
  },
  {
   "cell_type": "code",
   "execution_count": 32,
   "id": "0bc81dd7",
   "metadata": {},
   "outputs": [],
   "source": [
    "df3=df.shape[1]"
   ]
  },
  {
   "cell_type": "code",
   "execution_count": 33,
   "id": "934df2b2",
   "metadata": {},
   "outputs": [
    {
     "data": {
      "text/plain": [
       "4898"
      ]
     },
     "execution_count": 33,
     "metadata": {},
     "output_type": "execute_result"
    }
   ],
   "source": [
    "df2 # number of rows"
   ]
  },
  {
   "cell_type": "code",
   "execution_count": 36,
   "id": "cf4d3fa6",
   "metadata": {},
   "outputs": [
    {
     "data": {
      "text/plain": [
       "12"
      ]
     },
     "execution_count": 36,
     "metadata": {},
     "output_type": "execute_result"
    }
   ],
   "source": [
    "df3 # number of columns"
   ]
  },
  {
   "cell_type": "code",
   "execution_count": 37,
   "id": "7e7ac2bd",
   "metadata": {},
   "outputs": [
    {
     "data": {
      "text/html": [
       "<div>\n",
       "<style scoped>\n",
       "    .dataframe tbody tr th:only-of-type {\n",
       "        vertical-align: middle;\n",
       "    }\n",
       "\n",
       "    .dataframe tbody tr th {\n",
       "        vertical-align: top;\n",
       "    }\n",
       "\n",
       "    .dataframe thead th {\n",
       "        text-align: right;\n",
       "    }\n",
       "</style>\n",
       "<table border=\"1\" class=\"dataframe\">\n",
       "  <thead>\n",
       "    <tr style=\"text-align: right;\">\n",
       "      <th></th>\n",
       "      <th>Fixed Acidity</th>\n",
       "      <th>Volatile Acidity</th>\n",
       "      <th>Citric Acid</th>\n",
       "      <th>Residual Sugar</th>\n",
       "      <th>Free Sulfur Dioxide</th>\n",
       "      <th>Total Sulfur Dioxide</th>\n",
       "      <th>Density</th>\n",
       "      <th>pH</th>\n",
       "      <th>Sulphates</th>\n",
       "      <th>Alcohol</th>\n",
       "      <th>Quality</th>\n",
       "    </tr>\n",
       "    <tr>\n",
       "      <th>Chlorides</th>\n",
       "      <th></th>\n",
       "      <th></th>\n",
       "      <th></th>\n",
       "      <th></th>\n",
       "      <th></th>\n",
       "      <th></th>\n",
       "      <th></th>\n",
       "      <th></th>\n",
       "      <th></th>\n",
       "      <th></th>\n",
       "      <th></th>\n",
       "    </tr>\n",
       "  </thead>\n",
       "  <tbody>\n",
       "    <tr>\n",
       "      <th>0.009</th>\n",
       "      <td>5.000</td>\n",
       "      <td>0.610</td>\n",
       "      <td>0.1200</td>\n",
       "      <td>1.3000</td>\n",
       "      <td>65.0</td>\n",
       "      <td>100.00</td>\n",
       "      <td>0.987400</td>\n",
       "      <td>3.2600</td>\n",
       "      <td>0.3700</td>\n",
       "      <td>13.5000</td>\n",
       "      <td>5.0</td>\n",
       "    </tr>\n",
       "    <tr>\n",
       "      <th>0.012</th>\n",
       "      <td>6.700</td>\n",
       "      <td>0.280</td>\n",
       "      <td>0.2800</td>\n",
       "      <td>2.4000</td>\n",
       "      <td>36.0</td>\n",
       "      <td>100.00</td>\n",
       "      <td>0.990640</td>\n",
       "      <td>3.2600</td>\n",
       "      <td>0.3900</td>\n",
       "      <td>11.7000</td>\n",
       "      <td>7.0</td>\n",
       "    </tr>\n",
       "    <tr>\n",
       "      <th>0.013</th>\n",
       "      <td>4.800</td>\n",
       "      <td>0.650</td>\n",
       "      <td>0.1200</td>\n",
       "      <td>1.1000</td>\n",
       "      <td>4.0</td>\n",
       "      <td>10.00</td>\n",
       "      <td>0.992460</td>\n",
       "      <td>3.3200</td>\n",
       "      <td>0.3600</td>\n",
       "      <td>13.5000</td>\n",
       "      <td>4.0</td>\n",
       "    </tr>\n",
       "    <tr>\n",
       "      <th>0.014</th>\n",
       "      <td>6.525</td>\n",
       "      <td>0.325</td>\n",
       "      <td>0.3425</td>\n",
       "      <td>2.9875</td>\n",
       "      <td>34.5</td>\n",
       "      <td>118.25</td>\n",
       "      <td>0.990000</td>\n",
       "      <td>3.2000</td>\n",
       "      <td>0.5475</td>\n",
       "      <td>12.5250</td>\n",
       "      <td>6.5</td>\n",
       "    </tr>\n",
       "    <tr>\n",
       "      <th>0.015</th>\n",
       "      <td>6.900</td>\n",
       "      <td>0.235</td>\n",
       "      <td>0.3225</td>\n",
       "      <td>5.6000</td>\n",
       "      <td>32.0</td>\n",
       "      <td>104.75</td>\n",
       "      <td>0.991222</td>\n",
       "      <td>3.0425</td>\n",
       "      <td>0.4800</td>\n",
       "      <td>11.8125</td>\n",
       "      <td>6.0</td>\n",
       "    </tr>\n",
       "    <tr>\n",
       "      <th>...</th>\n",
       "      <td>...</td>\n",
       "      <td>...</td>\n",
       "      <td>...</td>\n",
       "      <td>...</td>\n",
       "      <td>...</td>\n",
       "      <td>...</td>\n",
       "      <td>...</td>\n",
       "      <td>...</td>\n",
       "      <td>...</td>\n",
       "      <td>...</td>\n",
       "      <td>...</td>\n",
       "    </tr>\n",
       "    <tr>\n",
       "      <th>0.255</th>\n",
       "      <td>7.600</td>\n",
       "      <td>0.360</td>\n",
       "      <td>0.4400</td>\n",
       "      <td>8.3000</td>\n",
       "      <td>28.0</td>\n",
       "      <td>142.00</td>\n",
       "      <td>0.995800</td>\n",
       "      <td>3.1200</td>\n",
       "      <td>0.4300</td>\n",
       "      <td>10.2000</td>\n",
       "      <td>6.0</td>\n",
       "    </tr>\n",
       "    <tr>\n",
       "      <th>0.271</th>\n",
       "      <td>7.100</td>\n",
       "      <td>0.360</td>\n",
       "      <td>0.2000</td>\n",
       "      <td>1.6000</td>\n",
       "      <td>24.0</td>\n",
       "      <td>140.00</td>\n",
       "      <td>0.993560</td>\n",
       "      <td>3.1100</td>\n",
       "      <td>0.6300</td>\n",
       "      <td>9.8000</td>\n",
       "      <td>5.0</td>\n",
       "    </tr>\n",
       "    <tr>\n",
       "      <th>0.290</th>\n",
       "      <td>6.800</td>\n",
       "      <td>0.670</td>\n",
       "      <td>0.3000</td>\n",
       "      <td>13.0000</td>\n",
       "      <td>22.0</td>\n",
       "      <td>193.00</td>\n",
       "      <td>0.998400</td>\n",
       "      <td>3.0800</td>\n",
       "      <td>0.6700</td>\n",
       "      <td>9.0000</td>\n",
       "      <td>4.0</td>\n",
       "    </tr>\n",
       "    <tr>\n",
       "      <th>0.301</th>\n",
       "      <td>8.000</td>\n",
       "      <td>0.610</td>\n",
       "      <td>0.3800</td>\n",
       "      <td>12.1000</td>\n",
       "      <td>24.0</td>\n",
       "      <td>220.00</td>\n",
       "      <td>0.999300</td>\n",
       "      <td>2.9400</td>\n",
       "      <td>0.4800</td>\n",
       "      <td>9.2000</td>\n",
       "      <td>5.0</td>\n",
       "    </tr>\n",
       "    <tr>\n",
       "      <th>0.346</th>\n",
       "      <td>6.200</td>\n",
       "      <td>0.370</td>\n",
       "      <td>0.3000</td>\n",
       "      <td>6.6000</td>\n",
       "      <td>79.0</td>\n",
       "      <td>200.00</td>\n",
       "      <td>0.995400</td>\n",
       "      <td>3.2900</td>\n",
       "      <td>0.5800</td>\n",
       "      <td>9.6000</td>\n",
       "      <td>5.0</td>\n",
       "    </tr>\n",
       "  </tbody>\n",
       "</table>\n",
       "<p>160 rows × 11 columns</p>\n",
       "</div>"
      ],
      "text/plain": [
       "           Fixed Acidity  Volatile Acidity  Citric Acid  Residual Sugar  \\\n",
       "Chlorides                                                                 \n",
       "0.009              5.000             0.610       0.1200          1.3000   \n",
       "0.012              6.700             0.280       0.2800          2.4000   \n",
       "0.013              4.800             0.650       0.1200          1.1000   \n",
       "0.014              6.525             0.325       0.3425          2.9875   \n",
       "0.015              6.900             0.235       0.3225          5.6000   \n",
       "...                  ...               ...          ...             ...   \n",
       "0.255              7.600             0.360       0.4400          8.3000   \n",
       "0.271              7.100             0.360       0.2000          1.6000   \n",
       "0.290              6.800             0.670       0.3000         13.0000   \n",
       "0.301              8.000             0.610       0.3800         12.1000   \n",
       "0.346              6.200             0.370       0.3000          6.6000   \n",
       "\n",
       "           Free Sulfur Dioxide  Total Sulfur Dioxide   Density      pH  \\\n",
       "Chlorides                                                                \n",
       "0.009                     65.0                100.00  0.987400  3.2600   \n",
       "0.012                     36.0                100.00  0.990640  3.2600   \n",
       "0.013                      4.0                 10.00  0.992460  3.3200   \n",
       "0.014                     34.5                118.25  0.990000  3.2000   \n",
       "0.015                     32.0                104.75  0.991222  3.0425   \n",
       "...                        ...                   ...       ...     ...   \n",
       "0.255                     28.0                142.00  0.995800  3.1200   \n",
       "0.271                     24.0                140.00  0.993560  3.1100   \n",
       "0.290                     22.0                193.00  0.998400  3.0800   \n",
       "0.301                     24.0                220.00  0.999300  2.9400   \n",
       "0.346                     79.0                200.00  0.995400  3.2900   \n",
       "\n",
       "           Sulphates  Alcohol  Quality  \n",
       "Chlorides                               \n",
       "0.009         0.3700  13.5000      5.0  \n",
       "0.012         0.3900  11.7000      7.0  \n",
       "0.013         0.3600  13.5000      4.0  \n",
       "0.014         0.5475  12.5250      6.5  \n",
       "0.015         0.4800  11.8125      6.0  \n",
       "...              ...      ...      ...  \n",
       "0.255         0.4300  10.2000      6.0  \n",
       "0.271         0.6300   9.8000      5.0  \n",
       "0.290         0.6700   9.0000      4.0  \n",
       "0.301         0.4800   9.2000      5.0  \n",
       "0.346         0.5800   9.6000      5.0  \n",
       "\n",
       "[160 rows x 11 columns]"
      ]
     },
     "execution_count": 37,
     "metadata": {},
     "output_type": "execute_result"
    }
   ],
   "source": [
    "df.groupby('Chlorides').mean()"
   ]
  },
  {
   "cell_type": "code",
   "execution_count": 38,
   "id": "e6d7511f",
   "metadata": {},
   "outputs": [
    {
     "data": {
      "text/html": [
       "<div>\n",
       "<style scoped>\n",
       "    .dataframe tbody tr th:only-of-type {\n",
       "        vertical-align: middle;\n",
       "    }\n",
       "\n",
       "    .dataframe tbody tr th {\n",
       "        vertical-align: top;\n",
       "    }\n",
       "\n",
       "    .dataframe thead th {\n",
       "        text-align: right;\n",
       "    }\n",
       "</style>\n",
       "<table border=\"1\" class=\"dataframe\">\n",
       "  <thead>\n",
       "    <tr style=\"text-align: right;\">\n",
       "      <th></th>\n",
       "      <th>Fixed Acidity</th>\n",
       "      <th>Volatile Acidity</th>\n",
       "      <th>Citric Acid</th>\n",
       "      <th>Residual Sugar</th>\n",
       "      <th>Free Sulfur Dioxide</th>\n",
       "      <th>Total Sulfur Dioxide</th>\n",
       "      <th>Density</th>\n",
       "      <th>pH</th>\n",
       "      <th>Sulphates</th>\n",
       "      <th>Alcohol</th>\n",
       "      <th>Quality</th>\n",
       "    </tr>\n",
       "    <tr>\n",
       "      <th>Chlorides</th>\n",
       "      <th></th>\n",
       "      <th></th>\n",
       "      <th></th>\n",
       "      <th></th>\n",
       "      <th></th>\n",
       "      <th></th>\n",
       "      <th></th>\n",
       "      <th></th>\n",
       "      <th></th>\n",
       "      <th></th>\n",
       "      <th></th>\n",
       "    </tr>\n",
       "  </thead>\n",
       "  <tbody>\n",
       "    <tr>\n",
       "      <th>0.009</th>\n",
       "      <td>5.00</td>\n",
       "      <td>0.610</td>\n",
       "      <td>0.120</td>\n",
       "      <td>1.30</td>\n",
       "      <td>65.0</td>\n",
       "      <td>100.0</td>\n",
       "      <td>0.98740</td>\n",
       "      <td>3.260</td>\n",
       "      <td>0.370</td>\n",
       "      <td>13.500</td>\n",
       "      <td>5.0</td>\n",
       "    </tr>\n",
       "    <tr>\n",
       "      <th>0.012</th>\n",
       "      <td>6.70</td>\n",
       "      <td>0.280</td>\n",
       "      <td>0.280</td>\n",
       "      <td>2.40</td>\n",
       "      <td>36.0</td>\n",
       "      <td>100.0</td>\n",
       "      <td>0.99064</td>\n",
       "      <td>3.260</td>\n",
       "      <td>0.390</td>\n",
       "      <td>11.700</td>\n",
       "      <td>7.0</td>\n",
       "    </tr>\n",
       "    <tr>\n",
       "      <th>0.013</th>\n",
       "      <td>4.80</td>\n",
       "      <td>0.650</td>\n",
       "      <td>0.120</td>\n",
       "      <td>1.10</td>\n",
       "      <td>4.0</td>\n",
       "      <td>10.0</td>\n",
       "      <td>0.99246</td>\n",
       "      <td>3.320</td>\n",
       "      <td>0.360</td>\n",
       "      <td>13.500</td>\n",
       "      <td>4.0</td>\n",
       "    </tr>\n",
       "    <tr>\n",
       "      <th>0.014</th>\n",
       "      <td>6.45</td>\n",
       "      <td>0.295</td>\n",
       "      <td>0.315</td>\n",
       "      <td>2.40</td>\n",
       "      <td>39.0</td>\n",
       "      <td>120.5</td>\n",
       "      <td>0.98996</td>\n",
       "      <td>3.185</td>\n",
       "      <td>0.605</td>\n",
       "      <td>12.550</td>\n",
       "      <td>7.0</td>\n",
       "    </tr>\n",
       "    <tr>\n",
       "      <th>0.015</th>\n",
       "      <td>7.40</td>\n",
       "      <td>0.195</td>\n",
       "      <td>0.320</td>\n",
       "      <td>6.55</td>\n",
       "      <td>33.5</td>\n",
       "      <td>111.0</td>\n",
       "      <td>0.99124</td>\n",
       "      <td>2.990</td>\n",
       "      <td>0.470</td>\n",
       "      <td>11.525</td>\n",
       "      <td>6.0</td>\n",
       "    </tr>\n",
       "    <tr>\n",
       "      <th>...</th>\n",
       "      <td>...</td>\n",
       "      <td>...</td>\n",
       "      <td>...</td>\n",
       "      <td>...</td>\n",
       "      <td>...</td>\n",
       "      <td>...</td>\n",
       "      <td>...</td>\n",
       "      <td>...</td>\n",
       "      <td>...</td>\n",
       "      <td>...</td>\n",
       "      <td>...</td>\n",
       "    </tr>\n",
       "    <tr>\n",
       "      <th>0.255</th>\n",
       "      <td>7.60</td>\n",
       "      <td>0.360</td>\n",
       "      <td>0.440</td>\n",
       "      <td>8.30</td>\n",
       "      <td>28.0</td>\n",
       "      <td>142.0</td>\n",
       "      <td>0.99580</td>\n",
       "      <td>3.120</td>\n",
       "      <td>0.430</td>\n",
       "      <td>10.200</td>\n",
       "      <td>6.0</td>\n",
       "    </tr>\n",
       "    <tr>\n",
       "      <th>0.271</th>\n",
       "      <td>7.10</td>\n",
       "      <td>0.360</td>\n",
       "      <td>0.200</td>\n",
       "      <td>1.60</td>\n",
       "      <td>24.0</td>\n",
       "      <td>140.0</td>\n",
       "      <td>0.99356</td>\n",
       "      <td>3.110</td>\n",
       "      <td>0.630</td>\n",
       "      <td>9.800</td>\n",
       "      <td>5.0</td>\n",
       "    </tr>\n",
       "    <tr>\n",
       "      <th>0.290</th>\n",
       "      <td>6.80</td>\n",
       "      <td>0.670</td>\n",
       "      <td>0.300</td>\n",
       "      <td>13.00</td>\n",
       "      <td>22.0</td>\n",
       "      <td>193.0</td>\n",
       "      <td>0.99840</td>\n",
       "      <td>3.080</td>\n",
       "      <td>0.670</td>\n",
       "      <td>9.000</td>\n",
       "      <td>4.0</td>\n",
       "    </tr>\n",
       "    <tr>\n",
       "      <th>0.301</th>\n",
       "      <td>8.00</td>\n",
       "      <td>0.610</td>\n",
       "      <td>0.380</td>\n",
       "      <td>12.10</td>\n",
       "      <td>24.0</td>\n",
       "      <td>220.0</td>\n",
       "      <td>0.99930</td>\n",
       "      <td>2.940</td>\n",
       "      <td>0.480</td>\n",
       "      <td>9.200</td>\n",
       "      <td>5.0</td>\n",
       "    </tr>\n",
       "    <tr>\n",
       "      <th>0.346</th>\n",
       "      <td>6.20</td>\n",
       "      <td>0.370</td>\n",
       "      <td>0.300</td>\n",
       "      <td>6.60</td>\n",
       "      <td>79.0</td>\n",
       "      <td>200.0</td>\n",
       "      <td>0.99540</td>\n",
       "      <td>3.290</td>\n",
       "      <td>0.580</td>\n",
       "      <td>9.600</td>\n",
       "      <td>5.0</td>\n",
       "    </tr>\n",
       "  </tbody>\n",
       "</table>\n",
       "<p>160 rows × 11 columns</p>\n",
       "</div>"
      ],
      "text/plain": [
       "           Fixed Acidity  Volatile Acidity  Citric Acid  Residual Sugar  \\\n",
       "Chlorides                                                                 \n",
       "0.009               5.00             0.610        0.120            1.30   \n",
       "0.012               6.70             0.280        0.280            2.40   \n",
       "0.013               4.80             0.650        0.120            1.10   \n",
       "0.014               6.45             0.295        0.315            2.40   \n",
       "0.015               7.40             0.195        0.320            6.55   \n",
       "...                  ...               ...          ...             ...   \n",
       "0.255               7.60             0.360        0.440            8.30   \n",
       "0.271               7.10             0.360        0.200            1.60   \n",
       "0.290               6.80             0.670        0.300           13.00   \n",
       "0.301               8.00             0.610        0.380           12.10   \n",
       "0.346               6.20             0.370        0.300            6.60   \n",
       "\n",
       "           Free Sulfur Dioxide  Total Sulfur Dioxide  Density     pH  \\\n",
       "Chlorides                                                              \n",
       "0.009                     65.0                 100.0  0.98740  3.260   \n",
       "0.012                     36.0                 100.0  0.99064  3.260   \n",
       "0.013                      4.0                  10.0  0.99246  3.320   \n",
       "0.014                     39.0                 120.5  0.98996  3.185   \n",
       "0.015                     33.5                 111.0  0.99124  2.990   \n",
       "...                        ...                   ...      ...    ...   \n",
       "0.255                     28.0                 142.0  0.99580  3.120   \n",
       "0.271                     24.0                 140.0  0.99356  3.110   \n",
       "0.290                     22.0                 193.0  0.99840  3.080   \n",
       "0.301                     24.0                 220.0  0.99930  2.940   \n",
       "0.346                     79.0                 200.0  0.99540  3.290   \n",
       "\n",
       "           Sulphates  Alcohol  Quality  \n",
       "Chlorides                               \n",
       "0.009          0.370   13.500      5.0  \n",
       "0.012          0.390   11.700      7.0  \n",
       "0.013          0.360   13.500      4.0  \n",
       "0.014          0.605   12.550      7.0  \n",
       "0.015          0.470   11.525      6.0  \n",
       "...              ...      ...      ...  \n",
       "0.255          0.430   10.200      6.0  \n",
       "0.271          0.630    9.800      5.0  \n",
       "0.290          0.670    9.000      4.0  \n",
       "0.301          0.480    9.200      5.0  \n",
       "0.346          0.580    9.600      5.0  \n",
       "\n",
       "[160 rows x 11 columns]"
      ]
     },
     "execution_count": 38,
     "metadata": {},
     "output_type": "execute_result"
    }
   ],
   "source": [
    "df.groupby('Chlorides').median()"
   ]
  },
  {
   "cell_type": "code",
   "execution_count": 39,
   "id": "7d9ba90c",
   "metadata": {},
   "outputs": [],
   "source": [
    "import matplotlib.pyplot as plt"
   ]
  },
  {
   "cell_type": "code",
   "execution_count": 43,
   "id": "8bcaa489",
   "metadata": {},
   "outputs": [
    {
     "data": {
      "text/plain": [
       "(0       0.030\n",
       " 1       0.037\n",
       " 2       0.040\n",
       " 3       0.045\n",
       " 4       0.023\n",
       "         ...  \n",
       " 4893    0.058\n",
       " 4894    0.057\n",
       " 4895    0.039\n",
       " 4896    0.047\n",
       " 4897    0.047\n",
       " Name: Chlorides, Length: 4898, dtype: float64,\n",
       " 0       0.99402\n",
       " 1       0.99040\n",
       " 2       0.99060\n",
       " 3       0.99130\n",
       " 4       0.98993\n",
       "          ...   \n",
       " 4893    1.00241\n",
       " 4894    0.99460\n",
       " 4895    0.99452\n",
       " 4896    0.99240\n",
       " 4897    0.99314\n",
       " Name: Density, Length: 4898, dtype: float64)"
      ]
     },
     "execution_count": 43,
     "metadata": {},
     "output_type": "execute_result"
    }
   ],
   "source": [
    "plot=(df.Chlorides, df.Density)\n",
    "plot"
   ]
  },
  {
   "cell_type": "code",
   "execution_count": 44,
   "id": "e4aedac0",
   "metadata": {},
   "outputs": [
    {
     "name": "stdout",
     "output_type": "stream",
     "text": [
      "<class 'pandas.core.frame.DataFrame'>\n",
      "RangeIndex: 4898 entries, 0 to 4897\n",
      "Data columns (total 12 columns):\n",
      " #   Column                Non-Null Count  Dtype  \n",
      "---  ------                --------------  -----  \n",
      " 0   Fixed Acidity         4898 non-null   float64\n",
      " 1   Volatile Acidity      4898 non-null   float64\n",
      " 2   Citric Acid           4898 non-null   float64\n",
      " 3   Residual Sugar        4898 non-null   float64\n",
      " 4   Chlorides             4898 non-null   float64\n",
      " 5   Free Sulfur Dioxide   4898 non-null   float64\n",
      " 6   Total Sulfur Dioxide  4898 non-null   float64\n",
      " 7   Density               4883 non-null   float64\n",
      " 8   pH                    4898 non-null   float64\n",
      " 9   Sulphates             4898 non-null   float64\n",
      " 10  Alcohol               4886 non-null   float64\n",
      " 11  Quality               4898 non-null   int64  \n",
      "dtypes: float64(11), int64(1)\n",
      "memory usage: 459.3 KB\n"
     ]
    }
   ],
   "source": [
    "df.info()"
   ]
  },
  {
   "cell_type": "code",
   "execution_count": 45,
   "id": "2bd007f6",
   "metadata": {},
   "outputs": [],
   "source": [
    "from sklearn import datasets\n",
    "import numpy as np"
   ]
  },
  {
   "cell_type": "code",
   "execution_count": 49,
   "id": "3d18749b",
   "metadata": {},
   "outputs": [],
   "source": [
    "df=pd.read_csv('iris_data.csv')"
   ]
  },
  {
   "cell_type": "code",
   "execution_count": 51,
   "id": "64b38c9e",
   "metadata": {},
   "outputs": [
    {
     "data": {
      "text/html": [
       "<div>\n",
       "<style scoped>\n",
       "    .dataframe tbody tr th:only-of-type {\n",
       "        vertical-align: middle;\n",
       "    }\n",
       "\n",
       "    .dataframe tbody tr th {\n",
       "        vertical-align: top;\n",
       "    }\n",
       "\n",
       "    .dataframe thead th {\n",
       "        text-align: right;\n",
       "    }\n",
       "</style>\n",
       "<table border=\"1\" class=\"dataframe\">\n",
       "  <thead>\n",
       "    <tr style=\"text-align: right;\">\n",
       "      <th></th>\n",
       "      <th>sepal_length</th>\n",
       "      <th>sepal_width</th>\n",
       "      <th>petal_length</th>\n",
       "      <th>petal_width</th>\n",
       "      <th>species</th>\n",
       "    </tr>\n",
       "  </thead>\n",
       "  <tbody>\n",
       "    <tr>\n",
       "      <th>0</th>\n",
       "      <td>5.1</td>\n",
       "      <td>3.5</td>\n",
       "      <td>1.4</td>\n",
       "      <td>0.2</td>\n",
       "      <td>setosa</td>\n",
       "    </tr>\n",
       "    <tr>\n",
       "      <th>1</th>\n",
       "      <td>4.9</td>\n",
       "      <td>3.0</td>\n",
       "      <td>1.4</td>\n",
       "      <td>0.2</td>\n",
       "      <td>setosa</td>\n",
       "    </tr>\n",
       "    <tr>\n",
       "      <th>2</th>\n",
       "      <td>4.7</td>\n",
       "      <td>3.2</td>\n",
       "      <td>1.3</td>\n",
       "      <td>0.2</td>\n",
       "      <td>setosa</td>\n",
       "    </tr>\n",
       "    <tr>\n",
       "      <th>3</th>\n",
       "      <td>4.6</td>\n",
       "      <td>3.1</td>\n",
       "      <td>1.5</td>\n",
       "      <td>0.2</td>\n",
       "      <td>setosa</td>\n",
       "    </tr>\n",
       "    <tr>\n",
       "      <th>4</th>\n",
       "      <td>5.0</td>\n",
       "      <td>3.6</td>\n",
       "      <td>1.4</td>\n",
       "      <td>0.2</td>\n",
       "      <td>setosa</td>\n",
       "    </tr>\n",
       "  </tbody>\n",
       "</table>\n",
       "</div>"
      ],
      "text/plain": [
       "   sepal_length  sepal_width  petal_length  petal_width species\n",
       "0           5.1          3.5           1.4          0.2  setosa\n",
       "1           4.9          3.0           1.4          0.2  setosa\n",
       "2           4.7          3.2           1.3          0.2  setosa\n",
       "3           4.6          3.1           1.5          0.2  setosa\n",
       "4           5.0          3.6           1.4          0.2  setosa"
      ]
     },
     "execution_count": 51,
     "metadata": {},
     "output_type": "execute_result"
    }
   ],
   "source": [
    "df.head()"
   ]
  },
  {
   "cell_type": "code",
   "execution_count": 52,
   "id": "8f5f5f76",
   "metadata": {},
   "outputs": [
    {
     "name": "stdout",
     "output_type": "stream",
     "text": [
      "<class 'pandas.core.frame.DataFrame'>\n",
      "RangeIndex: 150 entries, 0 to 149\n",
      "Data columns (total 5 columns):\n",
      " #   Column        Non-Null Count  Dtype  \n",
      "---  ------        --------------  -----  \n",
      " 0   sepal_length  150 non-null    float64\n",
      " 1   sepal_width   150 non-null    float64\n",
      " 2   petal_length  150 non-null    float64\n",
      " 3   petal_width   150 non-null    float64\n",
      " 4   species       150 non-null    object \n",
      "dtypes: float64(4), object(1)\n",
      "memory usage: 6.0+ KB\n"
     ]
    }
   ],
   "source": [
    "df.info()"
   ]
  },
  {
   "cell_type": "code",
   "execution_count": 53,
   "id": "cbce9def",
   "metadata": {},
   "outputs": [],
   "source": [
    "import numpy as np\n",
    "import pandas as pd"
   ]
  },
  {
   "cell_type": "code",
   "execution_count": 57,
   "id": "77316f6d",
   "metadata": {},
   "outputs": [
    {
     "data": {
      "text/html": [
       "<div>\n",
       "<style scoped>\n",
       "    .dataframe tbody tr th:only-of-type {\n",
       "        vertical-align: middle;\n",
       "    }\n",
       "\n",
       "    .dataframe tbody tr th {\n",
       "        vertical-align: top;\n",
       "    }\n",
       "\n",
       "    .dataframe thead th {\n",
       "        text-align: right;\n",
       "    }\n",
       "</style>\n",
       "<table border=\"1\" class=\"dataframe\">\n",
       "  <thead>\n",
       "    <tr style=\"text-align: right;\">\n",
       "      <th></th>\n",
       "      <th>A</th>\n",
       "      <th>B</th>\n",
       "      <th>C</th>\n",
       "    </tr>\n",
       "  </thead>\n",
       "  <tbody>\n",
       "    <tr>\n",
       "      <th>0</th>\n",
       "      <td>1</td>\n",
       "      <td>2.0</td>\n",
       "      <td>4.0</td>\n",
       "    </tr>\n",
       "    <tr>\n",
       "      <th>1</th>\n",
       "      <td>2</td>\n",
       "      <td>3.0</td>\n",
       "      <td>5.0</td>\n",
       "    </tr>\n",
       "    <tr>\n",
       "      <th>2</th>\n",
       "      <td>3</td>\n",
       "      <td>NaN</td>\n",
       "      <td>NaN</td>\n",
       "    </tr>\n",
       "    <tr>\n",
       "      <th>3</th>\n",
       "      <td>4</td>\n",
       "      <td>NaN</td>\n",
       "      <td>NaN</td>\n",
       "    </tr>\n",
       "    <tr>\n",
       "      <th>4</th>\n",
       "      <td>5</td>\n",
       "      <td>NaN</td>\n",
       "      <td>9.0</td>\n",
       "    </tr>\n",
       "  </tbody>\n",
       "</table>\n",
       "</div>"
      ],
      "text/plain": [
       "   A    B    C\n",
       "0  1  2.0  4.0\n",
       "1  2  3.0  5.0\n",
       "2  3  NaN  NaN\n",
       "3  4  NaN  NaN\n",
       "4  5  NaN  9.0"
      ]
     },
     "execution_count": 57,
     "metadata": {},
     "output_type": "execute_result"
    }
   ],
   "source": [
    "df=pd.DataFrame({'A':[1,2,3,4,5],\n",
    "                'B':[2,3,np.nan,np.nan,np.nan],\n",
    "                'C':[4,5,np.nan,np.nan,9]})\n",
    "df"
   ]
  },
  {
   "cell_type": "code",
   "execution_count": 59,
   "id": "e2708b87",
   "metadata": {},
   "outputs": [
    {
     "data": {
      "text/html": [
       "<div>\n",
       "<style scoped>\n",
       "    .dataframe tbody tr th:only-of-type {\n",
       "        vertical-align: middle;\n",
       "    }\n",
       "\n",
       "    .dataframe tbody tr th {\n",
       "        vertical-align: top;\n",
       "    }\n",
       "\n",
       "    .dataframe thead th {\n",
       "        text-align: right;\n",
       "    }\n",
       "</style>\n",
       "<table border=\"1\" class=\"dataframe\">\n",
       "  <thead>\n",
       "    <tr style=\"text-align: right;\">\n",
       "      <th></th>\n",
       "      <th>A</th>\n",
       "      <th>B</th>\n",
       "      <th>C</th>\n",
       "    </tr>\n",
       "  </thead>\n",
       "  <tbody>\n",
       "    <tr>\n",
       "      <th>0</th>\n",
       "      <td>1</td>\n",
       "      <td>2.0</td>\n",
       "      <td>4.0</td>\n",
       "    </tr>\n",
       "    <tr>\n",
       "      <th>1</th>\n",
       "      <td>2</td>\n",
       "      <td>3.0</td>\n",
       "      <td>5.0</td>\n",
       "    </tr>\n",
       "  </tbody>\n",
       "</table>\n",
       "</div>"
      ],
      "text/plain": [
       "   A    B    C\n",
       "0  1  2.0  4.0\n",
       "1  2  3.0  5.0"
      ]
     },
     "execution_count": 59,
     "metadata": {},
     "output_type": "execute_result"
    }
   ],
   "source": [
    "df.dropna(axis=0)"
   ]
  },
  {
   "cell_type": "code",
   "execution_count": 60,
   "id": "f67849c7",
   "metadata": {},
   "outputs": [
    {
     "data": {
      "text/html": [
       "<div>\n",
       "<style scoped>\n",
       "    .dataframe tbody tr th:only-of-type {\n",
       "        vertical-align: middle;\n",
       "    }\n",
       "\n",
       "    .dataframe tbody tr th {\n",
       "        vertical-align: top;\n",
       "    }\n",
       "\n",
       "    .dataframe thead th {\n",
       "        text-align: right;\n",
       "    }\n",
       "</style>\n",
       "<table border=\"1\" class=\"dataframe\">\n",
       "  <thead>\n",
       "    <tr style=\"text-align: right;\">\n",
       "      <th></th>\n",
       "      <th>A</th>\n",
       "    </tr>\n",
       "  </thead>\n",
       "  <tbody>\n",
       "    <tr>\n",
       "      <th>0</th>\n",
       "      <td>1</td>\n",
       "    </tr>\n",
       "    <tr>\n",
       "      <th>1</th>\n",
       "      <td>2</td>\n",
       "    </tr>\n",
       "    <tr>\n",
       "      <th>2</th>\n",
       "      <td>3</td>\n",
       "    </tr>\n",
       "    <tr>\n",
       "      <th>3</th>\n",
       "      <td>4</td>\n",
       "    </tr>\n",
       "    <tr>\n",
       "      <th>4</th>\n",
       "      <td>5</td>\n",
       "    </tr>\n",
       "  </tbody>\n",
       "</table>\n",
       "</div>"
      ],
      "text/plain": [
       "   A\n",
       "0  1\n",
       "1  2\n",
       "2  3\n",
       "3  4\n",
       "4  5"
      ]
     },
     "execution_count": 60,
     "metadata": {},
     "output_type": "execute_result"
    }
   ],
   "source": [
    "df.dropna(axis=1)"
   ]
  },
  {
   "cell_type": "code",
   "execution_count": 61,
   "id": "ba7bf2cd",
   "metadata": {},
   "outputs": [
    {
     "data": {
      "text/html": [
       "<div>\n",
       "<style scoped>\n",
       "    .dataframe tbody tr th:only-of-type {\n",
       "        vertical-align: middle;\n",
       "    }\n",
       "\n",
       "    .dataframe tbody tr th {\n",
       "        vertical-align: top;\n",
       "    }\n",
       "\n",
       "    .dataframe thead th {\n",
       "        text-align: right;\n",
       "    }\n",
       "</style>\n",
       "<table border=\"1\" class=\"dataframe\">\n",
       "  <thead>\n",
       "    <tr style=\"text-align: right;\">\n",
       "      <th></th>\n",
       "      <th>A</th>\n",
       "      <th>B</th>\n",
       "      <th>C</th>\n",
       "    </tr>\n",
       "  </thead>\n",
       "  <tbody>\n",
       "    <tr>\n",
       "      <th>0</th>\n",
       "      <td>1</td>\n",
       "      <td>2.0</td>\n",
       "      <td>4.0</td>\n",
       "    </tr>\n",
       "    <tr>\n",
       "      <th>1</th>\n",
       "      <td>2</td>\n",
       "      <td>3.0</td>\n",
       "      <td>5.0</td>\n",
       "    </tr>\n",
       "    <tr>\n",
       "      <th>2</th>\n",
       "      <td>3</td>\n",
       "      <td>NaN</td>\n",
       "      <td>NaN</td>\n",
       "    </tr>\n",
       "    <tr>\n",
       "      <th>3</th>\n",
       "      <td>4</td>\n",
       "      <td>NaN</td>\n",
       "      <td>NaN</td>\n",
       "    </tr>\n",
       "    <tr>\n",
       "      <th>4</th>\n",
       "      <td>5</td>\n",
       "      <td>NaN</td>\n",
       "      <td>9.0</td>\n",
       "    </tr>\n",
       "  </tbody>\n",
       "</table>\n",
       "</div>"
      ],
      "text/plain": [
       "   A    B    C\n",
       "0  1  2.0  4.0\n",
       "1  2  3.0  5.0\n",
       "2  3  NaN  NaN\n",
       "3  4  NaN  NaN\n",
       "4  5  NaN  9.0"
      ]
     },
     "execution_count": 61,
     "metadata": {},
     "output_type": "execute_result"
    }
   ],
   "source": [
    "df.head()"
   ]
  },
  {
   "cell_type": "code",
   "execution_count": 62,
   "id": "e3e4f6b0",
   "metadata": {},
   "outputs": [
    {
     "data": {
      "text/html": [
       "<div>\n",
       "<style scoped>\n",
       "    .dataframe tbody tr th:only-of-type {\n",
       "        vertical-align: middle;\n",
       "    }\n",
       "\n",
       "    .dataframe tbody tr th {\n",
       "        vertical-align: top;\n",
       "    }\n",
       "\n",
       "    .dataframe thead th {\n",
       "        text-align: right;\n",
       "    }\n",
       "</style>\n",
       "<table border=\"1\" class=\"dataframe\">\n",
       "  <thead>\n",
       "    <tr style=\"text-align: right;\">\n",
       "      <th></th>\n",
       "      <th>A</th>\n",
       "      <th>B</th>\n",
       "      <th>C</th>\n",
       "    </tr>\n",
       "  </thead>\n",
       "  <tbody>\n",
       "    <tr>\n",
       "      <th>0</th>\n",
       "      <td>1</td>\n",
       "      <td>2.0</td>\n",
       "      <td>4.0</td>\n",
       "    </tr>\n",
       "    <tr>\n",
       "      <th>1</th>\n",
       "      <td>2</td>\n",
       "      <td>3.0</td>\n",
       "      <td>5.0</td>\n",
       "    </tr>\n",
       "    <tr>\n",
       "      <th>2</th>\n",
       "      <td>3</td>\n",
       "      <td>YIKES</td>\n",
       "      <td>YIKES</td>\n",
       "    </tr>\n",
       "    <tr>\n",
       "      <th>3</th>\n",
       "      <td>4</td>\n",
       "      <td>YIKES</td>\n",
       "      <td>YIKES</td>\n",
       "    </tr>\n",
       "    <tr>\n",
       "      <th>4</th>\n",
       "      <td>5</td>\n",
       "      <td>YIKES</td>\n",
       "      <td>9.0</td>\n",
       "    </tr>\n",
       "  </tbody>\n",
       "</table>\n",
       "</div>"
      ],
      "text/plain": [
       "   A      B      C\n",
       "0  1    2.0    4.0\n",
       "1  2    3.0    5.0\n",
       "2  3  YIKES  YIKES\n",
       "3  4  YIKES  YIKES\n",
       "4  5  YIKES    9.0"
      ]
     },
     "execution_count": 62,
     "metadata": {},
     "output_type": "execute_result"
    }
   ],
   "source": [
    "df.fillna(value=\"YIKES\")"
   ]
  },
  {
   "cell_type": "code",
   "execution_count": 63,
   "id": "6137884c",
   "metadata": {},
   "outputs": [
    {
     "name": "stdout",
     "output_type": "stream",
     "text": [
      "<class 'pandas.core.frame.DataFrame'>\n",
      "RangeIndex: 5 entries, 0 to 4\n",
      "Data columns (total 3 columns):\n",
      " #   Column  Non-Null Count  Dtype  \n",
      "---  ------  --------------  -----  \n",
      " 0   A       5 non-null      int64  \n",
      " 1   B       2 non-null      float64\n",
      " 2   C       3 non-null      float64\n",
      "dtypes: float64(2), int64(1)\n",
      "memory usage: 248.0 bytes\n"
     ]
    }
   ],
   "source": [
    "df.info()"
   ]
  },
  {
   "cell_type": "markdown",
   "id": "14eb02e3",
   "metadata": {},
   "source": [
    "## Simple Imputer"
   ]
  },
  {
   "cell_type": "code",
   "execution_count": 74,
   "id": "54aa6429",
   "metadata": {},
   "outputs": [],
   "source": [
    "import numpy as np\n",
    "import pandas as pd\n",
    "from sklearn.impute import SimpleImputer\n",
    "imr=SimpleImputer(missing_values=np.nan, strategy='mean')"
   ]
  },
  {
   "cell_type": "code",
   "execution_count": 75,
   "id": "587c6735",
   "metadata": {},
   "outputs": [
    {
     "data": {
      "text/plain": [
       "array([[1. , 2. , 4. ],\n",
       "       [2. , 3. , 5. ],\n",
       "       [3. , 2.5, 6. ],\n",
       "       [4. , 2.5, 6. ],\n",
       "       [5. , 2.5, 9. ]])"
      ]
     },
     "execution_count": 75,
     "metadata": {},
     "output_type": "execute_result"
    }
   ],
   "source": [
    "imr=imr.fit_transform(df.values)\n",
    "imr"
   ]
  },
  {
   "cell_type": "code",
   "execution_count": 76,
   "id": "0945621f",
   "metadata": {},
   "outputs": [],
   "source": [
    "import numpy as np\n",
    "import pandas as pd\n"
   ]
  },
  {
   "cell_type": "code",
   "execution_count": 78,
   "id": "8dd6c158",
   "metadata": {},
   "outputs": [
    {
     "data": {
      "text/html": [
       "<div>\n",
       "<style scoped>\n",
       "    .dataframe tbody tr th:only-of-type {\n",
       "        vertical-align: middle;\n",
       "    }\n",
       "\n",
       "    .dataframe tbody tr th {\n",
       "        vertical-align: top;\n",
       "    }\n",
       "\n",
       "    .dataframe thead th {\n",
       "        text-align: right;\n",
       "    }\n",
       "</style>\n",
       "<table border=\"1\" class=\"dataframe\">\n",
       "  <thead>\n",
       "    <tr style=\"text-align: right;\">\n",
       "      <th></th>\n",
       "      <th>A</th>\n",
       "      <th>B</th>\n",
       "      <th>C</th>\n",
       "    </tr>\n",
       "  </thead>\n",
       "  <tbody>\n",
       "    <tr>\n",
       "      <th>0</th>\n",
       "      <td>1</td>\n",
       "      <td>3.0</td>\n",
       "      <td>NaN</td>\n",
       "    </tr>\n",
       "    <tr>\n",
       "      <th>1</th>\n",
       "      <td>2</td>\n",
       "      <td>4.0</td>\n",
       "      <td>NaN</td>\n",
       "    </tr>\n",
       "    <tr>\n",
       "      <th>2</th>\n",
       "      <td>3</td>\n",
       "      <td>NaN</td>\n",
       "      <td>6.0</td>\n",
       "    </tr>\n",
       "    <tr>\n",
       "      <th>3</th>\n",
       "      <td>4</td>\n",
       "      <td>NaN</td>\n",
       "      <td>NaN</td>\n",
       "    </tr>\n",
       "  </tbody>\n",
       "</table>\n",
       "</div>"
      ],
      "text/plain": [
       "   A    B    C\n",
       "0  1  3.0  NaN\n",
       "1  2  4.0  NaN\n",
       "2  3  NaN  6.0\n",
       "3  4  NaN  NaN"
      ]
     },
     "execution_count": 78,
     "metadata": {},
     "output_type": "execute_result"
    }
   ],
   "source": [
    "df=pd.DataFrame({'A':[1,2,3,4], 'B':[3,4,np.nan, np.nan], 'C': [np.nan, np.nan, 6,np.nan]})\n",
    "df"
   ]
  },
  {
   "cell_type": "code",
   "execution_count": 80,
   "id": "52cadcc6",
   "metadata": {},
   "outputs": [
    {
     "name": "stdout",
     "output_type": "stream",
     "text": [
      "<class 'pandas.core.frame.DataFrame'>\n",
      "RangeIndex: 4 entries, 0 to 3\n",
      "Data columns (total 3 columns):\n",
      " #   Column  Non-Null Count  Dtype  \n",
      "---  ------  --------------  -----  \n",
      " 0   A       4 non-null      int64  \n",
      " 1   B       2 non-null      float64\n",
      " 2   C       1 non-null      float64\n",
      "dtypes: float64(2), int64(1)\n",
      "memory usage: 224.0 bytes\n"
     ]
    }
   ],
   "source": [
    "df.info()\n"
   ]
  },
  {
   "cell_type": "code",
   "execution_count": 81,
   "id": "e181a098",
   "metadata": {},
   "outputs": [
    {
     "data": {
      "text/plain": [
       "4"
      ]
     },
     "execution_count": 81,
     "metadata": {},
     "output_type": "execute_result"
    }
   ],
   "source": [
    "df.shape[0]"
   ]
  },
  {
   "cell_type": "code",
   "execution_count": 82,
   "id": "ca2d9548",
   "metadata": {},
   "outputs": [
    {
     "data": {
      "text/plain": [
       "3"
      ]
     },
     "execution_count": 82,
     "metadata": {},
     "output_type": "execute_result"
    }
   ],
   "source": [
    "df.shape[1]"
   ]
  },
  {
   "cell_type": "code",
   "execution_count": 83,
   "id": "632784a6",
   "metadata": {},
   "outputs": [
    {
     "data": {
      "text/html": [
       "<div>\n",
       "<style scoped>\n",
       "    .dataframe tbody tr th:only-of-type {\n",
       "        vertical-align: middle;\n",
       "    }\n",
       "\n",
       "    .dataframe tbody tr th {\n",
       "        vertical-align: top;\n",
       "    }\n",
       "\n",
       "    .dataframe thead th {\n",
       "        text-align: right;\n",
       "    }\n",
       "</style>\n",
       "<table border=\"1\" class=\"dataframe\">\n",
       "  <thead>\n",
       "    <tr style=\"text-align: right;\">\n",
       "      <th></th>\n",
       "      <th>A</th>\n",
       "      <th>B</th>\n",
       "      <th>C</th>\n",
       "    </tr>\n",
       "  </thead>\n",
       "  <tbody>\n",
       "  </tbody>\n",
       "</table>\n",
       "</div>"
      ],
      "text/plain": [
       "Empty DataFrame\n",
       "Columns: [A, B, C]\n",
       "Index: []"
      ]
     },
     "execution_count": 83,
     "metadata": {},
     "output_type": "execute_result"
    }
   ],
   "source": [
    "df.dropna(axis=0)"
   ]
  },
  {
   "cell_type": "code",
   "execution_count": 84,
   "id": "2b079a23",
   "metadata": {},
   "outputs": [
    {
     "data": {
      "text/html": [
       "<div>\n",
       "<style scoped>\n",
       "    .dataframe tbody tr th:only-of-type {\n",
       "        vertical-align: middle;\n",
       "    }\n",
       "\n",
       "    .dataframe tbody tr th {\n",
       "        vertical-align: top;\n",
       "    }\n",
       "\n",
       "    .dataframe thead th {\n",
       "        text-align: right;\n",
       "    }\n",
       "</style>\n",
       "<table border=\"1\" class=\"dataframe\">\n",
       "  <thead>\n",
       "    <tr style=\"text-align: right;\">\n",
       "      <th></th>\n",
       "      <th>A</th>\n",
       "    </tr>\n",
       "  </thead>\n",
       "  <tbody>\n",
       "    <tr>\n",
       "      <th>0</th>\n",
       "      <td>1</td>\n",
       "    </tr>\n",
       "    <tr>\n",
       "      <th>1</th>\n",
       "      <td>2</td>\n",
       "    </tr>\n",
       "    <tr>\n",
       "      <th>2</th>\n",
       "      <td>3</td>\n",
       "    </tr>\n",
       "    <tr>\n",
       "      <th>3</th>\n",
       "      <td>4</td>\n",
       "    </tr>\n",
       "  </tbody>\n",
       "</table>\n",
       "</div>"
      ],
      "text/plain": [
       "   A\n",
       "0  1\n",
       "1  2\n",
       "2  3\n",
       "3  4"
      ]
     },
     "execution_count": 84,
     "metadata": {},
     "output_type": "execute_result"
    }
   ],
   "source": [
    "df.dropna(axis=1)"
   ]
  },
  {
   "cell_type": "code",
   "execution_count": 86,
   "id": "8518c808",
   "metadata": {},
   "outputs": [
    {
     "data": {
      "text/plain": [
       "A      int64\n",
       "B    float64\n",
       "C    float64\n",
       "dtype: object"
      ]
     },
     "execution_count": 86,
     "metadata": {},
     "output_type": "execute_result"
    }
   ],
   "source": [
    "df.dtypes"
   ]
  },
  {
   "cell_type": "code",
   "execution_count": 87,
   "id": "f64e5c89",
   "metadata": {},
   "outputs": [
    {
     "data": {
      "text/html": [
       "<div>\n",
       "<style scoped>\n",
       "    .dataframe tbody tr th:only-of-type {\n",
       "        vertical-align: middle;\n",
       "    }\n",
       "\n",
       "    .dataframe tbody tr th {\n",
       "        vertical-align: top;\n",
       "    }\n",
       "\n",
       "    .dataframe thead th {\n",
       "        text-align: right;\n",
       "    }\n",
       "</style>\n",
       "<table border=\"1\" class=\"dataframe\">\n",
       "  <thead>\n",
       "    <tr style=\"text-align: right;\">\n",
       "      <th></th>\n",
       "      <th>A</th>\n",
       "      <th>B</th>\n",
       "      <th>C</th>\n",
       "    </tr>\n",
       "  </thead>\n",
       "  <tbody>\n",
       "    <tr>\n",
       "      <th>0</th>\n",
       "      <td>1</td>\n",
       "      <td>3.0</td>\n",
       "      <td>YOKES</td>\n",
       "    </tr>\n",
       "    <tr>\n",
       "      <th>1</th>\n",
       "      <td>2</td>\n",
       "      <td>4.0</td>\n",
       "      <td>YOKES</td>\n",
       "    </tr>\n",
       "    <tr>\n",
       "      <th>2</th>\n",
       "      <td>3</td>\n",
       "      <td>YOKES</td>\n",
       "      <td>6.0</td>\n",
       "    </tr>\n",
       "    <tr>\n",
       "      <th>3</th>\n",
       "      <td>4</td>\n",
       "      <td>YOKES</td>\n",
       "      <td>YOKES</td>\n",
       "    </tr>\n",
       "  </tbody>\n",
       "</table>\n",
       "</div>"
      ],
      "text/plain": [
       "   A      B      C\n",
       "0  1    3.0  YOKES\n",
       "1  2    4.0  YOKES\n",
       "2  3  YOKES    6.0\n",
       "3  4  YOKES  YOKES"
      ]
     },
     "execution_count": 87,
     "metadata": {},
     "output_type": "execute_result"
    }
   ],
   "source": [
    "df.fillna(value=\"YOKES\")"
   ]
  },
  {
   "cell_type": "code",
   "execution_count": 88,
   "id": "2279ee72",
   "metadata": {},
   "outputs": [
    {
     "data": {
      "text/plain": [
       "0    3.0\n",
       "1    4.0\n",
       "2    3.5\n",
       "3    3.5\n",
       "Name: B, dtype: float64"
      ]
     },
     "execution_count": 88,
     "metadata": {},
     "output_type": "execute_result"
    }
   ],
   "source": [
    "df['B'].fillna(value=df['B'].mean())"
   ]
  },
  {
   "cell_type": "code",
   "execution_count": 89,
   "id": "aad67fdb",
   "metadata": {},
   "outputs": [
    {
     "data": {
      "text/plain": [
       "0    2.5\n",
       "1    2.5\n",
       "2    6.0\n",
       "3    2.5\n",
       "Name: C, dtype: float64"
      ]
     },
     "execution_count": 89,
     "metadata": {},
     "output_type": "execute_result"
    }
   ],
   "source": [
    "df['C'].fillna(df['A'].mean())"
   ]
  },
  {
   "cell_type": "markdown",
   "id": "10dca8e6",
   "metadata": {},
   "source": [
    "## Using imputer"
   ]
  },
  {
   "cell_type": "code",
   "execution_count": 90,
   "id": "65ee6055",
   "metadata": {},
   "outputs": [],
   "source": [
    "from sklearn.impute import SimpleImputer\n",
    "import pandas as pd"
   ]
  },
  {
   "cell_type": "code",
   "execution_count": 91,
   "id": "022363ce",
   "metadata": {},
   "outputs": [
    {
     "data": {
      "text/plain": [
       "array([[1. , 3. , 6. ],\n",
       "       [2. , 4. , 6. ],\n",
       "       [3. , 3.5, 6. ],\n",
       "       [4. , 3.5, 6. ]])"
      ]
     },
     "execution_count": 91,
     "metadata": {},
     "output_type": "execute_result"
    }
   ],
   "source": [
    "imr=SimpleImputer(missing_values=np.nan, strategy='mean')\n",
    "imr=imr.fit_transform(df.values)\n",
    "imr"
   ]
  },
  {
   "cell_type": "code",
   "execution_count": 92,
   "id": "241b8968",
   "metadata": {},
   "outputs": [],
   "source": [
    "from sklearn.impute import SimpleImputer\n",
    "import pandas as pd"
   ]
  },
  {
   "cell_type": "code",
   "execution_count": 93,
   "id": "69e5630c",
   "metadata": {},
   "outputs": [
    {
     "data": {
      "text/plain": [
       "array([[1. , 3. , 6. ],\n",
       "       [2. , 4. , 6. ],\n",
       "       [3. , 3.5, 6. ],\n",
       "       [4. , 3.5, 6. ]])"
      ]
     },
     "execution_count": 93,
     "metadata": {},
     "output_type": "execute_result"
    }
   ],
   "source": [
    "imr=SimpleImputer(missing_values=np.nan, strategy='median')\n",
    "imr=imr.fit_transform(df.values)\n",
    "imr"
   ]
  },
  {
   "cell_type": "code",
   "execution_count": 95,
   "id": "cecdc632",
   "metadata": {},
   "outputs": [
    {
     "data": {
      "text/plain": [
       "array([[1., 3., 6.],\n",
       "       [2., 4., 6.],\n",
       "       [3., 3., 6.],\n",
       "       [4., 3., 6.]])"
      ]
     },
     "execution_count": 95,
     "metadata": {},
     "output_type": "execute_result"
    }
   ],
   "source": [
    "import pandas as pd\n",
    "from sklearn.impute import SimpleImputer\n",
    "imr=SimpleImputer(missing_values=np.nan, strategy='most_frequent')\n",
    "imr=imr.fit_transform(df.values)\n",
    "imr"
   ]
  },
  {
   "cell_type": "code",
   "execution_count": 106,
   "id": "a03475aa",
   "metadata": {},
   "outputs": [
    {
     "data": {
      "text/html": [
       "<div>\n",
       "<style scoped>\n",
       "    .dataframe tbody tr th:only-of-type {\n",
       "        vertical-align: middle;\n",
       "    }\n",
       "\n",
       "    .dataframe tbody tr th {\n",
       "        vertical-align: top;\n",
       "    }\n",
       "\n",
       "    .dataframe thead th {\n",
       "        text-align: right;\n",
       "    }\n",
       "</style>\n",
       "<table border=\"1\" class=\"dataframe\">\n",
       "  <thead>\n",
       "    <tr style=\"text-align: right;\">\n",
       "      <th></th>\n",
       "      <th>A</th>\n",
       "      <th>B</th>\n",
       "    </tr>\n",
       "  </thead>\n",
       "  <tbody>\n",
       "    <tr>\n",
       "      <th>0</th>\n",
       "      <td>0</td>\n",
       "      <td>Audi</td>\n",
       "    </tr>\n",
       "    <tr>\n",
       "      <th>1</th>\n",
       "      <td>3</td>\n",
       "      <td>Maruti</td>\n",
       "    </tr>\n",
       "    <tr>\n",
       "      <th>2</th>\n",
       "      <td>1</td>\n",
       "      <td>Maruti</td>\n",
       "    </tr>\n",
       "    <tr>\n",
       "      <th>3</th>\n",
       "      <td>2</td>\n",
       "      <td>Hyundai</td>\n",
       "    </tr>\n",
       "    <tr>\n",
       "      <th>4</th>\n",
       "      <td>2</td>\n",
       "      <td>kia</td>\n",
       "    </tr>\n",
       "    <tr>\n",
       "      <th>5</th>\n",
       "      <td>2</td>\n",
       "      <td>Renault</td>\n",
       "    </tr>\n",
       "    <tr>\n",
       "      <th>6</th>\n",
       "      <td>0</td>\n",
       "      <td>Lambo</td>\n",
       "    </tr>\n",
       "  </tbody>\n",
       "</table>\n",
       "</div>"
      ],
      "text/plain": [
       "   A        B\n",
       "0  0     Audi\n",
       "1  3   Maruti\n",
       "2  1   Maruti\n",
       "3  2  Hyundai\n",
       "4  2      kia\n",
       "5  2  Renault\n",
       "6  0    Lambo"
      ]
     },
     "execution_count": 106,
     "metadata": {},
     "output_type": "execute_result"
    }
   ],
   "source": [
    "import pandas as pd\n",
    "import numpy as np\n",
    "df=pd.DataFrame({'A': ['Asus', 'Mac', 'HP', 'Lenevo','Lenevo',\n",
    "                       'Lenevo', 'Asus'], 'B':['Audi','Maruti','Maruti', 'Hyundai', 'kia', 'Renault', 'Lambo']})\n",
    "from sklearn.preprocessing import LabelEncoder\n",
    "le=LabelEncoder() # Calling LabelEncoder\n",
    "df['A']=le.fit_transform(df['A'].values)\n",
    "df\n"
   ]
  },
  {
   "cell_type": "code",
   "execution_count": 108,
   "id": "e345cd7a",
   "metadata": {},
   "outputs": [
    {
     "data": {
      "text/html": [
       "<div>\n",
       "<style scoped>\n",
       "    .dataframe tbody tr th:only-of-type {\n",
       "        vertical-align: middle;\n",
       "    }\n",
       "\n",
       "    .dataframe tbody tr th {\n",
       "        vertical-align: top;\n",
       "    }\n",
       "\n",
       "    .dataframe thead th {\n",
       "        text-align: right;\n",
       "    }\n",
       "</style>\n",
       "<table border=\"1\" class=\"dataframe\">\n",
       "  <thead>\n",
       "    <tr style=\"text-align: right;\">\n",
       "      <th></th>\n",
       "      <th>A</th>\n",
       "      <th>B</th>\n",
       "    </tr>\n",
       "  </thead>\n",
       "  <tbody>\n",
       "    <tr>\n",
       "      <th>0</th>\n",
       "      <td>0</td>\n",
       "      <td>0</td>\n",
       "    </tr>\n",
       "    <tr>\n",
       "      <th>1</th>\n",
       "      <td>3</td>\n",
       "      <td>3</td>\n",
       "    </tr>\n",
       "    <tr>\n",
       "      <th>2</th>\n",
       "      <td>1</td>\n",
       "      <td>3</td>\n",
       "    </tr>\n",
       "    <tr>\n",
       "      <th>3</th>\n",
       "      <td>2</td>\n",
       "      <td>1</td>\n",
       "    </tr>\n",
       "    <tr>\n",
       "      <th>4</th>\n",
       "      <td>2</td>\n",
       "      <td>5</td>\n",
       "    </tr>\n",
       "    <tr>\n",
       "      <th>5</th>\n",
       "      <td>2</td>\n",
       "      <td>4</td>\n",
       "    </tr>\n",
       "    <tr>\n",
       "      <th>6</th>\n",
       "      <td>0</td>\n",
       "      <td>2</td>\n",
       "    </tr>\n",
       "  </tbody>\n",
       "</table>\n",
       "</div>"
      ],
      "text/plain": [
       "   A  B\n",
       "0  0  0\n",
       "1  3  3\n",
       "2  1  3\n",
       "3  2  1\n",
       "4  2  5\n",
       "5  2  4\n",
       "6  0  2"
      ]
     },
     "execution_count": 108,
     "metadata": {},
     "output_type": "execute_result"
    }
   ],
   "source": [
    "import numpy as np\n",
    "import pandas as pd\n",
    "from sklearn.preprocessing import LabelEncoder\n",
    "le=LabelEncoder()\n",
    "df['B']=le.fit_transform(df['B'].values)\n",
    "df"
   ]
  },
  {
   "cell_type": "markdown",
   "id": "84105894",
   "metadata": {},
   "source": [
    "## One Hot Encoding"
   ]
  },
  {
   "cell_type": "code",
   "execution_count": 1,
   "id": "5324ceb3",
   "metadata": {},
   "outputs": [],
   "source": [
    "import numpy as np\n",
    "import pandas as pd\n",
    "df=pd.DataFrame({'A':['Hyundai', 'Hyundai', 'Hyundai', 'Maruti', 'Maruti', 'Audi']})"
   ]
  },
  {
   "cell_type": "code",
   "execution_count": 2,
   "id": "2e34f25c",
   "metadata": {},
   "outputs": [],
   "source": [
    "from sklearn.preprocessing import LabelEncoder\n",
    "from sklearn.preprocessing import OneHotEncoder\n",
    "from sklearn.compose import ColumnTransformer\n",
    "# Column transfer is used because each attribute of the array here is \n",
    "# transformed into a column"
   ]
  },
  {
   "cell_type": "code",
   "execution_count": 3,
   "id": "d839940e",
   "metadata": {},
   "outputs": [],
   "source": [
    "#le=LabelEncoder()\n",
    "#df['A']=le.fit_transform(df['A'].values)\n",
    "#df"
   ]
  },
  {
   "cell_type": "code",
   "execution_count": 4,
   "id": "0872a902",
   "metadata": {},
   "outputs": [
    {
     "data": {
      "text/html": [
       "<div>\n",
       "<style scoped>\n",
       "    .dataframe tbody tr th:only-of-type {\n",
       "        vertical-align: middle;\n",
       "    }\n",
       "\n",
       "    .dataframe tbody tr th {\n",
       "        vertical-align: top;\n",
       "    }\n",
       "\n",
       "    .dataframe thead th {\n",
       "        text-align: right;\n",
       "    }\n",
       "</style>\n",
       "<table border=\"1\" class=\"dataframe\">\n",
       "  <thead>\n",
       "    <tr style=\"text-align: right;\">\n",
       "      <th></th>\n",
       "      <th>A</th>\n",
       "    </tr>\n",
       "  </thead>\n",
       "  <tbody>\n",
       "    <tr>\n",
       "      <th>0</th>\n",
       "      <td>Hyundai</td>\n",
       "    </tr>\n",
       "    <tr>\n",
       "      <th>1</th>\n",
       "      <td>Hyundai</td>\n",
       "    </tr>\n",
       "    <tr>\n",
       "      <th>2</th>\n",
       "      <td>Hyundai</td>\n",
       "    </tr>\n",
       "    <tr>\n",
       "      <th>3</th>\n",
       "      <td>Maruti</td>\n",
       "    </tr>\n",
       "    <tr>\n",
       "      <th>4</th>\n",
       "      <td>Maruti</td>\n",
       "    </tr>\n",
       "    <tr>\n",
       "      <th>5</th>\n",
       "      <td>Audi</td>\n",
       "    </tr>\n",
       "  </tbody>\n",
       "</table>\n",
       "</div>"
      ],
      "text/plain": [
       "         A\n",
       "0  Hyundai\n",
       "1  Hyundai\n",
       "2  Hyundai\n",
       "3   Maruti\n",
       "4   Maruti\n",
       "5     Audi"
      ]
     },
     "execution_count": 4,
     "metadata": {},
     "output_type": "execute_result"
    }
   ],
   "source": [
    "df"
   ]
  },
  {
   "cell_type": "code",
   "execution_count": 5,
   "id": "9174a00f",
   "metadata": {},
   "outputs": [
    {
     "data": {
      "text/plain": [
       "array([[0., 1., 0.],\n",
       "       [0., 1., 0.],\n",
       "       [0., 1., 0.],\n",
       "       [0., 0., 1.],\n",
       "       [0., 0., 1.],\n",
       "       [1., 0., 0.]])"
      ]
     },
     "execution_count": 5,
     "metadata": {},
     "output_type": "execute_result"
    }
   ],
   "source": [
    "ct=ColumnTransformer([('encoder', OneHotEncoder(), [0])])\n",
    "x=np.array(ct.fit_transform(df))\n",
    "x"
   ]
  },
  {
   "cell_type": "markdown",
   "id": "cfc3dad7",
   "metadata": {},
   "source": [
    "## Another One"
   ]
  },
  {
   "cell_type": "code",
   "execution_count": 15,
   "id": "edd35e12",
   "metadata": {},
   "outputs": [],
   "source": [
    "import numpy as np\n",
    "import pandas as pd\n",
    "from sklearn.preprocessing import OneHotEncoder\n",
    "from sklearn.preprocessing import LabelEncoder\n",
    "from sklearn.compose import ColumnTransformer"
   ]
  },
  {
   "cell_type": "code",
   "execution_count": 17,
   "id": "637e4e1c",
   "metadata": {},
   "outputs": [
    {
     "data": {
      "text/plain": [
       "array([[0., 1.],\n",
       "       [0., 1.],\n",
       "       [0., 1.],\n",
       "       [1., 0.],\n",
       "       [1., 0.]])"
      ]
     },
     "execution_count": 17,
     "metadata": {},
     "output_type": "execute_result"
    }
   ],
   "source": [
    "dd=pd.DataFrame({'A':['Girl', 'Girl', 'Girl', 'Boy', 'Boy']})\n",
    "ct=ColumnTransformer([('encoder', OneHotEncoder(), [0])])\n",
    "x=np.array(ct.fit_transform(dd))\n",
    "x"
   ]
  },
  {
   "cell_type": "code",
   "execution_count": 25,
   "id": "61621bca",
   "metadata": {},
   "outputs": [],
   "source": [
    "import numpy as np\n",
    "import pandas as pd\n",
    "from sklearn.preprocessing import LabelEncoder\n",
    "from sklearn.preprocessing import OneHotEncoder\n",
    "from sklearn.compose import ColumnTransformer"
   ]
  },
  {
   "cell_type": "code",
   "execution_count": 28,
   "id": "cc2d27df",
   "metadata": {},
   "outputs": [],
   "source": [
    "#dt=pd.DataFrame('Girl Girl Girl Boy Boy Girl'.split(), columns=['gender'])\n",
    "#le=LabelEncoder()\n",
    "#dt['gender']=le.fit_transform(dt['gender'].values)\n",
    "#dt"
   ]
  },
  {
   "cell_type": "markdown",
   "id": "09de796e",
   "metadata": {},
   "source": [
    "## Performing OneHotEncoding here"
   ]
  },
  {
   "cell_type": "code",
   "execution_count": 30,
   "id": "1bea210a",
   "metadata": {},
   "outputs": [],
   "source": [
    "import numpy as np\n",
    "import pandas as pd\n",
    "from sklearn.preprocessing import OneHotEncoder\n",
    "from sklearn.compose import ColumnTransformer"
   ]
  },
  {
   "cell_type": "code",
   "execution_count": 33,
   "id": "55a160cc",
   "metadata": {},
   "outputs": [
    {
     "data": {
      "text/plain": [
       "array([[0., 1.],\n",
       "       [0., 1.],\n",
       "       [1., 0.],\n",
       "       [1., 0.],\n",
       "       [1., 0.]])"
      ]
     },
     "execution_count": 33,
     "metadata": {},
     "output_type": "execute_result"
    }
   ],
   "source": [
    "ds=pd.DataFrame('Girl Girl Boy Boy Boy'.split(), columns=['Gender'])\n",
    "ct=ColumnTransformer([('encoder', OneHotEncoder(), [0])])\n",
    "x=np.array(ct.fit_transform(ds))\n",
    "x"
   ]
  },
  {
   "cell_type": "markdown",
   "id": "72c01994",
   "metadata": {},
   "source": [
    "## Playing with dummies"
   ]
  },
  {
   "cell_type": "code",
   "execution_count": 34,
   "id": "3249897e",
   "metadata": {},
   "outputs": [],
   "source": [
    "import pandas as pd\n",
    "import numpy as np"
   ]
  },
  {
   "cell_type": "code",
   "execution_count": 38,
   "id": "e90d7c85",
   "metadata": {},
   "outputs": [
    {
     "data": {
      "text/html": [
       "<div>\n",
       "<style scoped>\n",
       "    .dataframe tbody tr th:only-of-type {\n",
       "        vertical-align: middle;\n",
       "    }\n",
       "\n",
       "    .dataframe tbody tr th {\n",
       "        vertical-align: top;\n",
       "    }\n",
       "\n",
       "    .dataframe thead th {\n",
       "        text-align: right;\n",
       "    }\n",
       "</style>\n",
       "<table border=\"1\" class=\"dataframe\">\n",
       "  <thead>\n",
       "    <tr style=\"text-align: right;\">\n",
       "      <th></th>\n",
       "      <th>Great_Africa</th>\n",
       "      <th>Great_India</th>\n",
       "      <th>Great_Indonsia</th>\n",
       "    </tr>\n",
       "  </thead>\n",
       "  <tbody>\n",
       "    <tr>\n",
       "      <th>0</th>\n",
       "      <td>1</td>\n",
       "      <td>0</td>\n",
       "      <td>0</td>\n",
       "    </tr>\n",
       "    <tr>\n",
       "      <th>1</th>\n",
       "      <td>0</td>\n",
       "      <td>1</td>\n",
       "      <td>0</td>\n",
       "    </tr>\n",
       "    <tr>\n",
       "      <th>2</th>\n",
       "      <td>0</td>\n",
       "      <td>0</td>\n",
       "      <td>1</td>\n",
       "    </tr>\n",
       "  </tbody>\n",
       "</table>\n",
       "</div>"
      ],
      "text/plain": [
       "   Great_Africa  Great_India  Great_Indonsia\n",
       "0             1            0               0\n",
       "1             0            1               0\n",
       "2             0            0               1"
      ]
     },
     "execution_count": 38,
     "metadata": {},
     "output_type": "execute_result"
    }
   ],
   "source": [
    "dg=pd.DataFrame('Africa India Indonsia'.split(), columns=['Country'])\n",
    "x=pd.get_dummies(dg,prefix=['Great'])\n",
    "x"
   ]
  },
  {
   "cell_type": "code",
   "execution_count": 39,
   "id": "b97564e2",
   "metadata": {},
   "outputs": [],
   "source": [
    "import pandas as pd\n",
    "import numpy as np"
   ]
  },
  {
   "cell_type": "code",
   "execution_count": 42,
   "id": "aa6d0c52",
   "metadata": {},
   "outputs": [
    {
     "data": {
      "text/html": [
       "<div>\n",
       "<style scoped>\n",
       "    .dataframe tbody tr th:only-of-type {\n",
       "        vertical-align: middle;\n",
       "    }\n",
       "\n",
       "    .dataframe tbody tr th {\n",
       "        vertical-align: top;\n",
       "    }\n",
       "\n",
       "    .dataframe thead th {\n",
       "        text-align: right;\n",
       "    }\n",
       "</style>\n",
       "<table border=\"1\" class=\"dataframe\">\n",
       "  <thead>\n",
       "    <tr style=\"text-align: right;\">\n",
       "      <th></th>\n",
       "      <th>Hot_Boy</th>\n",
       "      <th>Hot_Girl</th>\n",
       "    </tr>\n",
       "  </thead>\n",
       "  <tbody>\n",
       "    <tr>\n",
       "      <th>0</th>\n",
       "      <td>1</td>\n",
       "      <td>0</td>\n",
       "    </tr>\n",
       "    <tr>\n",
       "      <th>1</th>\n",
       "      <td>0</td>\n",
       "      <td>1</td>\n",
       "    </tr>\n",
       "  </tbody>\n",
       "</table>\n",
       "</div>"
      ],
      "text/plain": [
       "   Hot_Boy  Hot_Girl\n",
       "0        1         0\n",
       "1        0         1"
      ]
     },
     "execution_count": 42,
     "metadata": {},
     "output_type": "execute_result"
    }
   ],
   "source": [
    "dh=pd.DataFrame('Boy Girl'.split(), columns=['Gender'])\n",
    "x=pd.get_dummies(dh,prefix=['Hot'])\n",
    "x"
   ]
  },
  {
   "cell_type": "markdown",
   "id": "1aa1a864",
   "metadata": {},
   "source": [
    "## Real Deal with Data"
   ]
  },
  {
   "cell_type": "code",
   "execution_count": 43,
   "id": "12982646",
   "metadata": {
    "scrolled": true
   },
   "outputs": [
    {
     "data": {
      "text/html": [
       "<div>\n",
       "<style scoped>\n",
       "    .dataframe tbody tr th:only-of-type {\n",
       "        vertical-align: middle;\n",
       "    }\n",
       "\n",
       "    .dataframe tbody tr th {\n",
       "        vertical-align: top;\n",
       "    }\n",
       "\n",
       "    .dataframe thead th {\n",
       "        text-align: right;\n",
       "    }\n",
       "</style>\n",
       "<table border=\"1\" class=\"dataframe\">\n",
       "  <thead>\n",
       "    <tr style=\"text-align: right;\">\n",
       "      <th></th>\n",
       "      <th>Fixed Acidity</th>\n",
       "      <th>Volatile Acidity</th>\n",
       "      <th>Citric Acid</th>\n",
       "      <th>Residual Sugar</th>\n",
       "      <th>Chlorides</th>\n",
       "      <th>Free Sulfur Dioxide</th>\n",
       "      <th>Total Sulfur Dioxide</th>\n",
       "      <th>Density</th>\n",
       "      <th>pH</th>\n",
       "      <th>Sulphates</th>\n",
       "      <th>Alcohol</th>\n",
       "      <th>Quality</th>\n",
       "    </tr>\n",
       "  </thead>\n",
       "  <tbody>\n",
       "    <tr>\n",
       "      <th>0</th>\n",
       "      <td>6.5</td>\n",
       "      <td>0.270</td>\n",
       "      <td>0.26</td>\n",
       "      <td>11.00</td>\n",
       "      <td>0.030</td>\n",
       "      <td>2.0</td>\n",
       "      <td>82.0</td>\n",
       "      <td>0.99402</td>\n",
       "      <td>3.07</td>\n",
       "      <td>0.36</td>\n",
       "      <td>11.2</td>\n",
       "      <td>5</td>\n",
       "    </tr>\n",
       "    <tr>\n",
       "      <th>1</th>\n",
       "      <td>5.8</td>\n",
       "      <td>0.360</td>\n",
       "      <td>0.38</td>\n",
       "      <td>0.90</td>\n",
       "      <td>0.037</td>\n",
       "      <td>3.0</td>\n",
       "      <td>75.0</td>\n",
       "      <td>0.99040</td>\n",
       "      <td>3.28</td>\n",
       "      <td>0.34</td>\n",
       "      <td>11.4</td>\n",
       "      <td>4</td>\n",
       "    </tr>\n",
       "    <tr>\n",
       "      <th>2</th>\n",
       "      <td>7.2</td>\n",
       "      <td>0.310</td>\n",
       "      <td>0.46</td>\n",
       "      <td>5.00</td>\n",
       "      <td>0.040</td>\n",
       "      <td>3.0</td>\n",
       "      <td>29.0</td>\n",
       "      <td>0.99060</td>\n",
       "      <td>3.04</td>\n",
       "      <td>0.53</td>\n",
       "      <td>12.5</td>\n",
       "      <td>4</td>\n",
       "    </tr>\n",
       "    <tr>\n",
       "      <th>3</th>\n",
       "      <td>7.2</td>\n",
       "      <td>0.240</td>\n",
       "      <td>0.34</td>\n",
       "      <td>1.10</td>\n",
       "      <td>0.045</td>\n",
       "      <td>3.0</td>\n",
       "      <td>64.0</td>\n",
       "      <td>0.99130</td>\n",
       "      <td>3.23</td>\n",
       "      <td>0.51</td>\n",
       "      <td>11.4</td>\n",
       "      <td>5</td>\n",
       "    </tr>\n",
       "    <tr>\n",
       "      <th>4</th>\n",
       "      <td>7.1</td>\n",
       "      <td>0.270</td>\n",
       "      <td>0.28</td>\n",
       "      <td>1.25</td>\n",
       "      <td>0.023</td>\n",
       "      <td>3.0</td>\n",
       "      <td>89.0</td>\n",
       "      <td>0.98993</td>\n",
       "      <td>2.95</td>\n",
       "      <td>0.30</td>\n",
       "      <td>11.4</td>\n",
       "      <td>4</td>\n",
       "    </tr>\n",
       "    <tr>\n",
       "      <th>...</th>\n",
       "      <td>...</td>\n",
       "      <td>...</td>\n",
       "      <td>...</td>\n",
       "      <td>...</td>\n",
       "      <td>...</td>\n",
       "      <td>...</td>\n",
       "      <td>...</td>\n",
       "      <td>...</td>\n",
       "      <td>...</td>\n",
       "      <td>...</td>\n",
       "      <td>...</td>\n",
       "      <td>...</td>\n",
       "    </tr>\n",
       "    <tr>\n",
       "      <th>4893</th>\n",
       "      <td>7.5</td>\n",
       "      <td>0.230</td>\n",
       "      <td>0.35</td>\n",
       "      <td>17.80</td>\n",
       "      <td>0.058</td>\n",
       "      <td>128.0</td>\n",
       "      <td>212.0</td>\n",
       "      <td>1.00241</td>\n",
       "      <td>3.44</td>\n",
       "      <td>0.43</td>\n",
       "      <td>8.9</td>\n",
       "      <td>5</td>\n",
       "    </tr>\n",
       "    <tr>\n",
       "      <th>4894</th>\n",
       "      <td>7.5</td>\n",
       "      <td>0.270</td>\n",
       "      <td>0.31</td>\n",
       "      <td>5.80</td>\n",
       "      <td>0.057</td>\n",
       "      <td>131.0</td>\n",
       "      <td>313.0</td>\n",
       "      <td>0.99460</td>\n",
       "      <td>3.18</td>\n",
       "      <td>0.59</td>\n",
       "      <td>10.5</td>\n",
       "      <td>5</td>\n",
       "    </tr>\n",
       "    <tr>\n",
       "      <th>4895</th>\n",
       "      <td>6.2</td>\n",
       "      <td>0.255</td>\n",
       "      <td>0.24</td>\n",
       "      <td>1.70</td>\n",
       "      <td>0.039</td>\n",
       "      <td>138.5</td>\n",
       "      <td>272.0</td>\n",
       "      <td>0.99452</td>\n",
       "      <td>3.53</td>\n",
       "      <td>0.53</td>\n",
       "      <td>9.6</td>\n",
       "      <td>4</td>\n",
       "    </tr>\n",
       "    <tr>\n",
       "      <th>4896</th>\n",
       "      <td>7.1</td>\n",
       "      <td>0.490</td>\n",
       "      <td>0.22</td>\n",
       "      <td>2.00</td>\n",
       "      <td>0.047</td>\n",
       "      <td>146.5</td>\n",
       "      <td>307.5</td>\n",
       "      <td>0.99240</td>\n",
       "      <td>3.24</td>\n",
       "      <td>0.37</td>\n",
       "      <td>11.0</td>\n",
       "      <td>3</td>\n",
       "    </tr>\n",
       "    <tr>\n",
       "      <th>4897</th>\n",
       "      <td>6.1</td>\n",
       "      <td>0.260</td>\n",
       "      <td>0.25</td>\n",
       "      <td>2.90</td>\n",
       "      <td>0.047</td>\n",
       "      <td>289.0</td>\n",
       "      <td>440.0</td>\n",
       "      <td>0.99314</td>\n",
       "      <td>3.44</td>\n",
       "      <td>0.64</td>\n",
       "      <td>10.5</td>\n",
       "      <td>3</td>\n",
       "    </tr>\n",
       "  </tbody>\n",
       "</table>\n",
       "<p>4898 rows × 12 columns</p>\n",
       "</div>"
      ],
      "text/plain": [
       "      Fixed Acidity  Volatile Acidity  Citric Acid  Residual Sugar  Chlorides  \\\n",
       "0               6.5             0.270         0.26           11.00      0.030   \n",
       "1               5.8             0.360         0.38            0.90      0.037   \n",
       "2               7.2             0.310         0.46            5.00      0.040   \n",
       "3               7.2             0.240         0.34            1.10      0.045   \n",
       "4               7.1             0.270         0.28            1.25      0.023   \n",
       "...             ...               ...          ...             ...        ...   \n",
       "4893            7.5             0.230         0.35           17.80      0.058   \n",
       "4894            7.5             0.270         0.31            5.80      0.057   \n",
       "4895            6.2             0.255         0.24            1.70      0.039   \n",
       "4896            7.1             0.490         0.22            2.00      0.047   \n",
       "4897            6.1             0.260         0.25            2.90      0.047   \n",
       "\n",
       "      Free Sulfur Dioxide  Total Sulfur Dioxide  Density    pH  Sulphates  \\\n",
       "0                     2.0                  82.0  0.99402  3.07       0.36   \n",
       "1                     3.0                  75.0  0.99040  3.28       0.34   \n",
       "2                     3.0                  29.0  0.99060  3.04       0.53   \n",
       "3                     3.0                  64.0  0.99130  3.23       0.51   \n",
       "4                     3.0                  89.0  0.98993  2.95       0.30   \n",
       "...                   ...                   ...      ...   ...        ...   \n",
       "4893                128.0                 212.0  1.00241  3.44       0.43   \n",
       "4894                131.0                 313.0  0.99460  3.18       0.59   \n",
       "4895                138.5                 272.0  0.99452  3.53       0.53   \n",
       "4896                146.5                 307.5  0.99240  3.24       0.37   \n",
       "4897                289.0                 440.0  0.99314  3.44       0.64   \n",
       "\n",
       "      Alcohol  Quality  \n",
       "0        11.2        5  \n",
       "1        11.4        4  \n",
       "2        12.5        4  \n",
       "3        11.4        5  \n",
       "4        11.4        4  \n",
       "...       ...      ...  \n",
       "4893      8.9        5  \n",
       "4894     10.5        5  \n",
       "4895      9.6        4  \n",
       "4896     11.0        3  \n",
       "4897     10.5        3  \n",
       "\n",
       "[4898 rows x 12 columns]"
      ]
     },
     "execution_count": 43,
     "metadata": {},
     "output_type": "execute_result"
    }
   ],
   "source": [
    "cx=pd.read_csv('wine_quality.csv')\n",
    "cx"
   ]
  },
  {
   "cell_type": "code",
   "execution_count": 44,
   "id": "01cdaa00",
   "metadata": {},
   "outputs": [
    {
     "data": {
      "text/plain": [
       "4898"
      ]
     },
     "execution_count": 44,
     "metadata": {},
     "output_type": "execute_result"
    }
   ],
   "source": [
    "cx.shape[0]"
   ]
  },
  {
   "cell_type": "code",
   "execution_count": 45,
   "id": "e0b3297e",
   "metadata": {},
   "outputs": [
    {
     "data": {
      "text/html": [
       "<div>\n",
       "<style scoped>\n",
       "    .dataframe tbody tr th:only-of-type {\n",
       "        vertical-align: middle;\n",
       "    }\n",
       "\n",
       "    .dataframe tbody tr th {\n",
       "        vertical-align: top;\n",
       "    }\n",
       "\n",
       "    .dataframe thead th {\n",
       "        text-align: right;\n",
       "    }\n",
       "</style>\n",
       "<table border=\"1\" class=\"dataframe\">\n",
       "  <thead>\n",
       "    <tr style=\"text-align: right;\">\n",
       "      <th></th>\n",
       "      <th>Fixed Acidity</th>\n",
       "      <th>Volatile Acidity</th>\n",
       "      <th>Citric Acid</th>\n",
       "      <th>Residual Sugar</th>\n",
       "      <th>Chlorides</th>\n",
       "      <th>Free Sulfur Dioxide</th>\n",
       "      <th>Total Sulfur Dioxide</th>\n",
       "      <th>Density</th>\n",
       "      <th>pH</th>\n",
       "      <th>Sulphates</th>\n",
       "      <th>Alcohol</th>\n",
       "      <th>Quality</th>\n",
       "    </tr>\n",
       "  </thead>\n",
       "  <tbody>\n",
       "    <tr>\n",
       "      <th>0</th>\n",
       "      <td>6.5</td>\n",
       "      <td>0.270</td>\n",
       "      <td>0.26</td>\n",
       "      <td>11.00</td>\n",
       "      <td>0.030</td>\n",
       "      <td>2.0</td>\n",
       "      <td>82.0</td>\n",
       "      <td>0.99402</td>\n",
       "      <td>3.07</td>\n",
       "      <td>0.36</td>\n",
       "      <td>11.2</td>\n",
       "      <td>5</td>\n",
       "    </tr>\n",
       "    <tr>\n",
       "      <th>1</th>\n",
       "      <td>5.8</td>\n",
       "      <td>0.360</td>\n",
       "      <td>0.38</td>\n",
       "      <td>0.90</td>\n",
       "      <td>0.037</td>\n",
       "      <td>3.0</td>\n",
       "      <td>75.0</td>\n",
       "      <td>0.99040</td>\n",
       "      <td>3.28</td>\n",
       "      <td>0.34</td>\n",
       "      <td>11.4</td>\n",
       "      <td>4</td>\n",
       "    </tr>\n",
       "    <tr>\n",
       "      <th>2</th>\n",
       "      <td>7.2</td>\n",
       "      <td>0.310</td>\n",
       "      <td>0.46</td>\n",
       "      <td>5.00</td>\n",
       "      <td>0.040</td>\n",
       "      <td>3.0</td>\n",
       "      <td>29.0</td>\n",
       "      <td>0.99060</td>\n",
       "      <td>3.04</td>\n",
       "      <td>0.53</td>\n",
       "      <td>12.5</td>\n",
       "      <td>4</td>\n",
       "    </tr>\n",
       "    <tr>\n",
       "      <th>3</th>\n",
       "      <td>7.2</td>\n",
       "      <td>0.240</td>\n",
       "      <td>0.34</td>\n",
       "      <td>1.10</td>\n",
       "      <td>0.045</td>\n",
       "      <td>3.0</td>\n",
       "      <td>64.0</td>\n",
       "      <td>0.99130</td>\n",
       "      <td>3.23</td>\n",
       "      <td>0.51</td>\n",
       "      <td>11.4</td>\n",
       "      <td>5</td>\n",
       "    </tr>\n",
       "    <tr>\n",
       "      <th>4</th>\n",
       "      <td>7.1</td>\n",
       "      <td>0.270</td>\n",
       "      <td>0.28</td>\n",
       "      <td>1.25</td>\n",
       "      <td>0.023</td>\n",
       "      <td>3.0</td>\n",
       "      <td>89.0</td>\n",
       "      <td>0.98993</td>\n",
       "      <td>2.95</td>\n",
       "      <td>0.30</td>\n",
       "      <td>11.4</td>\n",
       "      <td>4</td>\n",
       "    </tr>\n",
       "    <tr>\n",
       "      <th>...</th>\n",
       "      <td>...</td>\n",
       "      <td>...</td>\n",
       "      <td>...</td>\n",
       "      <td>...</td>\n",
       "      <td>...</td>\n",
       "      <td>...</td>\n",
       "      <td>...</td>\n",
       "      <td>...</td>\n",
       "      <td>...</td>\n",
       "      <td>...</td>\n",
       "      <td>...</td>\n",
       "      <td>...</td>\n",
       "    </tr>\n",
       "    <tr>\n",
       "      <th>4893</th>\n",
       "      <td>7.5</td>\n",
       "      <td>0.230</td>\n",
       "      <td>0.35</td>\n",
       "      <td>17.80</td>\n",
       "      <td>0.058</td>\n",
       "      <td>128.0</td>\n",
       "      <td>212.0</td>\n",
       "      <td>1.00241</td>\n",
       "      <td>3.44</td>\n",
       "      <td>0.43</td>\n",
       "      <td>8.9</td>\n",
       "      <td>5</td>\n",
       "    </tr>\n",
       "    <tr>\n",
       "      <th>4894</th>\n",
       "      <td>7.5</td>\n",
       "      <td>0.270</td>\n",
       "      <td>0.31</td>\n",
       "      <td>5.80</td>\n",
       "      <td>0.057</td>\n",
       "      <td>131.0</td>\n",
       "      <td>313.0</td>\n",
       "      <td>0.99460</td>\n",
       "      <td>3.18</td>\n",
       "      <td>0.59</td>\n",
       "      <td>10.5</td>\n",
       "      <td>5</td>\n",
       "    </tr>\n",
       "    <tr>\n",
       "      <th>4895</th>\n",
       "      <td>6.2</td>\n",
       "      <td>0.255</td>\n",
       "      <td>0.24</td>\n",
       "      <td>1.70</td>\n",
       "      <td>0.039</td>\n",
       "      <td>138.5</td>\n",
       "      <td>272.0</td>\n",
       "      <td>0.99452</td>\n",
       "      <td>3.53</td>\n",
       "      <td>0.53</td>\n",
       "      <td>9.6</td>\n",
       "      <td>4</td>\n",
       "    </tr>\n",
       "    <tr>\n",
       "      <th>4896</th>\n",
       "      <td>7.1</td>\n",
       "      <td>0.490</td>\n",
       "      <td>0.22</td>\n",
       "      <td>2.00</td>\n",
       "      <td>0.047</td>\n",
       "      <td>146.5</td>\n",
       "      <td>307.5</td>\n",
       "      <td>0.99240</td>\n",
       "      <td>3.24</td>\n",
       "      <td>0.37</td>\n",
       "      <td>11.0</td>\n",
       "      <td>3</td>\n",
       "    </tr>\n",
       "    <tr>\n",
       "      <th>4897</th>\n",
       "      <td>6.1</td>\n",
       "      <td>0.260</td>\n",
       "      <td>0.25</td>\n",
       "      <td>2.90</td>\n",
       "      <td>0.047</td>\n",
       "      <td>289.0</td>\n",
       "      <td>440.0</td>\n",
       "      <td>0.99314</td>\n",
       "      <td>3.44</td>\n",
       "      <td>0.64</td>\n",
       "      <td>10.5</td>\n",
       "      <td>3</td>\n",
       "    </tr>\n",
       "  </tbody>\n",
       "</table>\n",
       "<p>4871 rows × 12 columns</p>\n",
       "</div>"
      ],
      "text/plain": [
       "      Fixed Acidity  Volatile Acidity  Citric Acid  Residual Sugar  Chlorides  \\\n",
       "0               6.5             0.270         0.26           11.00      0.030   \n",
       "1               5.8             0.360         0.38            0.90      0.037   \n",
       "2               7.2             0.310         0.46            5.00      0.040   \n",
       "3               7.2             0.240         0.34            1.10      0.045   \n",
       "4               7.1             0.270         0.28            1.25      0.023   \n",
       "...             ...               ...          ...             ...        ...   \n",
       "4893            7.5             0.230         0.35           17.80      0.058   \n",
       "4894            7.5             0.270         0.31            5.80      0.057   \n",
       "4895            6.2             0.255         0.24            1.70      0.039   \n",
       "4896            7.1             0.490         0.22            2.00      0.047   \n",
       "4897            6.1             0.260         0.25            2.90      0.047   \n",
       "\n",
       "      Free Sulfur Dioxide  Total Sulfur Dioxide  Density    pH  Sulphates  \\\n",
       "0                     2.0                  82.0  0.99402  3.07       0.36   \n",
       "1                     3.0                  75.0  0.99040  3.28       0.34   \n",
       "2                     3.0                  29.0  0.99060  3.04       0.53   \n",
       "3                     3.0                  64.0  0.99130  3.23       0.51   \n",
       "4                     3.0                  89.0  0.98993  2.95       0.30   \n",
       "...                   ...                   ...      ...   ...        ...   \n",
       "4893                128.0                 212.0  1.00241  3.44       0.43   \n",
       "4894                131.0                 313.0  0.99460  3.18       0.59   \n",
       "4895                138.5                 272.0  0.99452  3.53       0.53   \n",
       "4896                146.5                 307.5  0.99240  3.24       0.37   \n",
       "4897                289.0                 440.0  0.99314  3.44       0.64   \n",
       "\n",
       "      Alcohol  Quality  \n",
       "0        11.2        5  \n",
       "1        11.4        4  \n",
       "2        12.5        4  \n",
       "3        11.4        5  \n",
       "4        11.4        4  \n",
       "...       ...      ...  \n",
       "4893      8.9        5  \n",
       "4894     10.5        5  \n",
       "4895      9.6        4  \n",
       "4896     11.0        3  \n",
       "4897     10.5        3  \n",
       "\n",
       "[4871 rows x 12 columns]"
      ]
     },
     "execution_count": 45,
     "metadata": {},
     "output_type": "execute_result"
    }
   ],
   "source": [
    "cx.dropna()"
   ]
  },
  {
   "cell_type": "code",
   "execution_count": 46,
   "id": "5a55f2be",
   "metadata": {},
   "outputs": [
    {
     "data": {
      "text/html": [
       "<div>\n",
       "<style scoped>\n",
       "    .dataframe tbody tr th:only-of-type {\n",
       "        vertical-align: middle;\n",
       "    }\n",
       "\n",
       "    .dataframe tbody tr th {\n",
       "        vertical-align: top;\n",
       "    }\n",
       "\n",
       "    .dataframe thead th {\n",
       "        text-align: right;\n",
       "    }\n",
       "</style>\n",
       "<table border=\"1\" class=\"dataframe\">\n",
       "  <thead>\n",
       "    <tr style=\"text-align: right;\">\n",
       "      <th></th>\n",
       "      <th>Fixed Acidity</th>\n",
       "      <th>Volatile Acidity</th>\n",
       "      <th>Citric Acid</th>\n",
       "      <th>Residual Sugar</th>\n",
       "      <th>Chlorides</th>\n",
       "      <th>Free Sulfur Dioxide</th>\n",
       "      <th>Total Sulfur Dioxide</th>\n",
       "      <th>pH</th>\n",
       "      <th>Sulphates</th>\n",
       "      <th>Quality</th>\n",
       "    </tr>\n",
       "  </thead>\n",
       "  <tbody>\n",
       "    <tr>\n",
       "      <th>0</th>\n",
       "      <td>6.5</td>\n",
       "      <td>0.270</td>\n",
       "      <td>0.26</td>\n",
       "      <td>11.00</td>\n",
       "      <td>0.030</td>\n",
       "      <td>2.0</td>\n",
       "      <td>82.0</td>\n",
       "      <td>3.07</td>\n",
       "      <td>0.36</td>\n",
       "      <td>5</td>\n",
       "    </tr>\n",
       "    <tr>\n",
       "      <th>1</th>\n",
       "      <td>5.8</td>\n",
       "      <td>0.360</td>\n",
       "      <td>0.38</td>\n",
       "      <td>0.90</td>\n",
       "      <td>0.037</td>\n",
       "      <td>3.0</td>\n",
       "      <td>75.0</td>\n",
       "      <td>3.28</td>\n",
       "      <td>0.34</td>\n",
       "      <td>4</td>\n",
       "    </tr>\n",
       "    <tr>\n",
       "      <th>2</th>\n",
       "      <td>7.2</td>\n",
       "      <td>0.310</td>\n",
       "      <td>0.46</td>\n",
       "      <td>5.00</td>\n",
       "      <td>0.040</td>\n",
       "      <td>3.0</td>\n",
       "      <td>29.0</td>\n",
       "      <td>3.04</td>\n",
       "      <td>0.53</td>\n",
       "      <td>4</td>\n",
       "    </tr>\n",
       "    <tr>\n",
       "      <th>3</th>\n",
       "      <td>7.2</td>\n",
       "      <td>0.240</td>\n",
       "      <td>0.34</td>\n",
       "      <td>1.10</td>\n",
       "      <td>0.045</td>\n",
       "      <td>3.0</td>\n",
       "      <td>64.0</td>\n",
       "      <td>3.23</td>\n",
       "      <td>0.51</td>\n",
       "      <td>5</td>\n",
       "    </tr>\n",
       "    <tr>\n",
       "      <th>4</th>\n",
       "      <td>7.1</td>\n",
       "      <td>0.270</td>\n",
       "      <td>0.28</td>\n",
       "      <td>1.25</td>\n",
       "      <td>0.023</td>\n",
       "      <td>3.0</td>\n",
       "      <td>89.0</td>\n",
       "      <td>2.95</td>\n",
       "      <td>0.30</td>\n",
       "      <td>4</td>\n",
       "    </tr>\n",
       "    <tr>\n",
       "      <th>...</th>\n",
       "      <td>...</td>\n",
       "      <td>...</td>\n",
       "      <td>...</td>\n",
       "      <td>...</td>\n",
       "      <td>...</td>\n",
       "      <td>...</td>\n",
       "      <td>...</td>\n",
       "      <td>...</td>\n",
       "      <td>...</td>\n",
       "      <td>...</td>\n",
       "    </tr>\n",
       "    <tr>\n",
       "      <th>4893</th>\n",
       "      <td>7.5</td>\n",
       "      <td>0.230</td>\n",
       "      <td>0.35</td>\n",
       "      <td>17.80</td>\n",
       "      <td>0.058</td>\n",
       "      <td>128.0</td>\n",
       "      <td>212.0</td>\n",
       "      <td>3.44</td>\n",
       "      <td>0.43</td>\n",
       "      <td>5</td>\n",
       "    </tr>\n",
       "    <tr>\n",
       "      <th>4894</th>\n",
       "      <td>7.5</td>\n",
       "      <td>0.270</td>\n",
       "      <td>0.31</td>\n",
       "      <td>5.80</td>\n",
       "      <td>0.057</td>\n",
       "      <td>131.0</td>\n",
       "      <td>313.0</td>\n",
       "      <td>3.18</td>\n",
       "      <td>0.59</td>\n",
       "      <td>5</td>\n",
       "    </tr>\n",
       "    <tr>\n",
       "      <th>4895</th>\n",
       "      <td>6.2</td>\n",
       "      <td>0.255</td>\n",
       "      <td>0.24</td>\n",
       "      <td>1.70</td>\n",
       "      <td>0.039</td>\n",
       "      <td>138.5</td>\n",
       "      <td>272.0</td>\n",
       "      <td>3.53</td>\n",
       "      <td>0.53</td>\n",
       "      <td>4</td>\n",
       "    </tr>\n",
       "    <tr>\n",
       "      <th>4896</th>\n",
       "      <td>7.1</td>\n",
       "      <td>0.490</td>\n",
       "      <td>0.22</td>\n",
       "      <td>2.00</td>\n",
       "      <td>0.047</td>\n",
       "      <td>146.5</td>\n",
       "      <td>307.5</td>\n",
       "      <td>3.24</td>\n",
       "      <td>0.37</td>\n",
       "      <td>3</td>\n",
       "    </tr>\n",
       "    <tr>\n",
       "      <th>4897</th>\n",
       "      <td>6.1</td>\n",
       "      <td>0.260</td>\n",
       "      <td>0.25</td>\n",
       "      <td>2.90</td>\n",
       "      <td>0.047</td>\n",
       "      <td>289.0</td>\n",
       "      <td>440.0</td>\n",
       "      <td>3.44</td>\n",
       "      <td>0.64</td>\n",
       "      <td>3</td>\n",
       "    </tr>\n",
       "  </tbody>\n",
       "</table>\n",
       "<p>4898 rows × 10 columns</p>\n",
       "</div>"
      ],
      "text/plain": [
       "      Fixed Acidity  Volatile Acidity  Citric Acid  Residual Sugar  Chlorides  \\\n",
       "0               6.5             0.270         0.26           11.00      0.030   \n",
       "1               5.8             0.360         0.38            0.90      0.037   \n",
       "2               7.2             0.310         0.46            5.00      0.040   \n",
       "3               7.2             0.240         0.34            1.10      0.045   \n",
       "4               7.1             0.270         0.28            1.25      0.023   \n",
       "...             ...               ...          ...             ...        ...   \n",
       "4893            7.5             0.230         0.35           17.80      0.058   \n",
       "4894            7.5             0.270         0.31            5.80      0.057   \n",
       "4895            6.2             0.255         0.24            1.70      0.039   \n",
       "4896            7.1             0.490         0.22            2.00      0.047   \n",
       "4897            6.1             0.260         0.25            2.90      0.047   \n",
       "\n",
       "      Free Sulfur Dioxide  Total Sulfur Dioxide    pH  Sulphates  Quality  \n",
       "0                     2.0                  82.0  3.07       0.36        5  \n",
       "1                     3.0                  75.0  3.28       0.34        4  \n",
       "2                     3.0                  29.0  3.04       0.53        4  \n",
       "3                     3.0                  64.0  3.23       0.51        5  \n",
       "4                     3.0                  89.0  2.95       0.30        4  \n",
       "...                   ...                   ...   ...        ...      ...  \n",
       "4893                128.0                 212.0  3.44       0.43        5  \n",
       "4894                131.0                 313.0  3.18       0.59        5  \n",
       "4895                138.5                 272.0  3.53       0.53        4  \n",
       "4896                146.5                 307.5  3.24       0.37        3  \n",
       "4897                289.0                 440.0  3.44       0.64        3  \n",
       "\n",
       "[4898 rows x 10 columns]"
      ]
     },
     "execution_count": 46,
     "metadata": {},
     "output_type": "execute_result"
    }
   ],
   "source": [
    "cx.dropna(axis=1)"
   ]
  },
  {
   "cell_type": "code",
   "execution_count": 47,
   "id": "c90aa2aa",
   "metadata": {},
   "outputs": [
    {
     "data": {
      "text/html": [
       "<div>\n",
       "<style scoped>\n",
       "    .dataframe tbody tr th:only-of-type {\n",
       "        vertical-align: middle;\n",
       "    }\n",
       "\n",
       "    .dataframe tbody tr th {\n",
       "        vertical-align: top;\n",
       "    }\n",
       "\n",
       "    .dataframe thead th {\n",
       "        text-align: right;\n",
       "    }\n",
       "</style>\n",
       "<table border=\"1\" class=\"dataframe\">\n",
       "  <thead>\n",
       "    <tr style=\"text-align: right;\">\n",
       "      <th></th>\n",
       "      <th>Fixed Acidity</th>\n",
       "      <th>Volatile Acidity</th>\n",
       "      <th>Citric Acid</th>\n",
       "      <th>Residual Sugar</th>\n",
       "      <th>Chlorides</th>\n",
       "      <th>Free Sulfur Dioxide</th>\n",
       "      <th>Total Sulfur Dioxide</th>\n",
       "      <th>Density</th>\n",
       "      <th>pH</th>\n",
       "      <th>Sulphates</th>\n",
       "      <th>Alcohol</th>\n",
       "      <th>Quality</th>\n",
       "    </tr>\n",
       "  </thead>\n",
       "  <tbody>\n",
       "    <tr>\n",
       "      <th>0</th>\n",
       "      <td>6.5</td>\n",
       "      <td>0.27</td>\n",
       "      <td>0.26</td>\n",
       "      <td>11.00</td>\n",
       "      <td>0.030</td>\n",
       "      <td>2.0</td>\n",
       "      <td>82.0</td>\n",
       "      <td>0.99402</td>\n",
       "      <td>3.07</td>\n",
       "      <td>0.36</td>\n",
       "      <td>11.2</td>\n",
       "      <td>5</td>\n",
       "    </tr>\n",
       "    <tr>\n",
       "      <th>1</th>\n",
       "      <td>5.8</td>\n",
       "      <td>0.36</td>\n",
       "      <td>0.38</td>\n",
       "      <td>0.90</td>\n",
       "      <td>0.037</td>\n",
       "      <td>3.0</td>\n",
       "      <td>75.0</td>\n",
       "      <td>0.99040</td>\n",
       "      <td>3.28</td>\n",
       "      <td>0.34</td>\n",
       "      <td>11.4</td>\n",
       "      <td>4</td>\n",
       "    </tr>\n",
       "    <tr>\n",
       "      <th>2</th>\n",
       "      <td>7.2</td>\n",
       "      <td>0.31</td>\n",
       "      <td>0.46</td>\n",
       "      <td>5.00</td>\n",
       "      <td>0.040</td>\n",
       "      <td>3.0</td>\n",
       "      <td>29.0</td>\n",
       "      <td>0.99060</td>\n",
       "      <td>3.04</td>\n",
       "      <td>0.53</td>\n",
       "      <td>12.5</td>\n",
       "      <td>4</td>\n",
       "    </tr>\n",
       "    <tr>\n",
       "      <th>3</th>\n",
       "      <td>7.2</td>\n",
       "      <td>0.24</td>\n",
       "      <td>0.34</td>\n",
       "      <td>1.10</td>\n",
       "      <td>0.045</td>\n",
       "      <td>3.0</td>\n",
       "      <td>64.0</td>\n",
       "      <td>0.99130</td>\n",
       "      <td>3.23</td>\n",
       "      <td>0.51</td>\n",
       "      <td>11.4</td>\n",
       "      <td>5</td>\n",
       "    </tr>\n",
       "    <tr>\n",
       "      <th>4</th>\n",
       "      <td>7.1</td>\n",
       "      <td>0.27</td>\n",
       "      <td>0.28</td>\n",
       "      <td>1.25</td>\n",
       "      <td>0.023</td>\n",
       "      <td>3.0</td>\n",
       "      <td>89.0</td>\n",
       "      <td>0.98993</td>\n",
       "      <td>2.95</td>\n",
       "      <td>0.30</td>\n",
       "      <td>11.4</td>\n",
       "      <td>4</td>\n",
       "    </tr>\n",
       "  </tbody>\n",
       "</table>\n",
       "</div>"
      ],
      "text/plain": [
       "   Fixed Acidity  Volatile Acidity  Citric Acid  Residual Sugar  Chlorides  \\\n",
       "0            6.5              0.27         0.26           11.00      0.030   \n",
       "1            5.8              0.36         0.38            0.90      0.037   \n",
       "2            7.2              0.31         0.46            5.00      0.040   \n",
       "3            7.2              0.24         0.34            1.10      0.045   \n",
       "4            7.1              0.27         0.28            1.25      0.023   \n",
       "\n",
       "   Free Sulfur Dioxide  Total Sulfur Dioxide  Density    pH  Sulphates  \\\n",
       "0                  2.0                  82.0  0.99402  3.07       0.36   \n",
       "1                  3.0                  75.0  0.99040  3.28       0.34   \n",
       "2                  3.0                  29.0  0.99060  3.04       0.53   \n",
       "3                  3.0                  64.0  0.99130  3.23       0.51   \n",
       "4                  3.0                  89.0  0.98993  2.95       0.30   \n",
       "\n",
       "   Alcohol  Quality  \n",
       "0     11.2        5  \n",
       "1     11.4        4  \n",
       "2     12.5        4  \n",
       "3     11.4        5  \n",
       "4     11.4        4  "
      ]
     },
     "execution_count": 47,
     "metadata": {},
     "output_type": "execute_result"
    }
   ],
   "source": [
    "cx.head()"
   ]
  },
  {
   "cell_type": "code",
   "execution_count": 48,
   "id": "ddab7cd5",
   "metadata": {},
   "outputs": [
    {
     "data": {
      "text/plain": [
       "4898"
      ]
     },
     "execution_count": 48,
     "metadata": {},
     "output_type": "execute_result"
    }
   ],
   "source": [
    "len(cx)"
   ]
  },
  {
   "cell_type": "code",
   "execution_count": 50,
   "id": "ff70ca39",
   "metadata": {},
   "outputs": [
    {
     "data": {
      "text/html": [
       "<div>\n",
       "<style scoped>\n",
       "    .dataframe tbody tr th:only-of-type {\n",
       "        vertical-align: middle;\n",
       "    }\n",
       "\n",
       "    .dataframe tbody tr th {\n",
       "        vertical-align: top;\n",
       "    }\n",
       "\n",
       "    .dataframe thead th {\n",
       "        text-align: right;\n",
       "    }\n",
       "</style>\n",
       "<table border=\"1\" class=\"dataframe\">\n",
       "  <thead>\n",
       "    <tr style=\"text-align: right;\">\n",
       "      <th></th>\n",
       "      <th>Fixed Acidity</th>\n",
       "      <th>Volatile Acidity</th>\n",
       "      <th>Citric Acid</th>\n",
       "      <th>Residual Sugar</th>\n",
       "      <th>Chlorides</th>\n",
       "      <th>Free Sulfur Dioxide</th>\n",
       "      <th>Total Sulfur Dioxide</th>\n",
       "      <th>Density</th>\n",
       "      <th>pH</th>\n",
       "      <th>Sulphates</th>\n",
       "      <th>Alcohol</th>\n",
       "      <th>Quality</th>\n",
       "    </tr>\n",
       "  </thead>\n",
       "  <tbody>\n",
       "    <tr>\n",
       "      <th>0</th>\n",
       "      <td>6.5</td>\n",
       "      <td>0.270</td>\n",
       "      <td>0.26</td>\n",
       "      <td>11.00</td>\n",
       "      <td>0.030</td>\n",
       "      <td>2.0</td>\n",
       "      <td>82.0</td>\n",
       "      <td>0.99402</td>\n",
       "      <td>3.07</td>\n",
       "      <td>0.36</td>\n",
       "      <td>11.2</td>\n",
       "      <td>5</td>\n",
       "    </tr>\n",
       "    <tr>\n",
       "      <th>1</th>\n",
       "      <td>5.8</td>\n",
       "      <td>0.360</td>\n",
       "      <td>0.38</td>\n",
       "      <td>0.90</td>\n",
       "      <td>0.037</td>\n",
       "      <td>3.0</td>\n",
       "      <td>75.0</td>\n",
       "      <td>0.99040</td>\n",
       "      <td>3.28</td>\n",
       "      <td>0.34</td>\n",
       "      <td>11.4</td>\n",
       "      <td>4</td>\n",
       "    </tr>\n",
       "    <tr>\n",
       "      <th>2</th>\n",
       "      <td>7.2</td>\n",
       "      <td>0.310</td>\n",
       "      <td>0.46</td>\n",
       "      <td>5.00</td>\n",
       "      <td>0.040</td>\n",
       "      <td>3.0</td>\n",
       "      <td>29.0</td>\n",
       "      <td>0.99060</td>\n",
       "      <td>3.04</td>\n",
       "      <td>0.53</td>\n",
       "      <td>12.5</td>\n",
       "      <td>4</td>\n",
       "    </tr>\n",
       "    <tr>\n",
       "      <th>3</th>\n",
       "      <td>7.2</td>\n",
       "      <td>0.240</td>\n",
       "      <td>0.34</td>\n",
       "      <td>1.10</td>\n",
       "      <td>0.045</td>\n",
       "      <td>3.0</td>\n",
       "      <td>64.0</td>\n",
       "      <td>0.99130</td>\n",
       "      <td>3.23</td>\n",
       "      <td>0.51</td>\n",
       "      <td>11.4</td>\n",
       "      <td>5</td>\n",
       "    </tr>\n",
       "    <tr>\n",
       "      <th>4</th>\n",
       "      <td>7.1</td>\n",
       "      <td>0.270</td>\n",
       "      <td>0.28</td>\n",
       "      <td>1.25</td>\n",
       "      <td>0.023</td>\n",
       "      <td>3.0</td>\n",
       "      <td>89.0</td>\n",
       "      <td>0.98993</td>\n",
       "      <td>2.95</td>\n",
       "      <td>0.30</td>\n",
       "      <td>11.4</td>\n",
       "      <td>4</td>\n",
       "    </tr>\n",
       "    <tr>\n",
       "      <th>...</th>\n",
       "      <td>...</td>\n",
       "      <td>...</td>\n",
       "      <td>...</td>\n",
       "      <td>...</td>\n",
       "      <td>...</td>\n",
       "      <td>...</td>\n",
       "      <td>...</td>\n",
       "      <td>...</td>\n",
       "      <td>...</td>\n",
       "      <td>...</td>\n",
       "      <td>...</td>\n",
       "      <td>...</td>\n",
       "    </tr>\n",
       "    <tr>\n",
       "      <th>4893</th>\n",
       "      <td>7.5</td>\n",
       "      <td>0.230</td>\n",
       "      <td>0.35</td>\n",
       "      <td>17.80</td>\n",
       "      <td>0.058</td>\n",
       "      <td>128.0</td>\n",
       "      <td>212.0</td>\n",
       "      <td>1.00241</td>\n",
       "      <td>3.44</td>\n",
       "      <td>0.43</td>\n",
       "      <td>8.9</td>\n",
       "      <td>5</td>\n",
       "    </tr>\n",
       "    <tr>\n",
       "      <th>4894</th>\n",
       "      <td>7.5</td>\n",
       "      <td>0.270</td>\n",
       "      <td>0.31</td>\n",
       "      <td>5.80</td>\n",
       "      <td>0.057</td>\n",
       "      <td>131.0</td>\n",
       "      <td>313.0</td>\n",
       "      <td>0.99460</td>\n",
       "      <td>3.18</td>\n",
       "      <td>0.59</td>\n",
       "      <td>10.5</td>\n",
       "      <td>5</td>\n",
       "    </tr>\n",
       "    <tr>\n",
       "      <th>4895</th>\n",
       "      <td>6.2</td>\n",
       "      <td>0.255</td>\n",
       "      <td>0.24</td>\n",
       "      <td>1.70</td>\n",
       "      <td>0.039</td>\n",
       "      <td>138.5</td>\n",
       "      <td>272.0</td>\n",
       "      <td>0.99452</td>\n",
       "      <td>3.53</td>\n",
       "      <td>0.53</td>\n",
       "      <td>9.6</td>\n",
       "      <td>4</td>\n",
       "    </tr>\n",
       "    <tr>\n",
       "      <th>4896</th>\n",
       "      <td>7.1</td>\n",
       "      <td>0.490</td>\n",
       "      <td>0.22</td>\n",
       "      <td>2.00</td>\n",
       "      <td>0.047</td>\n",
       "      <td>146.5</td>\n",
       "      <td>307.5</td>\n",
       "      <td>0.99240</td>\n",
       "      <td>3.24</td>\n",
       "      <td>0.37</td>\n",
       "      <td>11.0</td>\n",
       "      <td>3</td>\n",
       "    </tr>\n",
       "    <tr>\n",
       "      <th>4897</th>\n",
       "      <td>6.1</td>\n",
       "      <td>0.260</td>\n",
       "      <td>0.25</td>\n",
       "      <td>2.90</td>\n",
       "      <td>0.047</td>\n",
       "      <td>289.0</td>\n",
       "      <td>440.0</td>\n",
       "      <td>0.99314</td>\n",
       "      <td>3.44</td>\n",
       "      <td>0.64</td>\n",
       "      <td>10.5</td>\n",
       "      <td>3</td>\n",
       "    </tr>\n",
       "  </tbody>\n",
       "</table>\n",
       "<p>4898 rows × 12 columns</p>\n",
       "</div>"
      ],
      "text/plain": [
       "      Fixed Acidity  Volatile Acidity  Citric Acid  Residual Sugar  Chlorides  \\\n",
       "0               6.5             0.270         0.26           11.00      0.030   \n",
       "1               5.8             0.360         0.38            0.90      0.037   \n",
       "2               7.2             0.310         0.46            5.00      0.040   \n",
       "3               7.2             0.240         0.34            1.10      0.045   \n",
       "4               7.1             0.270         0.28            1.25      0.023   \n",
       "...             ...               ...          ...             ...        ...   \n",
       "4893            7.5             0.230         0.35           17.80      0.058   \n",
       "4894            7.5             0.270         0.31            5.80      0.057   \n",
       "4895            6.2             0.255         0.24            1.70      0.039   \n",
       "4896            7.1             0.490         0.22            2.00      0.047   \n",
       "4897            6.1             0.260         0.25            2.90      0.047   \n",
       "\n",
       "      Free Sulfur Dioxide  Total Sulfur Dioxide  Density    pH  Sulphates  \\\n",
       "0                     2.0                  82.0  0.99402  3.07       0.36   \n",
       "1                     3.0                  75.0  0.99040  3.28       0.34   \n",
       "2                     3.0                  29.0  0.99060  3.04       0.53   \n",
       "3                     3.0                  64.0  0.99130  3.23       0.51   \n",
       "4                     3.0                  89.0  0.98993  2.95       0.30   \n",
       "...                   ...                   ...      ...   ...        ...   \n",
       "4893                128.0                 212.0  1.00241  3.44       0.43   \n",
       "4894                131.0                 313.0  0.99460  3.18       0.59   \n",
       "4895                138.5                 272.0  0.99452  3.53       0.53   \n",
       "4896                146.5                 307.5  0.99240  3.24       0.37   \n",
       "4897                289.0                 440.0  0.99314  3.44       0.64   \n",
       "\n",
       "      Alcohol  Quality  \n",
       "0        11.2        5  \n",
       "1        11.4        4  \n",
       "2        12.5        4  \n",
       "3        11.4        5  \n",
       "4        11.4        4  \n",
       "...       ...      ...  \n",
       "4893      8.9        5  \n",
       "4894     10.5        5  \n",
       "4895      9.6        4  \n",
       "4896     11.0        3  \n",
       "4897     10.5        3  \n",
       "\n",
       "[4898 rows x 12 columns]"
      ]
     },
     "execution_count": 50,
     "metadata": {},
     "output_type": "execute_result"
    }
   ],
   "source": [
    "cx"
   ]
  },
  {
   "cell_type": "code",
   "execution_count": 52,
   "id": "89b8377f",
   "metadata": {},
   "outputs": [
    {
     "data": {
      "text/plain": [
       "array([[ 6.5  ,  0.27 ,  0.26 , ...,  0.36 , 11.2  ,  5.   ],\n",
       "       [ 5.8  ,  0.36 ,  0.38 , ...,  0.34 , 11.4  ,  4.   ],\n",
       "       [ 7.2  ,  0.31 ,  0.46 , ...,  0.53 , 12.5  ,  4.   ],\n",
       "       ...,\n",
       "       [ 6.2  ,  0.255,  0.24 , ...,  0.53 ,  9.6  ,  4.   ],\n",
       "       [ 7.1  ,  0.49 ,  0.22 , ...,  0.37 , 11.   ,  3.   ],\n",
       "       [ 6.1  ,  0.26 ,  0.25 , ...,  0.64 , 10.5  ,  3.   ]])"
      ]
     },
     "execution_count": 52,
     "metadata": {},
     "output_type": "execute_result"
    }
   ],
   "source": [
    "from sklearn.impute import SimpleImputer\n",
    "imdata=SimpleImputer(missing_values=np.nan, strategy='mean')\n",
    "imdata=imdata.fit_transform(cx.values)\n",
    "imdata"
   ]
  },
  {
   "cell_type": "code",
   "execution_count": 54,
   "id": "0d2baa39",
   "metadata": {},
   "outputs": [
    {
     "data": {
      "text/plain": [
       "4898"
      ]
     },
     "execution_count": 54,
     "metadata": {},
     "output_type": "execute_result"
    }
   ],
   "source": [
    "imdata.shape[0]"
   ]
  },
  {
   "cell_type": "code",
   "execution_count": 56,
   "id": "1a7acb94",
   "metadata": {},
   "outputs": [
    {
     "data": {
      "text/plain": [
       "12"
      ]
     },
     "execution_count": 56,
     "metadata": {},
     "output_type": "execute_result"
    }
   ],
   "source": [
    "imdata.shape[1]"
   ]
  },
  {
   "cell_type": "markdown",
   "id": "17d5b4e8",
   "metadata": {},
   "source": [
    "## Classification using perceptron"
   ]
  },
  {
   "cell_type": "markdown",
   "id": "bb03584a",
   "metadata": {},
   "source": [
    "### Classification means two terms will definately be used- weights and bias"
   ]
  },
  {
   "cell_type": "code",
   "execution_count": 57,
   "id": "f298edee",
   "metadata": {},
   "outputs": [
    {
     "name": "stdout",
     "output_type": "stream",
     "text": [
      "Enter the shape of the fruit- (Round/Elliptical)Round\n",
      "Enter texture- Smooth/RoughSmooth\n",
      "Enter weight in pounds3\n",
      "1\n",
      "The fruit is an Apple\n"
     ]
    }
   ],
   "source": [
    "import numpy as np\n",
    "\n",
    "x=input(\"Enter the shape of the fruit- (Round/Elliptical)\")\n",
    "if x=='Elliptical':\n",
    "    shape=1\n",
    "else:\n",
    "    shape=-1\n",
    "    \n",
    "x=input(\"Enter texture- Smooth/Rough\")\n",
    "if x=='Smooth':\n",
    "    texture=1\n",
    "else:\n",
    "    texture=-1\n",
    "    \n",
    "x=int(input(\"Enter weight in pounds\"))\n",
    "if x>=1:\n",
    "    weight=1\n",
    "else:\n",
    "    weight=-1\n",
    "    \n",
    "input_vector=np.array([shape,texture,weight])\n",
    "w=np.array([0,1,0]) # Weights\n",
    "b=0 # Bias\n",
    "\n",
    "y=(w*input_vector).sum()+b # Perceptron Formula\n",
    "def perceptron(x):\n",
    "    if x>=0:\n",
    "        return 1\n",
    "    else:\n",
    "        return -1\n",
    "output=perceptron(y)\n",
    "print(output)\n",
    "\n",
    "if output==1:\n",
    "    print(\"The fruit is an Apple\")\n",
    "else:\n",
    "    print(\"The fruit is an orange\")\n"
   ]
  },
  {
   "cell_type": "markdown",
   "id": "7def3cee",
   "metadata": {},
   "source": [
    "## Testing training split using functions"
   ]
  },
  {
   "cell_type": "code",
   "execution_count": 60,
   "id": "1a85703f",
   "metadata": {},
   "outputs": [
    {
     "name": "stdout",
     "output_type": "stream",
     "text": [
      "[ 1  2  3  4  5  6  7  8  9 10 11 12 13 14 15 16 17 18 19 20 21 22 23 24\n",
      " 25 26 27 28 29 30 31 32 33 34 35 36 37 38 39 40 41 42 43 44 45 46 47 48\n",
      " 49 50 51 52 53 54 55 56 57 58 59 60 61 62 63 64 65 66 67 68 69 70 71 72\n",
      " 73 74 75 76 77 78 79 80]\n",
      "[ 21  22  23  24  25  26  27  28  29  30  31  32  33  34  35  36  37  38\n",
      "  39  40  41  42  43  44  45  46  47  48  49  50  51  52  53  54  55  56\n",
      "  57  58  59  60  61  62  63  64  65  66  67  68  69  70  71  72  73  74\n",
      "  75  76  77  78  79  80  81  82  83  84  85  86  87  88  89  90  91  92\n",
      "  93  94  95  96  97  98  99 100]\n",
      "80\n",
      "80\n"
     ]
    }
   ],
   "source": [
    "import numpy as np\n",
    "import pandas as pd\n",
    "x=np.arange(1,101)\n",
    "#print(x)\n",
    "#print(x.size)\n",
    "\n",
    "def train_test_split(x,test_size):\n",
    "    train_size=100-test_size\n",
    "    x_train=x[0:train_size]\n",
    "    x_test=x[test_size:]\n",
    "    return x_train, x_test\n",
    "\n",
    "[x_train, x_test]=train_test_split(x,20)\n",
    "print(x_train)\n",
    "print(x_test)\n",
    "print(x_train.size)\n",
    "print(x_test.size)"
   ]
  },
  {
   "cell_type": "code",
   "execution_count": 62,
   "id": "78f7be1e",
   "metadata": {},
   "outputs": [
    {
     "name": "stdout",
     "output_type": "stream",
     "text": [
      "200\n"
     ]
    }
   ],
   "source": [
    "import pandas as pd\n",
    "import numpy as np\n",
    "x=np.arange(1,201)\n",
    "print(x.size)"
   ]
  },
  {
   "cell_type": "code",
   "execution_count": 63,
   "id": "8cd33269",
   "metadata": {},
   "outputs": [
    {
     "name": "stdout",
     "output_type": "stream",
     "text": [
      "[  1   2   3   4   5   6   7   8   9  10  11  12  13  14  15  16  17  18\n",
      "  19  20  21  22  23  24  25  26  27  28  29  30  31  32  33  34  35  36\n",
      "  37  38  39  40  41  42  43  44  45  46  47  48  49  50  51  52  53  54\n",
      "  55  56  57  58  59  60  61  62  63  64  65  66  67  68  69  70  71  72\n",
      "  73  74  75  76  77  78  79  80  81  82  83  84  85  86  87  88  89  90\n",
      "  91  92  93  94  95  96  97  98  99 100 101 102 103 104 105 106 107 108\n",
      " 109 110 111 112 113 114 115 116 117 118 119 120 121 122 123 124 125 126\n",
      " 127 128 129 130 131 132 133 134 135 136 137 138 139 140 141 142 143 144\n",
      " 145 146 147 148 149 150 151 152 153 154 155 156 157 158 159 160 161 162\n",
      " 163 164 165 166 167 168 169 170 171 172 173 174 175 176 177 178 179 180]\n",
      "180\n",
      "181\n",
      "1\n"
     ]
    }
   ],
   "source": [
    "def train_test_split(x,test_size):\n",
    "    train_size=200-test_size\n",
    "    x_train=x[0:train_size]\n",
    "    x_test=x[train_size]\n",
    "    return x_train, x_test\n",
    "\n",
    "[x_train, x_test]=train_test_split(x,20)\n",
    "print(x_train)\n",
    "print(x_train.size)\n",
    "\n",
    "print(x_test)\n",
    "print(x_test.size)"
   ]
  },
  {
   "cell_type": "markdown",
   "id": "8dd88a99",
   "metadata": {},
   "source": [
    "## IBM1"
   ]
  },
  {
   "cell_type": "code",
   "execution_count": 66,
   "id": "7c2b1958",
   "metadata": {},
   "outputs": [],
   "source": [
    "import pandas as pd\n",
    "import os\n",
    "import numpy as np"
   ]
  },
  {
   "cell_type": "code",
   "execution_count": 67,
   "id": "f723df59",
   "metadata": {},
   "outputs": [
    {
     "data": {
      "text/html": [
       "<div>\n",
       "<style scoped>\n",
       "    .dataframe tbody tr th:only-of-type {\n",
       "        vertical-align: middle;\n",
       "    }\n",
       "\n",
       "    .dataframe tbody tr th {\n",
       "        vertical-align: top;\n",
       "    }\n",
       "\n",
       "    .dataframe thead th {\n",
       "        text-align: right;\n",
       "    }\n",
       "</style>\n",
       "<table border=\"1\" class=\"dataframe\">\n",
       "  <thead>\n",
       "    <tr style=\"text-align: right;\">\n",
       "      <th></th>\n",
       "      <th>sepal_length</th>\n",
       "      <th>sepal_width</th>\n",
       "      <th>petal_length</th>\n",
       "      <th>petal_width</th>\n",
       "      <th>species</th>\n",
       "    </tr>\n",
       "  </thead>\n",
       "  <tbody>\n",
       "    <tr>\n",
       "      <th>0</th>\n",
       "      <td>5.1</td>\n",
       "      <td>3.5</td>\n",
       "      <td>1.4</td>\n",
       "      <td>0.2</td>\n",
       "      <td>setosa</td>\n",
       "    </tr>\n",
       "    <tr>\n",
       "      <th>1</th>\n",
       "      <td>4.9</td>\n",
       "      <td>3.0</td>\n",
       "      <td>1.4</td>\n",
       "      <td>0.2</td>\n",
       "      <td>setosa</td>\n",
       "    </tr>\n",
       "    <tr>\n",
       "      <th>2</th>\n",
       "      <td>4.7</td>\n",
       "      <td>3.2</td>\n",
       "      <td>1.3</td>\n",
       "      <td>0.2</td>\n",
       "      <td>setosa</td>\n",
       "    </tr>\n",
       "    <tr>\n",
       "      <th>3</th>\n",
       "      <td>4.6</td>\n",
       "      <td>3.1</td>\n",
       "      <td>1.5</td>\n",
       "      <td>0.2</td>\n",
       "      <td>setosa</td>\n",
       "    </tr>\n",
       "    <tr>\n",
       "      <th>4</th>\n",
       "      <td>5.0</td>\n",
       "      <td>3.6</td>\n",
       "      <td>1.4</td>\n",
       "      <td>0.2</td>\n",
       "      <td>setosa</td>\n",
       "    </tr>\n",
       "  </tbody>\n",
       "</table>\n",
       "</div>"
      ],
      "text/plain": [
       "   sepal_length  sepal_width  petal_length  petal_width species\n",
       "0           5.1          3.5           1.4          0.2  setosa\n",
       "1           4.9          3.0           1.4          0.2  setosa\n",
       "2           4.7          3.2           1.3          0.2  setosa\n",
       "3           4.6          3.1           1.5          0.2  setosa\n",
       "4           5.0          3.6           1.4          0.2  setosa"
      ]
     },
     "execution_count": 67,
     "metadata": {},
     "output_type": "execute_result"
    }
   ],
   "source": [
    "dy=pd.read_csv('iris_data.csv')\n",
    "dy.head()"
   ]
  },
  {
   "cell_type": "code",
   "execution_count": 70,
   "id": "bc9f7de3",
   "metadata": {},
   "outputs": [
    {
     "data": {
      "text/plain": [
       "(150, 5)"
      ]
     },
     "execution_count": 70,
     "metadata": {},
     "output_type": "execute_result"
    }
   ],
   "source": [
    "dy.shape"
   ]
  },
  {
   "cell_type": "code",
   "execution_count": 71,
   "id": "6a8c48bc",
   "metadata": {},
   "outputs": [
    {
     "data": {
      "text/plain": [
       "150"
      ]
     },
     "execution_count": 71,
     "metadata": {},
     "output_type": "execute_result"
    }
   ],
   "source": [
    "dy.shape[0]"
   ]
  },
  {
   "cell_type": "code",
   "execution_count": 72,
   "id": "e0697c57",
   "metadata": {},
   "outputs": [
    {
     "data": {
      "text/plain": [
       "5"
      ]
     },
     "execution_count": 72,
     "metadata": {},
     "output_type": "execute_result"
    }
   ],
   "source": [
    "dy.shape[1]"
   ]
  },
  {
   "cell_type": "code",
   "execution_count": 73,
   "id": "db2d006f",
   "metadata": {},
   "outputs": [
    {
     "data": {
      "text/plain": [
       "Index(['sepal_length', 'sepal_width', 'petal_length', 'petal_width',\n",
       "       'species'],\n",
       "      dtype='object')"
      ]
     },
     "execution_count": 73,
     "metadata": {},
     "output_type": "execute_result"
    }
   ],
   "source": [
    "dy.columns"
   ]
  },
  {
   "cell_type": "code",
   "execution_count": 74,
   "id": "43736592",
   "metadata": {},
   "outputs": [
    {
     "data": {
      "text/plain": [
       "['sepal_length', 'sepal_width', 'petal_length', 'petal_width', 'species']"
      ]
     },
     "execution_count": 74,
     "metadata": {},
     "output_type": "execute_result"
    }
   ],
   "source": [
    "dy.columns.tolist()"
   ]
  },
  {
   "cell_type": "code",
   "execution_count": 75,
   "id": "12655ae3",
   "metadata": {},
   "outputs": [
    {
     "data": {
      "text/plain": [
       "sepal_length    float64\n",
       "sepal_width     float64\n",
       "petal_length    float64\n",
       "petal_width     float64\n",
       "species          object\n",
       "dtype: object"
      ]
     },
     "execution_count": 75,
     "metadata": {},
     "output_type": "execute_result"
    }
   ],
   "source": [
    "dy.dtypes"
   ]
  },
  {
   "cell_type": "code",
   "execution_count": 77,
   "id": "9935861b",
   "metadata": {},
   "outputs": [
    {
     "data": {
      "text/plain": [
       "0         tosa\n",
       "1         tosa\n",
       "2         tosa\n",
       "3         tosa\n",
       "4         tosa\n",
       "        ...   \n",
       "145    rginica\n",
       "146    rginica\n",
       "147    rginica\n",
       "148    rginica\n",
       "149    rginica\n",
       "Name: species, Length: 150, dtype: object"
      ]
     },
     "execution_count": 77,
     "metadata": {},
     "output_type": "execute_result"
    }
   ],
   "source": [
    "dy['species'].apply(lambda x: x[2:])"
   ]
  },
  {
   "cell_type": "code",
   "execution_count": 78,
   "id": "3074e082",
   "metadata": {},
   "outputs": [
    {
     "data": {
      "text/plain": [
       "0         osa\n",
       "1         osa\n",
       "2         osa\n",
       "3         osa\n",
       "4         osa\n",
       "        ...  \n",
       "145    ginica\n",
       "146    ginica\n",
       "147    ginica\n",
       "148    ginica\n",
       "149    ginica\n",
       "Name: species, Length: 150, dtype: object"
      ]
     },
     "execution_count": 78,
     "metadata": {},
     "output_type": "execute_result"
    }
   ],
   "source": [
    "dy['species'].apply(lambda x:x[3:])"
   ]
  },
  {
   "cell_type": "code",
   "execution_count": 80,
   "id": "441a770a",
   "metadata": {},
   "outputs": [
    {
     "data": {
      "text/plain": [
       "0         sa\n",
       "1         sa\n",
       "2         sa\n",
       "3         sa\n",
       "4         sa\n",
       "       ...  \n",
       "145    inica\n",
       "146    inica\n",
       "147    inica\n",
       "148    inica\n",
       "149    inica\n",
       "Name: species, Length: 150, dtype: object"
      ]
     },
     "execution_count": 80,
     "metadata": {},
     "output_type": "execute_result"
    }
   ],
   "source": [
    "dy['species'].apply(lambda x: x[4:])"
   ]
  },
  {
   "cell_type": "code",
   "execution_count": 83,
   "id": "92564122",
   "metadata": {},
   "outputs": [
    {
     "data": {
      "text/plain": [
       "0              a\n",
       "1              a\n",
       "2              a\n",
       "3              a\n",
       "4              a\n",
       "         ...    \n",
       "145    virginica\n",
       "146    virginica\n",
       "147    virginica\n",
       "148    virginica\n",
       "149    virginica\n",
       "Name: species, Length: 150, dtype: object"
      ]
     },
     "execution_count": 83,
     "metadata": {},
     "output_type": "execute_result"
    }
   ],
   "source": [
    "dy['species'].str.replace('setos','')"
   ]
  },
  {
   "cell_type": "code",
   "execution_count": 84,
   "id": "7ad5da8f",
   "metadata": {},
   "outputs": [
    {
     "data": {
      "text/html": [
       "<div>\n",
       "<style scoped>\n",
       "    .dataframe tbody tr th:only-of-type {\n",
       "        vertical-align: middle;\n",
       "    }\n",
       "\n",
       "    .dataframe tbody tr th {\n",
       "        vertical-align: top;\n",
       "    }\n",
       "\n",
       "    .dataframe thead th {\n",
       "        text-align: right;\n",
       "    }\n",
       "</style>\n",
       "<table border=\"1\" class=\"dataframe\">\n",
       "  <thead>\n",
       "    <tr style=\"text-align: right;\">\n",
       "      <th></th>\n",
       "      <th>sepal_length</th>\n",
       "      <th>sepal_width</th>\n",
       "      <th>petal_length</th>\n",
       "      <th>petal_width</th>\n",
       "      <th>species</th>\n",
       "    </tr>\n",
       "  </thead>\n",
       "  <tbody>\n",
       "    <tr>\n",
       "      <th>0</th>\n",
       "      <td>5.1</td>\n",
       "      <td>3.5</td>\n",
       "      <td>1.4</td>\n",
       "      <td>0.2</td>\n",
       "      <td>setosa</td>\n",
       "    </tr>\n",
       "    <tr>\n",
       "      <th>1</th>\n",
       "      <td>4.9</td>\n",
       "      <td>3.0</td>\n",
       "      <td>1.4</td>\n",
       "      <td>0.2</td>\n",
       "      <td>setosa</td>\n",
       "    </tr>\n",
       "    <tr>\n",
       "      <th>2</th>\n",
       "      <td>4.7</td>\n",
       "      <td>3.2</td>\n",
       "      <td>1.3</td>\n",
       "      <td>0.2</td>\n",
       "      <td>setosa</td>\n",
       "    </tr>\n",
       "    <tr>\n",
       "      <th>3</th>\n",
       "      <td>4.6</td>\n",
       "      <td>3.1</td>\n",
       "      <td>1.5</td>\n",
       "      <td>0.2</td>\n",
       "      <td>setosa</td>\n",
       "    </tr>\n",
       "    <tr>\n",
       "      <th>4</th>\n",
       "      <td>5.0</td>\n",
       "      <td>3.6</td>\n",
       "      <td>1.4</td>\n",
       "      <td>0.2</td>\n",
       "      <td>setosa</td>\n",
       "    </tr>\n",
       "    <tr>\n",
       "      <th>...</th>\n",
       "      <td>...</td>\n",
       "      <td>...</td>\n",
       "      <td>...</td>\n",
       "      <td>...</td>\n",
       "      <td>...</td>\n",
       "    </tr>\n",
       "    <tr>\n",
       "      <th>145</th>\n",
       "      <td>6.7</td>\n",
       "      <td>3.0</td>\n",
       "      <td>5.2</td>\n",
       "      <td>2.3</td>\n",
       "      <td>virginica</td>\n",
       "    </tr>\n",
       "    <tr>\n",
       "      <th>146</th>\n",
       "      <td>6.3</td>\n",
       "      <td>2.5</td>\n",
       "      <td>5.0</td>\n",
       "      <td>1.9</td>\n",
       "      <td>virginica</td>\n",
       "    </tr>\n",
       "    <tr>\n",
       "      <th>147</th>\n",
       "      <td>6.5</td>\n",
       "      <td>3.0</td>\n",
       "      <td>5.2</td>\n",
       "      <td>2.0</td>\n",
       "      <td>virginica</td>\n",
       "    </tr>\n",
       "    <tr>\n",
       "      <th>148</th>\n",
       "      <td>6.2</td>\n",
       "      <td>3.4</td>\n",
       "      <td>5.4</td>\n",
       "      <td>2.3</td>\n",
       "      <td>virginica</td>\n",
       "    </tr>\n",
       "    <tr>\n",
       "      <th>149</th>\n",
       "      <td>5.9</td>\n",
       "      <td>3.0</td>\n",
       "      <td>5.1</td>\n",
       "      <td>1.8</td>\n",
       "      <td>virginica</td>\n",
       "    </tr>\n",
       "  </tbody>\n",
       "</table>\n",
       "<p>150 rows × 5 columns</p>\n",
       "</div>"
      ],
      "text/plain": [
       "     sepal_length  sepal_width  petal_length  petal_width    species\n",
       "0             5.1          3.5           1.4          0.2     setosa\n",
       "1             4.9          3.0           1.4          0.2     setosa\n",
       "2             4.7          3.2           1.3          0.2     setosa\n",
       "3             4.6          3.1           1.5          0.2     setosa\n",
       "4             5.0          3.6           1.4          0.2     setosa\n",
       "..            ...          ...           ...          ...        ...\n",
       "145           6.7          3.0           5.2          2.3  virginica\n",
       "146           6.3          2.5           5.0          1.9  virginica\n",
       "147           6.5          3.0           5.2          2.0  virginica\n",
       "148           6.2          3.4           5.4          2.3  virginica\n",
       "149           5.9          3.0           5.1          1.8  virginica\n",
       "\n",
       "[150 rows x 5 columns]"
      ]
     },
     "execution_count": 84,
     "metadata": {},
     "output_type": "execute_result"
    }
   ],
   "source": [
    "dy"
   ]
  },
  {
   "cell_type": "code",
   "execution_count": 85,
   "id": "e33e40f1",
   "metadata": {},
   "outputs": [
    {
     "data": {
      "text/plain": [
       "virginica     50\n",
       "versicolor    50\n",
       "setosa        50\n",
       "Name: species, dtype: int64"
      ]
     },
     "execution_count": 85,
     "metadata": {},
     "output_type": "execute_result"
    }
   ],
   "source": [
    "dy.species.value_counts()"
   ]
  },
  {
   "cell_type": "code",
   "execution_count": 86,
   "id": "07d3c530",
   "metadata": {},
   "outputs": [
    {
     "data": {
      "text/plain": [
       "1.5    14\n",
       "1.4    12\n",
       "5.1     8\n",
       "4.5     8\n",
       "1.6     7\n",
       "1.3     7\n",
       "5.6     6\n",
       "4.0     5\n",
       "4.9     5\n",
       "4.7     5\n",
       "5.0     4\n",
       "1.7     4\n",
       "4.8     4\n",
       "4.4     4\n",
       "4.2     4\n",
       "4.1     3\n",
       "5.7     3\n",
       "5.5     3\n",
       "6.1     3\n",
       "3.9     3\n",
       "4.6     3\n",
       "5.8     3\n",
       "5.2     2\n",
       "1.9     2\n",
       "6.0     2\n",
       "1.2     2\n",
       "4.3     2\n",
       "5.3     2\n",
       "5.4     2\n",
       "3.3     2\n",
       "6.7     2\n",
       "3.5     2\n",
       "5.9     2\n",
       "3.6     1\n",
       "3.8     1\n",
       "1.0     1\n",
       "3.0     1\n",
       "6.3     1\n",
       "6.6     1\n",
       "3.7     1\n",
       "1.1     1\n",
       "6.4     1\n",
       "6.9     1\n",
       "Name: petal_length, dtype: int64"
      ]
     },
     "execution_count": 86,
     "metadata": {},
     "output_type": "execute_result"
    }
   ],
   "source": [
    "dy.petal_length.value_counts()"
   ]
  },
  {
   "cell_type": "code",
   "execution_count": 87,
   "id": "45db4a2a",
   "metadata": {},
   "outputs": [
    {
     "data": {
      "text/plain": [
       "5.0    10\n",
       "6.3     9\n",
       "5.1     9\n",
       "5.7     8\n",
       "6.7     8\n",
       "5.8     7\n",
       "5.5     7\n",
       "6.4     7\n",
       "4.9     6\n",
       "6.0     6\n",
       "5.4     6\n",
       "5.6     6\n",
       "6.1     6\n",
       "6.5     5\n",
       "4.8     5\n",
       "6.2     4\n",
       "5.2     4\n",
       "7.7     4\n",
       "6.9     4\n",
       "4.6     4\n",
       "7.2     3\n",
       "5.9     3\n",
       "4.4     3\n",
       "6.8     3\n",
       "6.6     2\n",
       "4.7     2\n",
       "7.1     1\n",
       "7.4     1\n",
       "7.6     1\n",
       "7.9     1\n",
       "4.5     1\n",
       "7.0     1\n",
       "5.3     1\n",
       "7.3     1\n",
       "4.3     1\n",
       "Name: sepal_length, dtype: int64"
      ]
     },
     "execution_count": 87,
     "metadata": {},
     "output_type": "execute_result"
    }
   ],
   "source": [
    "dy.sepal_length.value_counts()"
   ]
  },
  {
   "cell_type": "code",
   "execution_count": 88,
   "id": "250c850a",
   "metadata": {},
   "outputs": [
    {
     "data": {
      "text/plain": [
       "3.0    26\n",
       "2.8    14\n",
       "3.2    13\n",
       "3.1    12\n",
       "3.4    12\n",
       "2.9    10\n",
       "2.7     9\n",
       "2.5     8\n",
       "3.8     6\n",
       "3.5     6\n",
       "3.3     6\n",
       "2.6     5\n",
       "2.3     4\n",
       "2.2     3\n",
       "2.4     3\n",
       "3.6     3\n",
       "3.7     3\n",
       "3.9     2\n",
       "4.4     1\n",
       "2.0     1\n",
       "4.0     1\n",
       "4.2     1\n",
       "4.1     1\n",
       "Name: sepal_width, dtype: int64"
      ]
     },
     "execution_count": 88,
     "metadata": {},
     "output_type": "execute_result"
    }
   ],
   "source": [
    "dy.sepal_width.value_counts()"
   ]
  },
  {
   "cell_type": "code",
   "execution_count": 89,
   "id": "c3563dd0",
   "metadata": {},
   "outputs": [
    {
     "data": {
      "text/plain": [
       "virginica     50\n",
       "versicolor    50\n",
       "setosa        50\n",
       "Name: species, dtype: int64"
      ]
     },
     "execution_count": 89,
     "metadata": {},
     "output_type": "execute_result"
    }
   ],
   "source": [
    "dy.species.value_counts()"
   ]
  },
  {
   "cell_type": "code",
   "execution_count": 95,
   "id": "badea5f6",
   "metadata": {},
   "outputs": [
    {
     "data": {
      "text/html": [
       "<div>\n",
       "<style scoped>\n",
       "    .dataframe tbody tr th:only-of-type {\n",
       "        vertical-align: middle;\n",
       "    }\n",
       "\n",
       "    .dataframe tbody tr th {\n",
       "        vertical-align: top;\n",
       "    }\n",
       "\n",
       "    .dataframe thead th {\n",
       "        text-align: right;\n",
       "    }\n",
       "</style>\n",
       "<table border=\"1\" class=\"dataframe\">\n",
       "  <thead>\n",
       "    <tr style=\"text-align: right;\">\n",
       "      <th></th>\n",
       "      <th>sepal_length</th>\n",
       "      <th>sepal_width</th>\n",
       "      <th>petal_length</th>\n",
       "      <th>petal_width</th>\n",
       "    </tr>\n",
       "  </thead>\n",
       "  <tbody>\n",
       "    <tr>\n",
       "      <th>count</th>\n",
       "      <td>150.000000</td>\n",
       "      <td>150.000000</td>\n",
       "      <td>150.000000</td>\n",
       "      <td>150.000000</td>\n",
       "    </tr>\n",
       "    <tr>\n",
       "      <th>mean</th>\n",
       "      <td>5.843333</td>\n",
       "      <td>3.054000</td>\n",
       "      <td>3.758667</td>\n",
       "      <td>1.198667</td>\n",
       "    </tr>\n",
       "    <tr>\n",
       "      <th>std</th>\n",
       "      <td>0.828066</td>\n",
       "      <td>0.433594</td>\n",
       "      <td>1.764420</td>\n",
       "      <td>0.763161</td>\n",
       "    </tr>\n",
       "    <tr>\n",
       "      <th>min</th>\n",
       "      <td>4.300000</td>\n",
       "      <td>2.000000</td>\n",
       "      <td>1.000000</td>\n",
       "      <td>0.100000</td>\n",
       "    </tr>\n",
       "    <tr>\n",
       "      <th>25%</th>\n",
       "      <td>5.100000</td>\n",
       "      <td>2.800000</td>\n",
       "      <td>1.600000</td>\n",
       "      <td>0.300000</td>\n",
       "    </tr>\n",
       "    <tr>\n",
       "      <th>50%</th>\n",
       "      <td>5.800000</td>\n",
       "      <td>3.000000</td>\n",
       "      <td>4.350000</td>\n",
       "      <td>1.300000</td>\n",
       "    </tr>\n",
       "    <tr>\n",
       "      <th>75%</th>\n",
       "      <td>6.400000</td>\n",
       "      <td>3.300000</td>\n",
       "      <td>5.100000</td>\n",
       "      <td>1.800000</td>\n",
       "    </tr>\n",
       "    <tr>\n",
       "      <th>max</th>\n",
       "      <td>7.900000</td>\n",
       "      <td>4.400000</td>\n",
       "      <td>6.900000</td>\n",
       "      <td>2.500000</td>\n",
       "    </tr>\n",
       "  </tbody>\n",
       "</table>\n",
       "</div>"
      ],
      "text/plain": [
       "       sepal_length  sepal_width  petal_length  petal_width\n",
       "count    150.000000   150.000000    150.000000   150.000000\n",
       "mean       5.843333     3.054000      3.758667     1.198667\n",
       "std        0.828066     0.433594      1.764420     0.763161\n",
       "min        4.300000     2.000000      1.000000     0.100000\n",
       "25%        5.100000     2.800000      1.600000     0.300000\n",
       "50%        5.800000     3.000000      4.350000     1.300000\n",
       "75%        6.400000     3.300000      5.100000     1.800000\n",
       "max        7.900000     4.400000      6.900000     2.500000"
      ]
     },
     "execution_count": 95,
     "metadata": {},
     "output_type": "execute_result"
    }
   ],
   "source": [
    "dy.describe()"
   ]
  },
  {
   "cell_type": "code",
   "execution_count": 96,
   "id": "f1bbdcd7",
   "metadata": {},
   "outputs": [
    {
     "data": {
      "text/plain": [
       "sepal_length    3.6\n",
       "sepal_width     2.4\n",
       "petal_length    5.9\n",
       "petal_width     2.4\n",
       "dtype: float64"
      ]
     },
     "execution_count": 96,
     "metadata": {},
     "output_type": "execute_result"
    }
   ],
   "source": [
    "du=dy.describe()\n",
    "du.loc['max']-du.loc['min']"
   ]
  },
  {
   "cell_type": "code",
   "execution_count": 103,
   "id": "02fd21cf",
   "metadata": {},
   "outputs": [
    {
     "data": {
      "text/html": [
       "<div>\n",
       "<style scoped>\n",
       "    .dataframe tbody tr th:only-of-type {\n",
       "        vertical-align: middle;\n",
       "    }\n",
       "\n",
       "    .dataframe tbody tr th {\n",
       "        vertical-align: top;\n",
       "    }\n",
       "\n",
       "    .dataframe thead th {\n",
       "        text-align: right;\n",
       "    }\n",
       "</style>\n",
       "<table border=\"1\" class=\"dataframe\">\n",
       "  <thead>\n",
       "    <tr style=\"text-align: right;\">\n",
       "      <th></th>\n",
       "      <th>sepal_length</th>\n",
       "      <th>sepal_width</th>\n",
       "      <th>petal_length</th>\n",
       "      <th>petal_width</th>\n",
       "    </tr>\n",
       "  </thead>\n",
       "  <tbody>\n",
       "    <tr>\n",
       "      <th>count</th>\n",
       "      <td>150.000000</td>\n",
       "      <td>150.000000</td>\n",
       "      <td>150.000000</td>\n",
       "      <td>150.000000</td>\n",
       "    </tr>\n",
       "    <tr>\n",
       "      <th>mean</th>\n",
       "      <td>5.843333</td>\n",
       "      <td>3.054000</td>\n",
       "      <td>3.758667</td>\n",
       "      <td>1.198667</td>\n",
       "    </tr>\n",
       "    <tr>\n",
       "      <th>std</th>\n",
       "      <td>0.828066</td>\n",
       "      <td>0.433594</td>\n",
       "      <td>1.764420</td>\n",
       "      <td>0.763161</td>\n",
       "    </tr>\n",
       "    <tr>\n",
       "      <th>min</th>\n",
       "      <td>4.300000</td>\n",
       "      <td>2.000000</td>\n",
       "      <td>1.000000</td>\n",
       "      <td>0.100000</td>\n",
       "    </tr>\n",
       "    <tr>\n",
       "      <th>25%</th>\n",
       "      <td>5.100000</td>\n",
       "      <td>2.800000</td>\n",
       "      <td>1.600000</td>\n",
       "      <td>0.300000</td>\n",
       "    </tr>\n",
       "    <tr>\n",
       "      <th>50%</th>\n",
       "      <td>5.800000</td>\n",
       "      <td>3.000000</td>\n",
       "      <td>4.350000</td>\n",
       "      <td>1.300000</td>\n",
       "    </tr>\n",
       "    <tr>\n",
       "      <th>75%</th>\n",
       "      <td>6.400000</td>\n",
       "      <td>3.300000</td>\n",
       "      <td>5.100000</td>\n",
       "      <td>1.800000</td>\n",
       "    </tr>\n",
       "    <tr>\n",
       "      <th>max</th>\n",
       "      <td>7.900000</td>\n",
       "      <td>4.400000</td>\n",
       "      <td>6.900000</td>\n",
       "      <td>2.500000</td>\n",
       "    </tr>\n",
       "    <tr>\n",
       "      <th>range</th>\n",
       "      <td>3.600000</td>\n",
       "      <td>2.400000</td>\n",
       "      <td>5.900000</td>\n",
       "      <td>2.400000</td>\n",
       "    </tr>\n",
       "  </tbody>\n",
       "</table>\n",
       "</div>"
      ],
      "text/plain": [
       "       sepal_length  sepal_width  petal_length  petal_width\n",
       "count    150.000000   150.000000    150.000000   150.000000\n",
       "mean       5.843333     3.054000      3.758667     1.198667\n",
       "std        0.828066     0.433594      1.764420     0.763161\n",
       "min        4.300000     2.000000      1.000000     0.100000\n",
       "25%        5.100000     2.800000      1.600000     0.300000\n",
       "50%        5.800000     3.000000      4.350000     1.300000\n",
       "75%        6.400000     3.300000      5.100000     1.800000\n",
       "max        7.900000     4.400000      6.900000     2.500000\n",
       "range      3.600000     2.400000      5.900000     2.400000"
      ]
     },
     "execution_count": 103,
     "metadata": {},
     "output_type": "execute_result"
    }
   ],
   "source": [
    "du.loc['range']=du.loc['max']-du.loc['min']\n",
    "du"
   ]
  },
  {
   "cell_type": "code",
   "execution_count": 105,
   "id": "08555032",
   "metadata": {},
   "outputs": [
    {
     "data": {
      "text/html": [
       "<div>\n",
       "<style scoped>\n",
       "    .dataframe tbody tr th:only-of-type {\n",
       "        vertical-align: middle;\n",
       "    }\n",
       "\n",
       "    .dataframe tbody tr th {\n",
       "        vertical-align: top;\n",
       "    }\n",
       "\n",
       "    .dataframe thead th {\n",
       "        text-align: right;\n",
       "    }\n",
       "</style>\n",
       "<table border=\"1\" class=\"dataframe\">\n",
       "  <thead>\n",
       "    <tr style=\"text-align: right;\">\n",
       "      <th></th>\n",
       "      <th>sepal_length</th>\n",
       "      <th>sepal_width</th>\n",
       "      <th>petal_length</th>\n",
       "      <th>petal_width</th>\n",
       "    </tr>\n",
       "    <tr>\n",
       "      <th>species</th>\n",
       "      <th></th>\n",
       "      <th></th>\n",
       "      <th></th>\n",
       "      <th></th>\n",
       "    </tr>\n",
       "  </thead>\n",
       "  <tbody>\n",
       "    <tr>\n",
       "      <th>setosa</th>\n",
       "      <td>5.006</td>\n",
       "      <td>3.418</td>\n",
       "      <td>1.464</td>\n",
       "      <td>0.244</td>\n",
       "    </tr>\n",
       "    <tr>\n",
       "      <th>versicolor</th>\n",
       "      <td>5.936</td>\n",
       "      <td>2.770</td>\n",
       "      <td>4.260</td>\n",
       "      <td>1.326</td>\n",
       "    </tr>\n",
       "    <tr>\n",
       "      <th>virginica</th>\n",
       "      <td>6.588</td>\n",
       "      <td>2.974</td>\n",
       "      <td>5.552</td>\n",
       "      <td>2.026</td>\n",
       "    </tr>\n",
       "  </tbody>\n",
       "</table>\n",
       "</div>"
      ],
      "text/plain": [
       "            sepal_length  sepal_width  petal_length  petal_width\n",
       "species                                                         \n",
       "setosa             5.006        3.418         1.464        0.244\n",
       "versicolor         5.936        2.770         4.260        1.326\n",
       "virginica          6.588        2.974         5.552        2.026"
      ]
     },
     "execution_count": 105,
     "metadata": {},
     "output_type": "execute_result"
    }
   ],
   "source": [
    "dy.groupby('species').mean()"
   ]
  },
  {
   "cell_type": "code",
   "execution_count": 107,
   "id": "60755a51",
   "metadata": {},
   "outputs": [
    {
     "data": {
      "text/html": [
       "<div>\n",
       "<style scoped>\n",
       "    .dataframe tbody tr th:only-of-type {\n",
       "        vertical-align: middle;\n",
       "    }\n",
       "\n",
       "    .dataframe tbody tr th {\n",
       "        vertical-align: top;\n",
       "    }\n",
       "\n",
       "    .dataframe thead th {\n",
       "        text-align: right;\n",
       "    }\n",
       "</style>\n",
       "<table border=\"1\" class=\"dataframe\">\n",
       "  <thead>\n",
       "    <tr style=\"text-align: right;\">\n",
       "      <th></th>\n",
       "      <th>sepal_length</th>\n",
       "      <th>sepal_width</th>\n",
       "      <th>petal_width</th>\n",
       "    </tr>\n",
       "    <tr>\n",
       "      <th>petal_length</th>\n",
       "      <th></th>\n",
       "      <th></th>\n",
       "      <th></th>\n",
       "    </tr>\n",
       "  </thead>\n",
       "  <tbody>\n",
       "    <tr>\n",
       "      <th>1.0</th>\n",
       "      <td>4.600000</td>\n",
       "      <td>3.600000</td>\n",
       "      <td>0.200000</td>\n",
       "    </tr>\n",
       "    <tr>\n",
       "      <th>1.1</th>\n",
       "      <td>4.300000</td>\n",
       "      <td>3.000000</td>\n",
       "      <td>0.100000</td>\n",
       "    </tr>\n",
       "    <tr>\n",
       "      <th>1.2</th>\n",
       "      <td>5.400000</td>\n",
       "      <td>3.600000</td>\n",
       "      <td>0.200000</td>\n",
       "    </tr>\n",
       "    <tr>\n",
       "      <th>1.3</th>\n",
       "      <td>4.842857</td>\n",
       "      <td>3.228571</td>\n",
       "      <td>0.257143</td>\n",
       "    </tr>\n",
       "    <tr>\n",
       "      <th>1.4</th>\n",
       "      <td>4.916667</td>\n",
       "      <td>3.333333</td>\n",
       "      <td>0.216667</td>\n",
       "    </tr>\n",
       "    <tr>\n",
       "      <th>1.5</th>\n",
       "      <td>5.128571</td>\n",
       "      <td>3.535714</td>\n",
       "      <td>0.221429</td>\n",
       "    </tr>\n",
       "    <tr>\n",
       "      <th>1.6</th>\n",
       "      <td>4.914286</td>\n",
       "      <td>3.342857</td>\n",
       "      <td>0.285714</td>\n",
       "    </tr>\n",
       "    <tr>\n",
       "      <th>1.7</th>\n",
       "      <td>5.400000</td>\n",
       "      <td>3.600000</td>\n",
       "      <td>0.350000</td>\n",
       "    </tr>\n",
       "    <tr>\n",
       "      <th>1.9</th>\n",
       "      <td>4.950000</td>\n",
       "      <td>3.600000</td>\n",
       "      <td>0.300000</td>\n",
       "    </tr>\n",
       "    <tr>\n",
       "      <th>3.0</th>\n",
       "      <td>5.100000</td>\n",
       "      <td>2.500000</td>\n",
       "      <td>1.100000</td>\n",
       "    </tr>\n",
       "    <tr>\n",
       "      <th>3.3</th>\n",
       "      <td>4.950000</td>\n",
       "      <td>2.350000</td>\n",
       "      <td>1.000000</td>\n",
       "    </tr>\n",
       "    <tr>\n",
       "      <th>3.5</th>\n",
       "      <td>5.350000</td>\n",
       "      <td>2.300000</td>\n",
       "      <td>1.000000</td>\n",
       "    </tr>\n",
       "    <tr>\n",
       "      <th>3.6</th>\n",
       "      <td>5.600000</td>\n",
       "      <td>2.900000</td>\n",
       "      <td>1.300000</td>\n",
       "    </tr>\n",
       "    <tr>\n",
       "      <th>3.7</th>\n",
       "      <td>5.500000</td>\n",
       "      <td>2.400000</td>\n",
       "      <td>1.000000</td>\n",
       "    </tr>\n",
       "    <tr>\n",
       "      <th>3.8</th>\n",
       "      <td>5.500000</td>\n",
       "      <td>2.400000</td>\n",
       "      <td>1.100000</td>\n",
       "    </tr>\n",
       "    <tr>\n",
       "      <th>3.9</th>\n",
       "      <td>5.533333</td>\n",
       "      <td>2.633333</td>\n",
       "      <td>1.233333</td>\n",
       "    </tr>\n",
       "    <tr>\n",
       "      <th>4.0</th>\n",
       "      <td>5.780000</td>\n",
       "      <td>2.480000</td>\n",
       "      <td>1.220000</td>\n",
       "    </tr>\n",
       "    <tr>\n",
       "      <th>4.1</th>\n",
       "      <td>5.700000</td>\n",
       "      <td>2.833333</td>\n",
       "      <td>1.200000</td>\n",
       "    </tr>\n",
       "    <tr>\n",
       "      <th>4.2</th>\n",
       "      <td>5.725000</td>\n",
       "      <td>2.900000</td>\n",
       "      <td>1.325000</td>\n",
       "    </tr>\n",
       "    <tr>\n",
       "      <th>4.3</th>\n",
       "      <td>6.300000</td>\n",
       "      <td>2.900000</td>\n",
       "      <td>1.300000</td>\n",
       "    </tr>\n",
       "    <tr>\n",
       "      <th>4.4</th>\n",
       "      <td>6.275000</td>\n",
       "      <td>2.750000</td>\n",
       "      <td>1.325000</td>\n",
       "    </tr>\n",
       "    <tr>\n",
       "      <th>4.5</th>\n",
       "      <td>5.775000</td>\n",
       "      <td>2.875000</td>\n",
       "      <td>1.512500</td>\n",
       "    </tr>\n",
       "    <tr>\n",
       "      <th>4.6</th>\n",
       "      <td>6.400000</td>\n",
       "      <td>2.900000</td>\n",
       "      <td>1.400000</td>\n",
       "    </tr>\n",
       "    <tr>\n",
       "      <th>4.7</th>\n",
       "      <td>6.440000</td>\n",
       "      <td>3.060000</td>\n",
       "      <td>1.420000</td>\n",
       "    </tr>\n",
       "    <tr>\n",
       "      <th>4.8</th>\n",
       "      <td>6.225000</td>\n",
       "      <td>2.950000</td>\n",
       "      <td>1.700000</td>\n",
       "    </tr>\n",
       "    <tr>\n",
       "      <th>4.9</th>\n",
       "      <td>6.240000</td>\n",
       "      <td>2.820000</td>\n",
       "      <td>1.720000</td>\n",
       "    </tr>\n",
       "    <tr>\n",
       "      <th>5.0</th>\n",
       "      <td>6.175000</td>\n",
       "      <td>2.550000</td>\n",
       "      <td>1.775000</td>\n",
       "    </tr>\n",
       "    <tr>\n",
       "      <th>5.1</th>\n",
       "      <td>6.125000</td>\n",
       "      <td>2.875000</td>\n",
       "      <td>1.925000</td>\n",
       "    </tr>\n",
       "    <tr>\n",
       "      <th>5.2</th>\n",
       "      <td>6.600000</td>\n",
       "      <td>3.000000</td>\n",
       "      <td>2.150000</td>\n",
       "    </tr>\n",
       "    <tr>\n",
       "      <th>5.3</th>\n",
       "      <td>6.400000</td>\n",
       "      <td>2.950000</td>\n",
       "      <td>2.100000</td>\n",
       "    </tr>\n",
       "    <tr>\n",
       "      <th>5.4</th>\n",
       "      <td>6.550000</td>\n",
       "      <td>3.250000</td>\n",
       "      <td>2.200000</td>\n",
       "    </tr>\n",
       "    <tr>\n",
       "      <th>5.5</th>\n",
       "      <td>6.566667</td>\n",
       "      <td>3.033333</td>\n",
       "      <td>1.900000</td>\n",
       "    </tr>\n",
       "    <tr>\n",
       "      <th>5.6</th>\n",
       "      <td>6.366667</td>\n",
       "      <td>2.933333</td>\n",
       "      <td>2.050000</td>\n",
       "    </tr>\n",
       "    <tr>\n",
       "      <th>5.7</th>\n",
       "      <td>6.766667</td>\n",
       "      <td>3.266667</td>\n",
       "      <td>2.300000</td>\n",
       "    </tr>\n",
       "    <tr>\n",
       "      <th>5.8</th>\n",
       "      <td>6.800000</td>\n",
       "      <td>2.833333</td>\n",
       "      <td>1.866667</td>\n",
       "    </tr>\n",
       "    <tr>\n",
       "      <th>5.9</th>\n",
       "      <td>6.950000</td>\n",
       "      <td>3.100000</td>\n",
       "      <td>2.200000</td>\n",
       "    </tr>\n",
       "    <tr>\n",
       "      <th>6.0</th>\n",
       "      <td>6.750000</td>\n",
       "      <td>3.250000</td>\n",
       "      <td>2.150000</td>\n",
       "    </tr>\n",
       "    <tr>\n",
       "      <th>6.1</th>\n",
       "      <td>7.433333</td>\n",
       "      <td>3.133333</td>\n",
       "      <td>2.233333</td>\n",
       "    </tr>\n",
       "    <tr>\n",
       "      <th>6.3</th>\n",
       "      <td>7.300000</td>\n",
       "      <td>2.900000</td>\n",
       "      <td>1.800000</td>\n",
       "    </tr>\n",
       "    <tr>\n",
       "      <th>6.4</th>\n",
       "      <td>7.900000</td>\n",
       "      <td>3.800000</td>\n",
       "      <td>2.000000</td>\n",
       "    </tr>\n",
       "    <tr>\n",
       "      <th>6.6</th>\n",
       "      <td>7.600000</td>\n",
       "      <td>3.000000</td>\n",
       "      <td>2.100000</td>\n",
       "    </tr>\n",
       "    <tr>\n",
       "      <th>6.7</th>\n",
       "      <td>7.700000</td>\n",
       "      <td>3.300000</td>\n",
       "      <td>2.100000</td>\n",
       "    </tr>\n",
       "    <tr>\n",
       "      <th>6.9</th>\n",
       "      <td>7.700000</td>\n",
       "      <td>2.600000</td>\n",
       "      <td>2.300000</td>\n",
       "    </tr>\n",
       "  </tbody>\n",
       "</table>\n",
       "</div>"
      ],
      "text/plain": [
       "              sepal_length  sepal_width  petal_width\n",
       "petal_length                                        \n",
       "1.0               4.600000     3.600000     0.200000\n",
       "1.1               4.300000     3.000000     0.100000\n",
       "1.2               5.400000     3.600000     0.200000\n",
       "1.3               4.842857     3.228571     0.257143\n",
       "1.4               4.916667     3.333333     0.216667\n",
       "1.5               5.128571     3.535714     0.221429\n",
       "1.6               4.914286     3.342857     0.285714\n",
       "1.7               5.400000     3.600000     0.350000\n",
       "1.9               4.950000     3.600000     0.300000\n",
       "3.0               5.100000     2.500000     1.100000\n",
       "3.3               4.950000     2.350000     1.000000\n",
       "3.5               5.350000     2.300000     1.000000\n",
       "3.6               5.600000     2.900000     1.300000\n",
       "3.7               5.500000     2.400000     1.000000\n",
       "3.8               5.500000     2.400000     1.100000\n",
       "3.9               5.533333     2.633333     1.233333\n",
       "4.0               5.780000     2.480000     1.220000\n",
       "4.1               5.700000     2.833333     1.200000\n",
       "4.2               5.725000     2.900000     1.325000\n",
       "4.3               6.300000     2.900000     1.300000\n",
       "4.4               6.275000     2.750000     1.325000\n",
       "4.5               5.775000     2.875000     1.512500\n",
       "4.6               6.400000     2.900000     1.400000\n",
       "4.7               6.440000     3.060000     1.420000\n",
       "4.8               6.225000     2.950000     1.700000\n",
       "4.9               6.240000     2.820000     1.720000\n",
       "5.0               6.175000     2.550000     1.775000\n",
       "5.1               6.125000     2.875000     1.925000\n",
       "5.2               6.600000     3.000000     2.150000\n",
       "5.3               6.400000     2.950000     2.100000\n",
       "5.4               6.550000     3.250000     2.200000\n",
       "5.5               6.566667     3.033333     1.900000\n",
       "5.6               6.366667     2.933333     2.050000\n",
       "5.7               6.766667     3.266667     2.300000\n",
       "5.8               6.800000     2.833333     1.866667\n",
       "5.9               6.950000     3.100000     2.200000\n",
       "6.0               6.750000     3.250000     2.150000\n",
       "6.1               7.433333     3.133333     2.233333\n",
       "6.3               7.300000     2.900000     1.800000\n",
       "6.4               7.900000     3.800000     2.000000\n",
       "6.6               7.600000     3.000000     2.100000\n",
       "6.7               7.700000     3.300000     2.100000\n",
       "6.9               7.700000     2.600000     2.300000"
      ]
     },
     "execution_count": 107,
     "metadata": {},
     "output_type": "execute_result"
    }
   ],
   "source": [
    "dy.groupby('petal_length').mean()"
   ]
  },
  {
   "cell_type": "code",
   "execution_count": 108,
   "id": "8ca96ceb",
   "metadata": {},
   "outputs": [],
   "source": [
    "import pandas as pd\n",
    "import matplotlib.pyplot as plt"
   ]
  },
  {
   "cell_type": "code",
   "execution_count": 113,
   "id": "a01d8c6b",
   "metadata": {},
   "outputs": [
    {
     "data": {
      "image/png": "[encoded data removed]",
      "text/plain": [
       "<Figure size 432x288 with 1 Axes>"
      ]
     },
     "metadata": {
      "needs_background": "light"
     },
     "output_type": "display_data"
    }
   ],
   "source": [
    "ax=dy.sepal_length.plot.hist(bins=25)"
   ]
  },
  {
   "cell_type": "code",
   "execution_count": 114,
   "id": "dfa79316",
   "metadata": {},
   "outputs": [
    {
     "data": {
      "image/png": "[encoded data removed]",
      "text/plain": [
       "<Figure size 432x288 with 1 Axes>"
      ]
     },
     "metadata": {
      "needs_background": "light"
     },
     "output_type": "display_data"
    }
   ],
   "source": [
    "ax=dy.sepal_width.plot.hist(bins=25)"
   ]
  },
  {
   "cell_type": "code",
   "execution_count": 115,
   "id": "4eb7ec09",
   "metadata": {},
   "outputs": [
    {
     "data": {
      "image/png": "[encoded data removed]",
      "text/plain": [
       "<Figure size 432x288 with 1 Axes>"
      ]
     },
     "metadata": {
      "needs_background": "light"
     },
     "output_type": "display_data"
    }
   ],
   "source": [
    "ax=dy.petal_width.plot.hist(bins=25)"
   ]
  },
  {
   "cell_type": "code",
   "execution_count": 122,
   "id": "7fb9946d",
   "metadata": {},
   "outputs": [],
   "source": [
    "import seaborn as sns"
   ]
  },
  {
   "cell_type": "code",
   "execution_count": 126,
   "id": "1c7b8f56",
   "metadata": {},
   "outputs": [
    {
     "data": {
      "text/plain": [
       "array([[<AxesSubplot:title={'center':'sepal_length'}>,\n",
       "        <AxesSubplot:title={'center':'sepal_width'}>],\n",
       "       [<AxesSubplot:title={'center':'petal_length'}>,\n",
       "        <AxesSubplot:title={'center':'petal_width'}>]], dtype=object)"
      ]
     },
     "execution_count": 126,
     "metadata": {},
     "output_type": "execute_result"
    },
    {
     "data": {
      "image/png": "[encoded data removed]",
      "text/plain": [
       "<Figure size 720x720 with 4 Axes>"
      ]
     },
     "metadata": {
      "needs_background": "light"
     },
     "output_type": "display_data"
    }
   ],
   "source": [
    "dy.hist(bins=30, figsize=(10,10))"
   ]
  },
  {
   "cell_type": "code",
   "execution_count": 130,
   "id": "8ce267f5",
   "metadata": {},
   "outputs": [
    {
     "data": {
      "text/plain": [
       "array([[<AxesSubplot:title={'center':'petal_length'}, xlabel='[species]'>,\n",
       "        <AxesSubplot:title={'center':'petal_width'}, xlabel='[species]'>],\n",
       "       [<AxesSubplot:title={'center':'sepal_length'}, xlabel='[species]'>,\n",
       "        <AxesSubplot:title={'center':'sepal_width'}, xlabel='[species]'>]],\n",
       "      dtype=object)"
      ]
     },
     "execution_count": 130,
     "metadata": {},
     "output_type": "execute_result"
    },
    {
     "data": {
      "image/png": "[encoded data removed]",
      "text/plain": [
       "<Figure size 720x720 with 4 Axes>"
      ]
     },
     "metadata": {
      "needs_background": "light"
     },
     "output_type": "display_data"
    }
   ],
   "source": [
    "dy.boxplot(by='species', figsize=(10,10))"
   ]
  },
  {
   "cell_type": "code",
   "execution_count": 131,
   "id": "d5865dcb",
   "metadata": {},
   "outputs": [
    {
     "data": {
      "text/plain": [
       "array([[<AxesSubplot:title={'center':'petal_length'}, xlabel='[sepal_length]'>,\n",
       "        <AxesSubplot:title={'center':'petal_width'}, xlabel='[sepal_length]'>],\n",
       "       [<AxesSubplot:title={'center':'sepal_width'}, xlabel='[sepal_length]'>,\n",
       "        <AxesSubplot:>]], dtype=object)"
      ]
     },
     "execution_count": 131,
     "metadata": {},
     "output_type": "execute_result"
    },
    {
     "data": {
      "image/png": "[encoded data removed]",
      "text/plain": [
       "<Figure size 360x360 with 4 Axes>"
      ]
     },
     "metadata": {
      "needs_background": "light"
     },
     "output_type": "display_data"
    }
   ],
   "source": [
    "dy.boxplot(by='sepal_length', figsize=(5,5))"
   ]
  },
  {
   "cell_type": "code",
   "execution_count": 133,
   "id": "58fdcdec",
   "metadata": {},
   "outputs": [
    {
     "data": {
      "text/plain": [
       "array([[<AxesSubplot:title={'center':'petal_length'}, xlabel='[sepal_length]'>,\n",
       "        <AxesSubplot:title={'center':'petal_width'}, xlabel='[sepal_length]'>],\n",
       "       [<AxesSubplot:title={'center':'sepal_width'}, xlabel='[sepal_length]'>,\n",
       "        <AxesSubplot:>]], dtype=object)"
      ]
     },
     "execution_count": 133,
     "metadata": {},
     "output_type": "execute_result"
    },
    {
     "data": {
      "image/png": "[encoded data removed]",
      "text/plain": [
       "<Figure size 1080x1080 with 4 Axes>"
      ]
     },
     "metadata": {
      "needs_background": "light"
     },
     "output_type": "display_data"
    }
   ],
   "source": [
    "dy.boxplot(by='sepal_length', figsize=(15,15))"
   ]
  },
  {
   "cell_type": "code",
   "execution_count": 1,
   "id": "7ab81d52",
   "metadata": {},
   "outputs": [],
   "source": [
    "# There are not just 2 ways of dealing with outcast data or nan values\n",
    "# Rather there are 3 ways\n",
    "# 1. Deletion\n",
    "# 2. Imputation\n",
    "# 3. Masking- where the unknown values or the outcast data are put into different categories\n",
    "# The outcast data can we both useful as well as useless\n",
    "\n"
   ]
  },
  {
   "cell_type": "code",
   "execution_count": 2,
   "id": "5e892c6b",
   "metadata": {},
   "outputs": [
    {
     "data": {
      "text/html": [
       "<div>\n",
       "<style scoped>\n",
       "    .dataframe tbody tr th:only-of-type {\n",
       "        vertical-align: middle;\n",
       "    }\n",
       "\n",
       "    .dataframe tbody tr th {\n",
       "        vertical-align: top;\n",
       "    }\n",
       "\n",
       "    .dataframe thead th {\n",
       "        text-align: right;\n",
       "    }\n",
       "</style>\n",
       "<table border=\"1\" class=\"dataframe\">\n",
       "  <thead>\n",
       "    <tr style=\"text-align: right;\">\n",
       "      <th></th>\n",
       "      <th>A</th>\n",
       "      <th>B</th>\n",
       "    </tr>\n",
       "  </thead>\n",
       "  <tbody>\n",
       "    <tr>\n",
       "      <th>0</th>\n",
       "      <td>1</td>\n",
       "      <td>5</td>\n",
       "    </tr>\n",
       "    <tr>\n",
       "      <th>1</th>\n",
       "      <td>2</td>\n",
       "      <td>6</td>\n",
       "    </tr>\n",
       "    <tr>\n",
       "      <th>2</th>\n",
       "      <td>3</td>\n",
       "      <td>7</td>\n",
       "    </tr>\n",
       "    <tr>\n",
       "      <th>3</th>\n",
       "      <td>4</td>\n",
       "      <td>8</td>\n",
       "    </tr>\n",
       "  </tbody>\n",
       "</table>\n",
       "</div>"
      ],
      "text/plain": [
       "   A  B\n",
       "0  1  5\n",
       "1  2  6\n",
       "2  3  7\n",
       "3  4  8"
      ]
     },
     "execution_count": 2,
     "metadata": {},
     "output_type": "execute_result"
    }
   ],
   "source": [
    "import numpy as np\n",
    "import pandas as pd\n",
    "df=pd.DataFrame({'A':[1,2,3,4], 'B':[5,6,7,8]})\n",
    "df"
   ]
  },
  {
   "cell_type": "code",
   "execution_count": 3,
   "id": "9361e594",
   "metadata": {},
   "outputs": [
    {
     "data": {
      "text/html": [
       "<div>\n",
       "<style scoped>\n",
       "    .dataframe tbody tr th:only-of-type {\n",
       "        vertical-align: middle;\n",
       "    }\n",
       "\n",
       "    .dataframe tbody tr th {\n",
       "        vertical-align: top;\n",
       "    }\n",
       "\n",
       "    .dataframe thead th {\n",
       "        text-align: right;\n",
       "    }\n",
       "</style>\n",
       "<table border=\"1\" class=\"dataframe\">\n",
       "  <thead>\n",
       "    <tr style=\"text-align: right;\">\n",
       "      <th></th>\n",
       "      <th>A</th>\n",
       "      <th>B</th>\n",
       "      <th>C</th>\n",
       "    </tr>\n",
       "  </thead>\n",
       "  <tbody>\n",
       "    <tr>\n",
       "      <th>0</th>\n",
       "      <td>1</td>\n",
       "      <td>1.0</td>\n",
       "      <td>2.0</td>\n",
       "    </tr>\n",
       "    <tr>\n",
       "      <th>1</th>\n",
       "      <td>2</td>\n",
       "      <td>2.0</td>\n",
       "      <td>NaN</td>\n",
       "    </tr>\n",
       "    <tr>\n",
       "      <th>2</th>\n",
       "      <td>3</td>\n",
       "      <td>NaN</td>\n",
       "      <td>3.0</td>\n",
       "    </tr>\n",
       "    <tr>\n",
       "      <th>3</th>\n",
       "      <td>4</td>\n",
       "      <td>NaN</td>\n",
       "      <td>NaN</td>\n",
       "    </tr>\n",
       "  </tbody>\n",
       "</table>\n",
       "</div>"
      ],
      "text/plain": [
       "   A    B    C\n",
       "0  1  1.0  2.0\n",
       "1  2  2.0  NaN\n",
       "2  3  NaN  3.0\n",
       "3  4  NaN  NaN"
      ]
     },
     "execution_count": 3,
     "metadata": {},
     "output_type": "execute_result"
    }
   ],
   "source": [
    "import numpy as np\n",
    "import pandas as pd\n",
    "df=pd.DataFrame({'A':[1,2,3,4], 'B':[1,2,np.nan,np.nan], 'C':[2, np.nan, 3, np.nan]})\n",
    "df"
   ]
  },
  {
   "cell_type": "code",
   "execution_count": 6,
   "id": "d49eb69d",
   "metadata": {},
   "outputs": [
    {
     "data": {
      "text/html": [
       "<div>\n",
       "<style scoped>\n",
       "    .dataframe tbody tr th:only-of-type {\n",
       "        vertical-align: middle;\n",
       "    }\n",
       "\n",
       "    .dataframe tbody tr th {\n",
       "        vertical-align: top;\n",
       "    }\n",
       "\n",
       "    .dataframe thead th {\n",
       "        text-align: right;\n",
       "    }\n",
       "</style>\n",
       "<table border=\"1\" class=\"dataframe\">\n",
       "  <thead>\n",
       "    <tr style=\"text-align: right;\">\n",
       "      <th></th>\n",
       "      <th>A</th>\n",
       "    </tr>\n",
       "  </thead>\n",
       "  <tbody>\n",
       "    <tr>\n",
       "      <th>0</th>\n",
       "      <td>1</td>\n",
       "    </tr>\n",
       "    <tr>\n",
       "      <th>1</th>\n",
       "      <td>2</td>\n",
       "    </tr>\n",
       "    <tr>\n",
       "      <th>2</th>\n",
       "      <td>3</td>\n",
       "    </tr>\n",
       "    <tr>\n",
       "      <th>3</th>\n",
       "      <td>4</td>\n",
       "    </tr>\n",
       "  </tbody>\n",
       "</table>\n",
       "</div>"
      ],
      "text/plain": [
       "   A\n",
       "0  1\n",
       "1  2\n",
       "2  3\n",
       "3  4"
      ]
     },
     "execution_count": 6,
     "metadata": {},
     "output_type": "execute_result"
    }
   ],
   "source": [
    "df.dropna(axis=1)"
   ]
  },
  {
   "cell_type": "code",
   "execution_count": 8,
   "id": "2a9ca41f",
   "metadata": {},
   "outputs": [
    {
     "data": {
      "text/html": [
       "<div>\n",
       "<style scoped>\n",
       "    .dataframe tbody tr th:only-of-type {\n",
       "        vertical-align: middle;\n",
       "    }\n",
       "\n",
       "    .dataframe tbody tr th {\n",
       "        vertical-align: top;\n",
       "    }\n",
       "\n",
       "    .dataframe thead th {\n",
       "        text-align: right;\n",
       "    }\n",
       "</style>\n",
       "<table border=\"1\" class=\"dataframe\">\n",
       "  <thead>\n",
       "    <tr style=\"text-align: right;\">\n",
       "      <th></th>\n",
       "      <th>A</th>\n",
       "      <th>B</th>\n",
       "    </tr>\n",
       "  </thead>\n",
       "  <tbody>\n",
       "    <tr>\n",
       "      <th>0</th>\n",
       "      <td>2.0</td>\n",
       "      <td>NaN</td>\n",
       "    </tr>\n",
       "    <tr>\n",
       "      <th>1</th>\n",
       "      <td>3.0</td>\n",
       "      <td>2.0</td>\n",
       "    </tr>\n",
       "    <tr>\n",
       "      <th>2</th>\n",
       "      <td>4.0</td>\n",
       "      <td>NaN</td>\n",
       "    </tr>\n",
       "    <tr>\n",
       "      <th>3</th>\n",
       "      <td>NaN</td>\n",
       "      <td>4.0</td>\n",
       "    </tr>\n",
       "  </tbody>\n",
       "</table>\n",
       "</div>"
      ],
      "text/plain": [
       "     A    B\n",
       "0  2.0  NaN\n",
       "1  3.0  2.0\n",
       "2  4.0  NaN\n",
       "3  NaN  4.0"
      ]
     },
     "execution_count": 8,
     "metadata": {},
     "output_type": "execute_result"
    }
   ],
   "source": [
    "import numpy as np\n",
    "import pandas as pd\n",
    "dt=pd.DataFrame({'A':[2,3,4,np.nan], 'B':[np.nan, 2, np.nan, 4]})\n",
    "dt"
   ]
  },
  {
   "cell_type": "code",
   "execution_count": 9,
   "id": "b1bcac65",
   "metadata": {},
   "outputs": [
    {
     "data": {
      "text/html": [
       "<div>\n",
       "<style scoped>\n",
       "    .dataframe tbody tr th:only-of-type {\n",
       "        vertical-align: middle;\n",
       "    }\n",
       "\n",
       "    .dataframe tbody tr th {\n",
       "        vertical-align: top;\n",
       "    }\n",
       "\n",
       "    .dataframe thead th {\n",
       "        text-align: right;\n",
       "    }\n",
       "</style>\n",
       "<table border=\"1\" class=\"dataframe\">\n",
       "  <thead>\n",
       "    <tr style=\"text-align: right;\">\n",
       "      <th></th>\n",
       "      <th>A</th>\n",
       "      <th>B</th>\n",
       "    </tr>\n",
       "  </thead>\n",
       "  <tbody>\n",
       "    <tr>\n",
       "      <th>1</th>\n",
       "      <td>3.0</td>\n",
       "      <td>2.0</td>\n",
       "    </tr>\n",
       "  </tbody>\n",
       "</table>\n",
       "</div>"
      ],
      "text/plain": [
       "     A    B\n",
       "1  3.0  2.0"
      ]
     },
     "execution_count": 9,
     "metadata": {},
     "output_type": "execute_result"
    }
   ],
   "source": [
    "dt.dropna()"
   ]
  },
  {
   "cell_type": "code",
   "execution_count": 10,
   "id": "350c33cc",
   "metadata": {},
   "outputs": [
    {
     "data": {
      "text/html": [
       "<div>\n",
       "<style scoped>\n",
       "    .dataframe tbody tr th:only-of-type {\n",
       "        vertical-align: middle;\n",
       "    }\n",
       "\n",
       "    .dataframe tbody tr th {\n",
       "        vertical-align: top;\n",
       "    }\n",
       "\n",
       "    .dataframe thead th {\n",
       "        text-align: right;\n",
       "    }\n",
       "</style>\n",
       "<table border=\"1\" class=\"dataframe\">\n",
       "  <thead>\n",
       "    <tr style=\"text-align: right;\">\n",
       "      <th></th>\n",
       "      <th>A</th>\n",
       "      <th>B</th>\n",
       "    </tr>\n",
       "  </thead>\n",
       "  <tbody>\n",
       "    <tr>\n",
       "      <th>0</th>\n",
       "      <td>2.0</td>\n",
       "      <td>Bithch</td>\n",
       "    </tr>\n",
       "    <tr>\n",
       "      <th>1</th>\n",
       "      <td>3.0</td>\n",
       "      <td>2.0</td>\n",
       "    </tr>\n",
       "    <tr>\n",
       "      <th>2</th>\n",
       "      <td>4.0</td>\n",
       "      <td>Bithch</td>\n",
       "    </tr>\n",
       "    <tr>\n",
       "      <th>3</th>\n",
       "      <td>Bithch</td>\n",
       "      <td>4.0</td>\n",
       "    </tr>\n",
       "  </tbody>\n",
       "</table>\n",
       "</div>"
      ],
      "text/plain": [
       "        A       B\n",
       "0     2.0  Bithch\n",
       "1     3.0     2.0\n",
       "2     4.0  Bithch\n",
       "3  Bithch     4.0"
      ]
     },
     "execution_count": 10,
     "metadata": {},
     "output_type": "execute_result"
    }
   ],
   "source": [
    "dt.fillna(\"Bithch\")"
   ]
  },
  {
   "cell_type": "code",
   "execution_count": 14,
   "id": "477dcc0c",
   "metadata": {},
   "outputs": [
    {
     "data": {
      "text/html": [
       "<div>\n",
       "<style scoped>\n",
       "    .dataframe tbody tr th:only-of-type {\n",
       "        vertical-align: middle;\n",
       "    }\n",
       "\n",
       "    .dataframe tbody tr th {\n",
       "        vertical-align: top;\n",
       "    }\n",
       "\n",
       "    .dataframe thead th {\n",
       "        text-align: right;\n",
       "    }\n",
       "</style>\n",
       "<table border=\"1\" class=\"dataframe\">\n",
       "  <thead>\n",
       "    <tr style=\"text-align: right;\">\n",
       "      <th></th>\n",
       "      <th>A</th>\n",
       "      <th>B</th>\n",
       "    </tr>\n",
       "  </thead>\n",
       "  <tbody>\n",
       "    <tr>\n",
       "      <th>0</th>\n",
       "      <td>2.0</td>\n",
       "      <td>mean</td>\n",
       "    </tr>\n",
       "    <tr>\n",
       "      <th>1</th>\n",
       "      <td>3.0</td>\n",
       "      <td>2.0</td>\n",
       "    </tr>\n",
       "    <tr>\n",
       "      <th>2</th>\n",
       "      <td>4.0</td>\n",
       "      <td>mean</td>\n",
       "    </tr>\n",
       "    <tr>\n",
       "      <th>3</th>\n",
       "      <td>mean</td>\n",
       "      <td>4.0</td>\n",
       "    </tr>\n",
       "  </tbody>\n",
       "</table>\n",
       "</div>"
      ],
      "text/plain": [
       "      A     B\n",
       "0   2.0  mean\n",
       "1   3.0   2.0\n",
       "2   4.0  mean\n",
       "3  mean   4.0"
      ]
     },
     "execution_count": 14,
     "metadata": {},
     "output_type": "execute_result"
    }
   ],
   "source": [
    "dt.fillna('mean')"
   ]
  },
  {
   "cell_type": "markdown",
   "id": "f046ba9b",
   "metadata": {},
   "source": [
    "# Applying mean, median and mode"
   ]
  },
  {
   "cell_type": "code",
   "execution_count": 23,
   "id": "91e45c9f",
   "metadata": {},
   "outputs": [
    {
     "data": {
      "text/plain": [
       "0    2.0\n",
       "1    3.0\n",
       "2    4.0\n",
       "3    3.0\n",
       "Name: A, dtype: float64"
      ]
     },
     "execution_count": 23,
     "metadata": {},
     "output_type": "execute_result"
    }
   ],
   "source": [
    "dt\n",
    "dt['A'].fillna(value=df['A'].mean())\n",
    "# dt['B'].fillna(value=df['B'].mean())"
   ]
  },
  {
   "cell_type": "markdown",
   "id": "5c4ddf29",
   "metadata": {},
   "source": [
    "## Simple Imputer"
   ]
  },
  {
   "cell_type": "code",
   "execution_count": 24,
   "id": "e644efa3",
   "metadata": {},
   "outputs": [
    {
     "ename": "ModuleNotFoundError",
     "evalue": "No module named 'sklearn.imputer'",
     "output_type": "error",
     "traceback": [
      "\u001b[0;31m---------------------------------------------------------------------------\u001b[0m",
      "\u001b[0;31mModuleNotFoundError\u001b[0m                       Traceback (most recent call last)",
      "\u001b[0;32m<ipython-input-24-d0dd49f27dcb>\u001b[0m in \u001b[0;36m<module>\u001b[0;34m\u001b[0m\n\u001b[0;32m----> 1\u001b[0;31m \u001b[0;32mfrom\u001b[0m \u001b[0msklearn\u001b[0m\u001b[0;34m.\u001b[0m\u001b[0mimputer\u001b[0m \u001b[0;32mimport\u001b[0m \u001b[0mSimpleImputer\u001b[0m\u001b[0;34m\u001b[0m\u001b[0;34m\u001b[0m\u001b[0m\n\u001b[0m\u001b[1;32m      2\u001b[0m \u001b[0mimr\u001b[0m\u001b[0;34m=\u001b[0m\u001b[0mSimpleImputer\u001b[0m\u001b[0;34m(\u001b[0m\u001b[0;34m)\u001b[0m\u001b[0;34m\u001b[0m\u001b[0;34m\u001b[0m\u001b[0m\n",
      "\u001b[0;31mModuleNotFoundError\u001b[0m: No module named 'sklearn.imputer'"
     ]
    }
   ],
   "source": [
    "from sklearn.imputer import SimpleImputer\n",
    "imr=SimpleImputer()"
   ]
  },
  {
   "cell_type": "code",
   "execution_count": 1,
   "id": "c7202147",
   "metadata": {},
   "outputs": [],
   "source": [
    "# Hierarchical clustering is divided into 2 types: Divisive and aglomative"
   ]
  },
  {
   "cell_type": "code",
   "execution_count": 2,
   "id": "6f1d407f",
   "metadata": {},
   "outputs": [],
   "source": [
    "# Divisive: Top to bottom\n",
    "# Aglomative: bottom to top"
   ]
  },
  {
   "cell_type": "code",
   "execution_count": 3,
   "id": "91735b84",
   "metadata": {},
   "outputs": [],
   "source": [
    "# Dissimilar elements: Complete Linkage\n",
    "# Similar Elements: Single linkage"
   ]
  },
  {
   "cell_type": "code",
   "execution_count": 34,
   "id": "52ab6231",
   "metadata": {},
   "outputs": [
    {
     "data": {
      "text/plain": [
       "(10,)"
      ]
     },
     "execution_count": 34,
     "metadata": {},
     "output_type": "execute_result"
    }
   ],
   "source": [
    "import numpy as np\n",
    "import matplotlib.pyplot as plt\n",
    "a1 = np.array([6.9, 6.7, 2.3, 1.1, 1.4, 1.8, 2.4, 2.7, 2.8, 5.5])\n",
    "a2 = np.array([9.0, 1.0, 3.3, 7.6, 8.0, 9.1, 2.0, 3.6, 9.3, 8.3])\n",
    "a1.shape # Let a1 represent x axis "
   ]
  },
  {
   "cell_type": "code",
   "execution_count": 35,
   "id": "63fdc1fe",
   "metadata": {},
   "outputs": [
    {
     "data": {
      "text/plain": [
       "(10,)"
      ]
     },
     "execution_count": 35,
     "metadata": {},
     "output_type": "execute_result"
    }
   ],
   "source": [
    "a2.shape # Let a2 represent y axis"
   ]
  },
  {
   "cell_type": "code",
   "execution_count": 36,
   "id": "5ce2ce65",
   "metadata": {},
   "outputs": [],
   "source": [
    "c1 = np.array([2.3, 3.3]) # Let c1 be the 1st centroid\n",
    "c2 = np.array([6.7, 1.0]) # Let c2 be the 2nd centroid\n",
    "c3 = np.array([1.8, 9.1]) # Let c3 be the 3rd centroid"
   ]
  },
  {
   "cell_type": "code",
   "execution_count": 37,
   "id": "f2a5c3ed",
   "metadata": {},
   "outputs": [
    {
     "data": {
      "text/plain": [
       "<matplotlib.collections.PathCollection at 0x7fcd2e0a8910>"
      ]
     },
     "execution_count": 37,
     "metadata": {},
     "output_type": "execute_result"
    },
    {
     "data": {
      "image/png": "[encoded data removed]",
      "text/plain": [
       "<Figure size 432x288 with 1 Axes>"
      ]
     },
     "metadata": {
      "needs_background": "light"
     },
     "output_type": "display_data"
    }
   ],
   "source": [
    "plt.scatter(a1,a2)"
   ]
  },
  {
   "cell_type": "code",
   "execution_count": 38,
   "id": "8db79d7c",
   "metadata": {},
   "outputs": [
    {
     "data": {
      "text/plain": [
       "<matplotlib.legend.Legend at 0x7fcd2e29ff70>"
      ]
     },
     "execution_count": 38,
     "metadata": {},
     "output_type": "execute_result"
    },
    {
     "data": {
      "image/png": "[encoded data removed]",
      "text/plain": [
       "<Figure size 432x288 with 1 Axes>"
      ]
     },
     "metadata": {
      "needs_background": "light"
     },
     "output_type": "display_data"
    }
   ],
   "source": [
    "plt.scatter(c1[0], c1[1], label='centroid 1')\n",
    "plt.scatter(c2[0], c2[1], label='centroid 2')\n",
    "plt.scatter(c3[0], c3[1], label='centroid 3')\n",
    "plt.legend()"
   ]
  },
  {
   "cell_type": "code",
   "execution_count": 39,
   "id": "2fa554b7",
   "metadata": {},
   "outputs": [
    {
     "data": {
      "text/plain": [
       "<matplotlib.legend.Legend at 0x7fcd2e48de50>"
      ]
     },
     "execution_count": 39,
     "metadata": {},
     "output_type": "execute_result"
    },
    {
     "data": {
      "image/png": "[encoded data removed]",
      "text/plain": [
       "<Figure size 432x288 with 1 Axes>"
      ]
     },
     "metadata": {
      "needs_background": "light"
     },
     "output_type": "display_data"
    }
   ],
   "source": [
    "plt.scatter(a1,a2)\n",
    "plt.scatter(c1[0], c1[1], label='centroid 1')\n",
    "plt.scatter(c2[0], c2[1], label='centroid 2')\n",
    "plt.scatter(c3[0], c3[1], label='centroid 3')\n",
    "plt.legend()"
   ]
  },
  {
   "cell_type": "code",
   "execution_count": 40,
   "id": "75d9a491",
   "metadata": {},
   "outputs": [],
   "source": [
    "def distance(a,b,c):\n",
    "    return(np.sqrt(((c[0]-a)**2)+((c[1]-b)**2)))"
   ]
  },
  {
   "cell_type": "code",
   "execution_count": 41,
   "id": "b1b78032",
   "metadata": {},
   "outputs": [
    {
     "name": "stdout",
     "output_type": "stream",
     "text": [
      "Iteration:  0\n"
     ]
    },
    {
     "data": {
      "image/png": "[encoded data removed]",
      "text/plain": [
       "<Figure size 432x288 with 1 Axes>"
      ]
     },
     "metadata": {
      "needs_background": "light"
     },
     "output_type": "display_data"
    },
    {
     "name": "stdout",
     "output_type": "stream",
     "text": [
      "[2.46666667 2.96666667]\n",
      "[6.7 1. ]\n",
      "[3.25 8.55]\n",
      "Iteration:  1\n"
     ]
    },
    {
     "data": {
      "image/png": "[encoded data removed]",
      "text/plain": [
       "<Figure size 432x288 with 1 Axes>"
      ]
     },
     "metadata": {
      "needs_background": "light"
     },
     "output_type": "display_data"
    },
    {
     "name": "stdout",
     "output_type": "stream",
     "text": [
      "[2.46666667 2.96666667]\n",
      "[6.7 1. ]\n",
      "[3.25 8.55]\n",
      "Iteration:  2\n"
     ]
    },
    {
     "data": {
      "image/png": "[encoded data removed]",
      "text/plain": [
       "<Figure size 432x288 with 1 Axes>"
      ]
     },
     "metadata": {
      "needs_background": "light"
     },
     "output_type": "display_data"
    },
    {
     "name": "stdout",
     "output_type": "stream",
     "text": [
      "[2.46666667 2.96666667]\n",
      "[6.7 1. ]\n",
      "[3.25 8.55]\n",
      "Iteration:  3\n"
     ]
    },
    {
     "data": {
      "image/png": "[encoded data removed]",
      "text/plain": [
       "<Figure size 432x288 with 1 Axes>"
      ]
     },
     "metadata": {
      "needs_background": "light"
     },
     "output_type": "display_data"
    },
    {
     "name": "stdout",
     "output_type": "stream",
     "text": [
      "[2.46666667 2.96666667]\n",
      "[6.7 1. ]\n",
      "[3.25 8.55]\n",
      "Iteration:  4\n"
     ]
    },
    {
     "data": {
      "image/png": "[encoded data removed]",
      "text/plain": [
       "<Figure size 432x288 with 1 Axes>"
      ]
     },
     "metadata": {
      "needs_background": "light"
     },
     "output_type": "display_data"
    },
    {
     "name": "stdout",
     "output_type": "stream",
     "text": [
      "[2.46666667 2.96666667]\n",
      "[6.7 1. ]\n",
      "[3.25 8.55]\n"
     ]
    }
   ],
   "source": [
    "for j in range(5):\n",
    "  print(\"Iteration: \", j)\n",
    "  cluster1=[]\n",
    "  cluster2=[]\n",
    "  cluster3=[]\n",
    "  for i in range(np.size(a1)):\n",
    "    d1=distance(a1[i], a2[i], c1)\n",
    "    d2=distance(a1[i], a2[i], c2)\n",
    "    d3=distance(a1[i], a2[i], c3)\n",
    "    cluster=np.argmin([d1, d2, d3])\n",
    "    if cluster == 0:\n",
    "      cluster1.append([a1[i],a2[i]])\n",
    "    elif cluster ==1:\n",
    "      cluster2.append([a1[i],a2[i]])\n",
    "    else:\n",
    "      cluster3.append([a1[i],a2[i]])\n",
    "  for i in range(len(cluster1)):\n",
    "    plt.scatter(cluster1[i][0], cluster1[i][1], c='orange')\n",
    "  for i in range(len(cluster2)):\n",
    "    plt.scatter(cluster2[i][0], cluster2[i][1], c='green')\n",
    "  for i in range(len(cluster3)):\n",
    "    plt.scatter(cluster3[i][0], cluster3[i][1], c='red')\n",
    "  plt.show()\n",
    "  cluster1=np.array(cluster1)\n",
    "  cluster2=np.array(cluster2)\n",
    "  cluster3=np.array(cluster3)\n",
    "  c1=np.mean(cluster1, axis=0)\n",
    "  c2=np.mean(cluster2, axis=0)\n",
    "  c3=np.mean(cluster3, axis=0)\n",
    "  print(c1)\n",
    "  print(c2)\n",
    "  print(c3)\n"
   ]
  },
  {
   "cell_type": "code",
   "execution_count": 1,
   "id": "75fc51fc",
   "metadata": {},
   "outputs": [
    {
     "name": "stdout",
     "output_type": "stream",
     "text": [
      "[[5.1 3.5 1.4 0.2]\n",
      " [4.9 3.  1.4 0.2]\n",
      " [4.7 3.2 1.3 0.2]\n",
      " [4.6 3.1 1.5 0.2]\n",
      " [5.  3.6 1.4 0.2]\n",
      " [5.4 3.9 1.7 0.4]\n",
      " [4.6 3.4 1.4 0.3]\n",
      " [5.  3.4 1.5 0.2]\n",
      " [4.4 2.9 1.4 0.2]\n",
      " [4.9 3.1 1.5 0.1]\n",
      " [5.4 3.7 1.5 0.2]\n",
      " [4.8 3.4 1.6 0.2]\n",
      " [4.8 3.  1.4 0.1]\n",
      " [4.3 3.  1.1 0.1]\n",
      " [5.8 4.  1.2 0.2]\n",
      " [5.7 4.4 1.5 0.4]\n",
      " [5.4 3.9 1.3 0.4]\n",
      " [5.1 3.5 1.4 0.3]\n",
      " [5.7 3.8 1.7 0.3]\n",
      " [5.1 3.8 1.5 0.3]\n",
      " [5.4 3.4 1.7 0.2]\n",
      " [5.1 3.7 1.5 0.4]\n",
      " [4.6 3.6 1.  0.2]\n",
      " [5.1 3.3 1.7 0.5]\n",
      " [4.8 3.4 1.9 0.2]\n",
      " [5.  3.  1.6 0.2]\n",
      " [5.  3.4 1.6 0.4]\n",
      " [5.2 3.5 1.5 0.2]\n",
      " [5.2 3.4 1.4 0.2]\n",
      " [4.7 3.2 1.6 0.2]\n",
      " [4.8 3.1 1.6 0.2]\n",
      " [5.4 3.4 1.5 0.4]\n",
      " [5.2 4.1 1.5 0.1]\n",
      " [5.5 4.2 1.4 0.2]\n",
      " [4.9 3.1 1.5 0.2]\n",
      " [5.  3.2 1.2 0.2]\n",
      " [5.5 3.5 1.3 0.2]\n",
      " [4.9 3.6 1.4 0.1]\n",
      " [4.4 3.  1.3 0.2]\n",
      " [5.1 3.4 1.5 0.2]\n",
      " [5.  3.5 1.3 0.3]\n",
      " [4.5 2.3 1.3 0.3]\n",
      " [4.4 3.2 1.3 0.2]\n",
      " [5.  3.5 1.6 0.6]\n",
      " [5.1 3.8 1.9 0.4]\n",
      " [4.8 3.  1.4 0.3]\n",
      " [5.1 3.8 1.6 0.2]\n",
      " [4.6 3.2 1.4 0.2]\n",
      " [5.3 3.7 1.5 0.2]\n",
      " [5.  3.3 1.4 0.2]\n",
      " [7.  3.2 4.7 1.4]\n",
      " [6.4 3.2 4.5 1.5]\n",
      " [6.9 3.1 4.9 1.5]\n",
      " [5.5 2.3 4.  1.3]\n",
      " [6.5 2.8 4.6 1.5]\n",
      " [5.7 2.8 4.5 1.3]\n",
      " [6.3 3.3 4.7 1.6]\n",
      " [4.9 2.4 3.3 1. ]\n",
      " [6.6 2.9 4.6 1.3]\n",
      " [5.2 2.7 3.9 1.4]\n",
      " [5.  2.  3.5 1. ]\n",
      " [5.9 3.  4.2 1.5]\n",
      " [6.  2.2 4.  1. ]\n",
      " [6.1 2.9 4.7 1.4]\n",
      " [5.6 2.9 3.6 1.3]\n",
      " [6.7 3.1 4.4 1.4]\n",
      " [5.6 3.  4.5 1.5]\n",
      " [5.8 2.7 4.1 1. ]\n",
      " [6.2 2.2 4.5 1.5]\n",
      " [5.6 2.5 3.9 1.1]\n",
      " [5.9 3.2 4.8 1.8]\n",
      " [6.1 2.8 4.  1.3]\n",
      " [6.3 2.5 4.9 1.5]\n",
      " [6.1 2.8 4.7 1.2]\n",
      " [6.4 2.9 4.3 1.3]\n",
      " [6.6 3.  4.4 1.4]\n",
      " [6.8 2.8 4.8 1.4]\n",
      " [6.7 3.  5.  1.7]\n",
      " [6.  2.9 4.5 1.5]\n",
      " [5.7 2.6 3.5 1. ]\n",
      " [5.5 2.4 3.8 1.1]\n",
      " [5.5 2.4 3.7 1. ]\n",
      " [5.8 2.7 3.9 1.2]\n",
      " [6.  2.7 5.1 1.6]\n",
      " [5.4 3.  4.5 1.5]\n",
      " [6.  3.4 4.5 1.6]\n",
      " [6.7 3.1 4.7 1.5]\n",
      " [6.3 2.3 4.4 1.3]\n",
      " [5.6 3.  4.1 1.3]\n",
      " [5.5 2.5 4.  1.3]\n",
      " [5.5 2.6 4.4 1.2]\n",
      " [6.1 3.  4.6 1.4]\n",
      " [5.8 2.6 4.  1.2]\n",
      " [5.  2.3 3.3 1. ]\n",
      " [5.6 2.7 4.2 1.3]\n",
      " [5.7 3.  4.2 1.2]\n",
      " [5.7 2.9 4.2 1.3]\n",
      " [6.2 2.9 4.3 1.3]\n",
      " [5.1 2.5 3.  1.1]\n",
      " [5.7 2.8 4.1 1.3]\n",
      " [6.3 3.3 6.  2.5]\n",
      " [5.8 2.7 5.1 1.9]\n",
      " [7.1 3.  5.9 2.1]\n",
      " [6.3 2.9 5.6 1.8]\n",
      " [6.5 3.  5.8 2.2]\n",
      " [7.6 3.  6.6 2.1]\n",
      " [4.9 2.5 4.5 1.7]\n",
      " [7.3 2.9 6.3 1.8]\n",
      " [6.7 2.5 5.8 1.8]\n",
      " [7.2 3.6 6.1 2.5]\n",
      " [6.5 3.2 5.1 2. ]\n",
      " [6.4 2.7 5.3 1.9]\n",
      " [6.8 3.  5.5 2.1]\n",
      " [5.7 2.5 5.  2. ]\n",
      " [5.8 2.8 5.1 2.4]\n",
      " [6.4 3.2 5.3 2.3]\n",
      " [6.5 3.  5.5 1.8]\n",
      " [7.7 3.8 6.7 2.2]\n",
      " [7.7 2.6 6.9 2.3]\n",
      " [6.  2.2 5.  1.5]\n",
      " [6.9 3.2 5.7 2.3]\n",
      " [5.6 2.8 4.9 2. ]\n",
      " [7.7 2.8 6.7 2. ]\n",
      " [6.3 2.7 4.9 1.8]\n",
      " [6.7 3.3 5.7 2.1]\n",
      " [7.2 3.2 6.  1.8]\n",
      " [6.2 2.8 4.8 1.8]\n",
      " [6.1 3.  4.9 1.8]\n",
      " [6.4 2.8 5.6 2.1]\n",
      " [7.2 3.  5.8 1.6]\n",
      " [7.4 2.8 6.1 1.9]\n",
      " [7.9 3.8 6.4 2. ]\n",
      " [6.4 2.8 5.6 2.2]\n",
      " [6.3 2.8 5.1 1.5]\n",
      " [6.1 2.6 5.6 1.4]\n",
      " [7.7 3.  6.1 2.3]\n",
      " [6.3 3.4 5.6 2.4]\n",
      " [6.4 3.1 5.5 1.8]\n",
      " [6.  3.  4.8 1.8]\n",
      " [6.9 3.1 5.4 2.1]\n",
      " [6.7 3.1 5.6 2.4]\n",
      " [6.9 3.1 5.1 2.3]\n",
      " [5.8 2.7 5.1 1.9]\n",
      " [6.8 3.2 5.9 2.3]\n",
      " [6.7 3.3 5.7 2.5]\n",
      " [6.7 3.  5.2 2.3]\n",
      " [6.3 2.5 5.  1.9]\n",
      " [6.5 3.  5.2 2. ]\n",
      " [6.2 3.4 5.4 2.3]\n",
      " [5.9 3.  5.1 1.8]]\n",
      "[0 0 0 0 0 0 0 0 0 0 0 0 0 0 0 0 0 0 0 0 0 0 0 0 0 0 0 0 0 0 0 0 0 0 0 0 0\n",
      " 0 0 0 0 0 0 0 0 0 0 0 0 0 1 1 1 1 1 1 1 1 1 1 1 1 1 1 1 1 1 1 1 1 1 1 1 1\n",
      " 1 1 1 1 1 1 1 1 1 1 1 1 1 1 1 1 1 1 1 1 1 1 1 1 1 1 2 2 2 2 2 2 2 2 2 2 2\n",
      " 2 2 2 2 2 2 2 2 2 2 2 2 2 2 2 2 2 2 2 2 2 2 2 2 2 2 2 2 2 2 2 2 2 2 2 2 2\n",
      " 2 2]\n"
     ]
    }
   ],
   "source": [
    "from sklearn import datasets\n",
    "import numpy as np\n",
    "iris=datasets.load_iris()\n",
    "x=iris.data # x is where data resides\n",
    "y=iris.target # y is where target resides\n",
    "print(x)\n",
    "print(y)\n",
    "# Loading of dataset complete"
   ]
  },
  {
   "cell_type": "code",
   "execution_count": 2,
   "id": "6345b926",
   "metadata": {},
   "outputs": [
    {
     "name": "stdout",
     "output_type": "stream",
     "text": [
      "(150, 4)\n",
      "(120, 4)\n",
      "(30, 4)\n"
     ]
    }
   ],
   "source": [
    "# Now splitting the data into training and testing\n",
    "from sklearn.model_selection import train_test_split\n",
    "x_train, x_test, y_train, y_test=train_test_split(x,y,test_size=0.2, random_state=0)\n",
    "print(np.shape(x))\n",
    "print(np.shape(x_train))\n",
    "print(np.shape(x_test))"
   ]
  },
  {
   "cell_type": "code",
   "execution_count": 3,
   "id": "7baed850",
   "metadata": {},
   "outputs": [],
   "source": [
    "# Now we will proceed with feature selection\n",
    "from sklearn.preprocessing import StandardScaler\n",
    "sc=StandardScaler()\n",
    "sc.fit(x_train)\n",
    "x_train_std=sc.transform(x_train)\n",
    "x_test_std=sc.transform(x_test)"
   ]
  },
  {
   "cell_type": "code",
   "execution_count": 28,
   "id": "7952e915",
   "metadata": {},
   "outputs": [
    {
     "data": {
      "text/plain": [
       "LinearDiscriminantAnalysis(n_components=2)"
      ]
     },
     "execution_count": 28,
     "metadata": {},
     "output_type": "execute_result"
    }
   ],
   "source": [
    "from sklearn.discriminant_analysis import LinearDiscriminantAnalysis as LDA\n",
    "lda =LDA(n_components=2)\n",
    "lda"
   ]
  },
  {
   "cell_type": "code",
   "execution_count": 35,
   "id": "26cb2ecf",
   "metadata": {},
   "outputs": [],
   "source": [
    "x_train_lda = lda.fit_transform(x_train_std,y_train)\n",
    "x_test_lda = lda.fit_transform(x_test_std,y_test)"
   ]
  },
  {
   "cell_type": "code",
   "execution_count": 37,
   "id": "36941096",
   "metadata": {},
   "outputs": [
    {
     "data": {
      "text/plain": [
       "SVC()"
      ]
     },
     "execution_count": 37,
     "metadata": {},
     "output_type": "execute_result"
    }
   ],
   "source": [
    "#from sklearn import svm\n",
    "#clf = svm.SVC()\n",
    "#clf.fit(x_train,y_train)"
   ]
  },
  {
   "cell_type": "code",
   "execution_count": 38,
   "id": "932ce0f8",
   "metadata": {},
   "outputs": [
    {
     "data": {
      "text/plain": [
       "SVC()"
      ]
     },
     "execution_count": 38,
     "metadata": {},
     "output_type": "execute_result"
    }
   ],
   "source": [
    "from sklearn.svm import SVC\n",
    "svm1=SVC()\n",
    "svm1.fit(x_train_lda, y_train)"
   ]
  },
  {
   "cell_type": "code",
   "execution_count": 31,
   "id": "590bfe2c",
   "metadata": {},
   "outputs": [
    {
     "data": {
      "text/plain": [
       "1.0"
      ]
     },
     "execution_count": 31,
     "metadata": {},
     "output_type": "execute_result"
    }
   ],
   "source": [
    "y = clf.predict(x_test)\n",
    "from sklearn.metrics import accuracy_score\n",
    "accuracy_score(y,y_test)"
   ]
  },
  {
   "cell_type": "code",
   "execution_count": 32,
   "id": "4926c43f",
   "metadata": {},
   "outputs": [
    {
     "data": {
      "text/plain": [
       "SVC()"
      ]
     },
     "execution_count": 32,
     "metadata": {},
     "output_type": "execute_result"
    }
   ],
   "source": [
    "clf1 = svm.SVC()\n",
    "clf1.fit(x_train_lda,y_train)"
   ]
  },
  {
   "cell_type": "code",
   "execution_count": 33,
   "id": "846cb8ce",
   "metadata": {},
   "outputs": [
    {
     "data": {
      "text/plain": [
       "0.8666666666666667"
      ]
     },
     "execution_count": 33,
     "metadata": {},
     "output_type": "execute_result"
    }
   ],
   "source": [
    "y1=clf1.predict(x_test_lda)\n",
    "accuracy_score(y1,y_test)"
   ]
  },
  {
   "cell_type": "code",
   "execution_count": 1,
   "id": "346078a7",
   "metadata": {},
   "outputs": [],
   "source": [
    "import pandas as pd\n",
    "df=pd.read_csv('water_potability.csv')"
   ]
  },
  {
   "cell_type": "code",
   "execution_count": 4,
   "id": "074c5728",
   "metadata": {},
   "outputs": [
    {
     "data": {
      "text/html": [
       "<div>\n",
       "<style scoped>\n",
       "    .dataframe tbody tr th:only-of-type {\n",
       "        vertical-align: middle;\n",
       "    }\n",
       "\n",
       "    .dataframe tbody tr th {\n",
       "        vertical-align: top;\n",
       "    }\n",
       "\n",
       "    .dataframe thead th {\n",
       "        text-align: right;\n",
       "    }\n",
       "</style>\n",
       "<table border=\"1\" class=\"dataframe\">\n",
       "  <thead>\n",
       "    <tr style=\"text-align: right;\">\n",
       "      <th></th>\n",
       "      <th>ph</th>\n",
       "      <th>Hardness</th>\n",
       "      <th>Solids</th>\n",
       "      <th>Chloramines</th>\n",
       "      <th>Sulfate</th>\n",
       "      <th>Conductivity</th>\n",
       "      <th>Organic_carbon</th>\n",
       "      <th>Trihalomethanes</th>\n",
       "      <th>Turbidity</th>\n",
       "      <th>Potability</th>\n",
       "    </tr>\n",
       "  </thead>\n",
       "  <tbody>\n",
       "    <tr>\n",
       "      <th>0</th>\n",
       "      <td>NaN</td>\n",
       "      <td>204.890455</td>\n",
       "      <td>20791.318981</td>\n",
       "      <td>7.300212</td>\n",
       "      <td>368.516441</td>\n",
       "      <td>564.308654</td>\n",
       "      <td>10.379783</td>\n",
       "      <td>86.990970</td>\n",
       "      <td>2.963135</td>\n",
       "      <td>0</td>\n",
       "    </tr>\n",
       "    <tr>\n",
       "      <th>1</th>\n",
       "      <td>3.716080</td>\n",
       "      <td>129.422921</td>\n",
       "      <td>18630.057858</td>\n",
       "      <td>6.635246</td>\n",
       "      <td>NaN</td>\n",
       "      <td>592.885359</td>\n",
       "      <td>15.180013</td>\n",
       "      <td>56.329076</td>\n",
       "      <td>4.500656</td>\n",
       "      <td>0</td>\n",
       "    </tr>\n",
       "    <tr>\n",
       "      <th>2</th>\n",
       "      <td>8.099124</td>\n",
       "      <td>224.236259</td>\n",
       "      <td>19909.541732</td>\n",
       "      <td>9.275884</td>\n",
       "      <td>NaN</td>\n",
       "      <td>418.606213</td>\n",
       "      <td>16.868637</td>\n",
       "      <td>66.420093</td>\n",
       "      <td>3.055934</td>\n",
       "      <td>0</td>\n",
       "    </tr>\n",
       "    <tr>\n",
       "      <th>3</th>\n",
       "      <td>8.316766</td>\n",
       "      <td>214.373394</td>\n",
       "      <td>22018.417441</td>\n",
       "      <td>8.059332</td>\n",
       "      <td>356.886136</td>\n",
       "      <td>363.266516</td>\n",
       "      <td>18.436524</td>\n",
       "      <td>100.341674</td>\n",
       "      <td>4.628771</td>\n",
       "      <td>0</td>\n",
       "    </tr>\n",
       "    <tr>\n",
       "      <th>4</th>\n",
       "      <td>9.092223</td>\n",
       "      <td>181.101509</td>\n",
       "      <td>17978.986339</td>\n",
       "      <td>6.546600</td>\n",
       "      <td>310.135738</td>\n",
       "      <td>398.410813</td>\n",
       "      <td>11.558279</td>\n",
       "      <td>31.997993</td>\n",
       "      <td>4.075075</td>\n",
       "      <td>0</td>\n",
       "    </tr>\n",
       "  </tbody>\n",
       "</table>\n",
       "</div>"
      ],
      "text/plain": [
       "         ph    Hardness        Solids  Chloramines     Sulfate  Conductivity  \\\n",
       "0       NaN  204.890455  20791.318981     7.300212  368.516441    564.308654   \n",
       "1  3.716080  129.422921  18630.057858     6.635246         NaN    592.885359   \n",
       "2  8.099124  224.236259  19909.541732     9.275884         NaN    418.606213   \n",
       "3  8.316766  214.373394  22018.417441     8.059332  356.886136    363.266516   \n",
       "4  9.092223  181.101509  17978.986339     6.546600  310.135738    398.410813   \n",
       "\n",
       "   Organic_carbon  Trihalomethanes  Turbidity  Potability  \n",
       "0       10.379783        86.990970   2.963135           0  \n",
       "1       15.180013        56.329076   4.500656           0  \n",
       "2       16.868637        66.420093   3.055934           0  \n",
       "3       18.436524       100.341674   4.628771           0  \n",
       "4       11.558279        31.997993   4.075075           0  "
      ]
     },
     "execution_count": 4,
     "metadata": {},
     "output_type": "execute_result"
    }
   ],
   "source": [
    "df.head()"
   ]
  },
  {
   "cell_type": "code",
   "execution_count": null,
   "id": "37ba36f0",
   "metadata": {},
   "outputs": [],
   "source": [
    "c"
   ]
  }
 ],
 "metadata": {
  "kernelspec": {
   "display_name": "Python 3",
   "language": "python",
   "name": "python3"
  },
  "language_info": {
   "codemirror_mode": {
    "name": "ipython",
    "version": 3
   },
   "file_extension": ".py",
   "mimetype": "text/x-python",
   "name": "python",
   "nbconvert_exporter": "python",
   "pygments_lexer": "ipython3",
   "version": "3.8.8"
  }
 },
 "nbformat": 4,
 "nbformat_minor": 5
}
